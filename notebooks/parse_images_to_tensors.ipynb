{
 "cells": [
  {
   "cell_type": "code",
   "execution_count": 1,
   "metadata": {},
   "outputs": [],
   "source": [
    "%load_ext autoreload\n",
    "%autoreload 2\n",
    "\n",
    "import IPython\n",
    "from pathlib import Path\n",
    "import os\n",
    "locals = IPython.extract_module_locals() # type: ignore\n",
    "notebook_name = \"/\".join(locals[1][\"__vsc_ipynb_file__\"].split(\"/\"))\n",
    "os.chdir(Path(notebook_name).parent.parent)"
   ]
  },
  {
   "cell_type": "code",
   "execution_count": 2,
   "metadata": {},
   "outputs": [],
   "source": [
    "import torch\n",
    "from torchvision import transforms\n",
    "from retail_recommender_system.data.loader import load_dataset, DataConfig, DatasetEnum\n",
    "from retail_recommender_system.utils import read_imgs"
   ]
  },
  {
   "cell_type": "code",
   "execution_count": 3,
   "metadata": {},
   "outputs": [],
   "source": [
    "dataset = load_dataset(DataConfig(dataset=DatasetEnum.hm, prefix=\"frac_0_01\"))\n",
    "dataset.load()"
   ]
  },
  {
   "cell_type": "code",
   "execution_count": 4,
   "metadata": {},
   "outputs": [],
   "source": [
    "paths = dataset.data[\"items\"].select(\"article_id_map\", \"path\").sort(by=\"article_id_map\").get_column(\"path\").to_list()"
   ]
  },
  {
   "cell_type": "code",
   "execution_count": 5,
   "metadata": {},
   "outputs": [
    {
     "name": "stderr",
     "output_type": "stream",
     "text": [
      "100%|██████████| 51941/51941 [07:37<00:00, 113.65it/s]\n"
     ]
    }
   ],
   "source": [
    "default_size = (3, 28, 28)\n",
    "\n",
    "def _to_rgb(x):\n",
    "    return x.expand(3, -1, -1)\n",
    "\n",
    "def _to_float(x):\n",
    "    return x.to(torch.float32)\n",
    "\n",
    "def _rescale(x):\n",
    "    return (x / x.max()) * 2 - 1\n",
    "\n",
    "transform = transforms.Compose([\n",
    "    transforms.Resize(default_size[1:]),\n",
    "    _to_rgb,\n",
    "    _to_float,\n",
    "    _rescale,\n",
    "])\n",
    "\n",
    "images = read_imgs(paths, transform, default_size=(3, 28, 28), tqdm_=True)"
   ]
  },
  {
   "cell_type": "code",
   "execution_count": 6,
   "metadata": {},
   "outputs": [],
   "source": [
    "torch.save(images, \".data/hm/intermediate/frac_0_01/images.pt\")"
   ]
  },
  {
   "cell_type": "code",
   "execution_count": null,
   "metadata": {},
   "outputs": [],
   "source": []
  }
 ],
 "metadata": {
  "kernelspec": {
   "display_name": ".venv",
   "language": "python",
   "name": "python3"
  },
  "language_info": {
   "codemirror_mode": {
    "name": "ipython",
    "version": 3
   },
   "file_extension": ".py",
   "mimetype": "text/x-python",
   "name": "python",
   "nbconvert_exporter": "python",
   "pygments_lexer": "ipython3",
   "version": "3.10.14"
  }
 },
 "nbformat": 4,
 "nbformat_minor": 2
}
