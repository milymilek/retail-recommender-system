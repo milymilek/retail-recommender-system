{
 "cells": [
  {
   "cell_type": "code",
   "execution_count": 1,
   "metadata": {},
   "outputs": [],
   "source": [
    "%load_ext autoreload\n",
    "%autoreload 2\n",
    "\n",
    "import IPython\n",
    "from pathlib import Path\n",
    "import os\n",
    "locals = IPython.extract_module_locals() # type: ignore\n",
    "notebook_name = \"/\".join(locals[1][\"__vsc_ipynb_file__\"].split(\"/\"))\n",
    "os.chdir(Path(notebook_name).parent.parent)"
   ]
  },
  {
   "cell_type": "markdown",
   "metadata": {},
   "source": [
    "# **1. Train MF model using only the users and items IDs and the relations data.**"
   ]
  },
  {
   "cell_type": "code",
   "execution_count": 2,
   "metadata": {},
   "outputs": [],
   "source": [
    "import json\n",
    "import tempfile\n",
    "import os\n",
    "\n",
    "\n",
    "device = \"cpu\"\n",
    "data = {\n",
    "    \"data\": {\n",
    "        \"dataset\": \"hm\",\n",
    "        \"prefix\": \"aug_2020\"\n",
    "    },\n",
    "    \"train\": {\n",
    "        \"epochs\": 20,\n",
    "        \"valid_size\": 0.3,\n",
    "        \"batch_size\": 256,\n",
    "        \"train_print_every\": 100,\n",
    "        \"eval_batch_size\": 1,\n",
    "        \"eval_user_batch_size\": 1024,\n",
    "        \"eval_print_every\": 1,\n",
    "        \"neg_sampl\": 20,\n",
    "        \"lr\": 1e-2\n",
    "    },\n",
    "    \"model\": {\n",
    "        \"model_type\": \"MF\",\n",
    "        \"model_config\": {\n",
    "            \"emb_size\": 16,\n",
    "            \"dropout\": 0.2\n",
    "        }\n",
    "    }\n",
    "}\n",
    "\n",
    "temp_file = tempfile.NamedTemporaryFile(delete=False, mode='w', suffix='.json')\n",
    "json.dump(data, temp_file)\n",
    "temp_file.close()\n",
    "\n",
    "config_path = temp_file.name"
   ]
  },
  {
   "cell_type": "code",
   "execution_count": 3,
   "metadata": {},
   "outputs": [
    {
     "name": "stdout",
     "output_type": "stream",
     "text": [
      "2025-01-12 16:08:24,632 - retail_recommender_system.utils - INFO - Setting seed to 0\n",
      "2025-01-12 16:08:24,658 - retail_recommender_system.trainer.loader - INFO - Model configuration:\n",
      "{\n",
      "  \"model_type\": \"<class 'retail_recommender_system.models.mf.MF'>\",\n",
      "  \"model_config\": {\n",
      "    \"emb_size\": 16,\n",
      "    \"dropout\": 0.2\n",
      "  }\n",
      "}\n",
      "2025-01-12 16:08:24,658 - retail_recommender_system.trainer.loader - INFO - Train configuration:\n",
      "{\n",
      "  \"valid_size\": 0.3,\n",
      "  \"batch_size\": 256,\n",
      "  \"train_print_every\": 100,\n",
      "  \"eval_batch_size\": 1,\n",
      "  \"eval_user_batch_size\": 1024,\n",
      "  \"eval_print_every\": 1,\n",
      "  \"neg_sampl\": 20,\n",
      "  \"lr\": 0.01,\n",
      "  \"epochs\": 20\n",
      "}\n",
      "/Users/miloszhanczyk/Documents/uv/MOW_2/lab/retail_recommender_system/retail_recommender_system/models/mf.py:32: UserWarning: The given NumPy array is not writable, and PyTorch does not support non-writable tensors. This means writing to this tensor will result in undefined behavior. You may want to copy the array to protect its data or make it writable before converting it to a tensor. This type of warning will be suppressed for the rest of this program. (Triggered internally at /Users/runner/work/pytorch/pytorch/pytorch/torch/csrc/utils/tensor_numpy.cpp:212.)\n",
      "  self._users = torch.from_numpy(users.get_column(namings[\"user_id_map\"]).to_numpy()).to(torch.float32)\n",
      "2025-01-12 16:08:24,743 - retail_recommender_system.trainer.mf - INFO - Model: MF(\n",
      "  (user_factors): Embedding(279976, 16)\n",
      "  (item_factors): Embedding(31261, 16)\n",
      "  (dropout): Dropout(p=0.2, inplace=False)\n",
      "  (dot): DotProd()\n",
      ")\n",
      "2025-01-12 16:08:24,743 - retail_recommender_system.trainer.mf - INFO - Training model MF on device cpu\n",
      "  0%|                                                    | 0/20 [00:00<?, ?it/s]Train (Batch): [0/5451 (0%)] | Loss: 2.0130\n",
      "Train (Batch): [100/5451 (2%)] | Loss: 1.8886\n",
      "Train (Batch): [200/5451 (4%)] | Loss: 1.9373\n",
      "Train (Batch): [300/5451 (6%)] | Loss: 1.8319\n",
      "Train (Batch): [400/5451 (7%)] | Loss: 1.6735\n",
      "Train (Batch): [500/5451 (9%)] | Loss: 1.5866\n",
      "Train (Batch): [600/5451 (11%)] | Loss: 1.5133\n",
      "Train (Batch): [700/5451 (13%)] | Loss: 1.4562\n",
      "Train (Batch): [800/5451 (15%)] | Loss: 1.3424\n",
      "Train (Batch): [900/5451 (17%)] | Loss: 1.2978\n",
      "Train (Batch): [1000/5451 (18%)] | Loss: 1.2103\n",
      "Train (Batch): [1100/5451 (20%)] | Loss: 1.1452\n",
      "Train (Batch): [1200/5451 (22%)] | Loss: 1.0942\n",
      "Train (Batch): [1300/5451 (24%)] | Loss: 1.0691\n",
      "Train (Batch): [1400/5451 (26%)] | Loss: 1.0095\n",
      "Train (Batch): [1500/5451 (28%)] | Loss: 0.9552\n",
      "Train (Batch): [1600/5451 (29%)] | Loss: 0.9233\n",
      "Train (Batch): [1700/5451 (31%)] | Loss: 0.8727\n",
      "Train (Batch): [1800/5451 (33%)] | Loss: 0.8540\n",
      "Train (Batch): [1900/5451 (35%)] | Loss: 0.8442\n",
      "Train (Batch): [2000/5451 (37%)] | Loss: 0.8112\n",
      "Train (Batch): [2100/5451 (39%)] | Loss: 0.8073\n",
      "Train (Batch): [2200/5451 (40%)] | Loss: 0.8039\n",
      "Train (Batch): [2300/5451 (42%)] | Loss: 0.7795\n",
      "Train (Batch): [2400/5451 (44%)] | Loss: 0.7480\n",
      "Train (Batch): [2500/5451 (46%)] | Loss: 0.7483\n",
      "^C\n",
      "  0%|                                                    | 0/20 [00:21<?, ?it/s]\n",
      "Traceback (most recent call last):\n",
      "  File \"/Users/miloszhanczyk/.pyenv/versions/3.10.14/lib/python3.10/runpy.py\", line 196, in _run_module_as_main\n",
      "    return _run_code(code, main_globals, None,\n",
      "  File \"/Users/miloszhanczyk/.pyenv/versions/3.10.14/lib/python3.10/runpy.py\", line 86, in _run_code\n",
      "    exec(code, run_globals)\n",
      "  File \"/Users/miloszhanczyk/Documents/uv/MOW_2/lab/retail_recommender_system/retail_recommender_system/scripts/train.py\", line 57, in <module>\n",
      "    main(args)\n",
      "  File \"/Users/miloszhanczyk/Documents/uv/MOW_2/lab/retail_recommender_system/retail_recommender_system/scripts/train.py\", line 26, in main\n",
      "    history = trainer.fit()\n",
      "  File \"/Users/miloszhanczyk/Documents/uv/MOW_2/lab/retail_recommender_system/retail_recommender_system/trainer/mf.py\", line 173, in fit\n",
      "    train_loss, train_roc_auc = self.train(print_every=self.train_config.train_print_every)\n",
      "  File \"/Users/miloszhanczyk/Documents/uv/MOW_2/lab/retail_recommender_system/retail_recommender_system/trainer/mf.py\", line 114, in train\n",
      "    for batch_idx, batch in enumerate(self.loaders[\"train\"]):\n",
      "  File \"/Users/miloszhanczyk/Documents/uv/MOW_2/lab/retail_recommender_system/.venv/lib/python3.10/site-packages/torch/utils/data/dataloader.py\", line 701, in __next__\n",
      "    data = self._next_data()\n",
      "  File \"/Users/miloszhanczyk/Documents/uv/MOW_2/lab/retail_recommender_system/.venv/lib/python3.10/site-packages/torch/utils/data/dataloader.py\", line 757, in _next_data\n",
      "    data = self._dataset_fetcher.fetch(index)  # may raise StopIteration\n",
      "  File \"/Users/miloszhanczyk/Documents/uv/MOW_2/lab/retail_recommender_system/.venv/lib/python3.10/site-packages/torch/utils/data/_utils/fetch.py\", line 52, in fetch\n",
      "    data = [self.dataset[idx] for idx in possibly_batched_index]\n",
      "  File \"/Users/miloszhanczyk/Documents/uv/MOW_2/lab/retail_recommender_system/.venv/lib/python3.10/site-packages/torch/utils/data/_utils/fetch.py\", line 52, in <listcomp>\n",
      "    data = [self.dataset[idx] for idx in possibly_batched_index]\n",
      "  File \"/Users/miloszhanczyk/Documents/uv/MOW_2/lab/retail_recommender_system/retail_recommender_system/models/mf.py\", line 66, in __getitem__\n",
      "    target = torch.tensor([1.0] + [0.0] * self._neg_sampl, dtype=torch.float)\n",
      "KeyboardInterrupt\n"
     ]
    }
   ],
   "source": [
    "!python -m retail_recommender_system.scripts.train --config {config_path} --device {device}"
   ]
  },
  {
   "cell_type": "code",
   "execution_count": null,
   "metadata": {},
   "outputs": [],
   "source": [
    "os.remove(temp_file.name)"
   ]
  },
  {
   "cell_type": "code",
   "execution_count": null,
   "metadata": {},
   "outputs": [],
   "source": [
    "from IPython.display import Image\n",
    "\n",
    "run_id = \"2025-01-10_23-02-00\"\n",
    "\n",
    "with open(f\".runs/MF/{run_id}/history_log.json\") as f:\n",
    "    history = json.load(f)\n",
    "    \n",
    "image_path = f\".runs/MF/{run_id}/history_plot.png\"\n",
    "display(Image(filename=image_path))"
   ]
  },
  {
   "cell_type": "code",
   "execution_count": null,
   "metadata": {},
   "outputs": [],
   "source": [
    "print(json.dumps(history, indent=2))"
   ]
  },
  {
   "cell_type": "markdown",
   "metadata": {},
   "source": [
    "# **2. Summary (MF):**\n",
    "-"
   ]
  },
  {
   "cell_type": "code",
   "execution_count": null,
   "metadata": {},
   "outputs": [],
   "source": []
  },
  {
   "cell_type": "markdown",
   "metadata": {},
   "source": [
    "# **3. Train MFConv model using the relations data, users IDs, items IDs and item images.**"
   ]
  },
  {
   "cell_type": "code",
   "execution_count": 12,
   "metadata": {},
   "outputs": [],
   "source": [
    "import json\n",
    "import tempfile\n",
    "import os\n",
    "\n",
    "\n",
    "device = \"mps\"\n",
    "data = {\n",
    "    \"data\": {\n",
    "        \"dataset\": \"hm\",\n",
    "        \"prefix\": \"full\"\n",
    "    },\n",
    "    \"train\": {\n",
    "        \"epochs\": 20,\n",
    "        \"valid_size\": 0.3,\n",
    "        \"batch_size\": 256,\n",
    "        \"train_print_every\": 100,\n",
    "        \"eval_batch_size\": 1,\n",
    "        \"eval_user_batch_size\": 1024,\n",
    "        \"eval_print_every\": 1,\n",
    "        \"neg_sampl\": 20,\n",
    "        \"lr\": 1e-2\n",
    "    },\n",
    "    \"model\": {\n",
    "        \"model_type\": \"MFConv\",\n",
    "        \"model_config\": {\n",
    "            \"emb_size\": 32,\n",
    "            \"dropout\": 0.2,\n",
    "            \"image_size\": [\n",
    "                3,\n",
    "                128,\n",
    "                128\n",
    "            ]\n",
    "        }\n",
    "    }\n",
    "}\n",
    "\n",
    "temp_file = tempfile.NamedTemporaryFile(delete=False, mode='w', suffix='.json')\n",
    "json.dump(data, temp_file)\n",
    "temp_file.close()\n",
    "\n",
    "config_path = temp_file.name"
   ]
  },
  {
   "cell_type": "code",
   "execution_count": null,
   "metadata": {},
   "outputs": [],
   "source": [
    "!python -m retail_recommender_system.scripts.train --config {config_path} --device {device}"
   ]
  },
  {
   "cell_type": "code",
   "execution_count": 14,
   "metadata": {},
   "outputs": [],
   "source": [
    "os.remove(temp_file.name)"
   ]
  },
  {
   "cell_type": "code",
   "execution_count": null,
   "metadata": {},
   "outputs": [],
   "source": [
    "from IPython.display import Image\n",
    "\n",
    "run_id = \"2025-01-09_23-14-47\"\n",
    "\n",
    "with open(f\".runs/MFConv/{run_id}/history_log.json\") as f:\n",
    "    history = json.load(f)\n",
    "    \n",
    "image_path = f\".runs/MFConv/{run_id}/history_plot.png\"\n",
    "display(Image(filename=image_path))"
   ]
  },
  {
   "cell_type": "code",
   "execution_count": null,
   "metadata": {},
   "outputs": [],
   "source": [
    "print(json.dumps(history, indent=2))"
   ]
  },
  {
   "cell_type": "markdown",
   "metadata": {},
   "source": [
    "# **4. Summary (MFConv):**\n",
    "-"
   ]
  },
  {
   "cell_type": "code",
   "execution_count": null,
   "metadata": {},
   "outputs": [],
   "source": []
  },
  {
   "cell_type": "markdown",
   "metadata": {},
   "source": []
  }
 ],
 "metadata": {
  "kernelspec": {
   "display_name": ".venv",
   "language": "python",
   "name": "python3"
  },
  "language_info": {
   "codemirror_mode": {
    "name": "ipython",
    "version": 3
   },
   "file_extension": ".py",
   "mimetype": "text/x-python",
   "name": "python",
   "nbconvert_exporter": "python",
   "pygments_lexer": "ipython3",
   "version": "3.10.14"
  }
 },
 "nbformat": 4,
 "nbformat_minor": 2
}
