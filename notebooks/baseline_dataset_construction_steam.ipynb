{
 "cells": [
  {
   "cell_type": "code",
   "execution_count": 1,
   "metadata": {},
   "outputs": [],
   "source": [
    "%load_ext autoreload\n",
    "%autoreload 2\n",
    "\n",
    "import IPython\n",
    "from pathlib import Path\n",
    "import os\n",
    "locals = IPython.extract_module_locals() # type: ignore\n",
    "notebook_name = \"/\".join(locals[1][\"__vsc_ipynb_file__\"].split(\"/\"))\n",
    "os.chdir(Path(notebook_name).parent.parent)"
   ]
  },
  {
   "cell_type": "code",
   "execution_count": 2,
   "metadata": {},
   "outputs": [],
   "source": [
    "from pathlib import Path\n",
    "\n",
    "import numpy as np\n",
    "import polars as pl\n",
    "import pandas as pd"
   ]
  },
  {
   "cell_type": "code",
   "execution_count": 4,
   "metadata": {},
   "outputs": [],
   "source": [
    "# Read csv\n",
    "relations = pl.read_csv(\".data/steam/base/recommendations.csv\", try_parse_dates=True)\n",
    "users = pl.read_csv(\".data/steam/base/users.csv\")\n",
    "games = pl.read_csv(\".data/steam/base/games.csv\")"
   ]
  },
  {
   "cell_type": "code",
   "execution_count": 35,
   "metadata": {},
   "outputs": [],
   "source": [
    "relations = relations.filter(pl.col(\"is_recommended\") == True)\n",
    "filtered_users = relations.group_by(\"user_id\").agg(pl.len()).filter(pl.col(\"len\") >= 5).select(\"user_id\")\n",
    "relations = relations.join(filtered_users, on=\"user_id\", how=\"right\")\n",
    "relations = relations.sort(by=\"date\")"
   ]
  },
  {
   "cell_type": "code",
   "execution_count": 36,
   "metadata": {},
   "outputs": [],
   "source": [
    "users = filtered_users"
   ]
  },
  {
   "cell_type": "code",
   "execution_count": 43,
   "metadata": {},
   "outputs": [
    {
     "data": {
      "text/html": [
       "<div><style>\n",
       ".dataframe > thead > tr,\n",
       ".dataframe > tbody > tr {\n",
       "  text-align: right;\n",
       "  white-space: pre-wrap;\n",
       "}\n",
       "</style>\n",
       "<small>shape: (1_624_066, 2)</small><table border=\"1\" class=\"dataframe\"><thead><tr><th>user_id</th><th>customer_id_map</th></tr><tr><td>i64</td><td>i64</td></tr></thead><tbody><tr><td>0</td><td>0</td></tr><tr><td>13</td><td>1</td></tr><tr><td>14</td><td>2</td></tr><tr><td>36</td><td>3</td></tr><tr><td>45</td><td>4</td></tr><tr><td>&hellip;</td><td>&hellip;</td></tr><tr><td>14306001</td><td>1624061</td></tr><tr><td>14306002</td><td>1624062</td></tr><tr><td>14306011</td><td>1624063</td></tr><tr><td>14306019</td><td>1624064</td></tr><tr><td>14306020</td><td>1624065</td></tr></tbody></table></div>"
      ],
      "text/plain": [
       "shape: (1_624_066, 2)\n",
       "┌──────────┬─────────────────┐\n",
       "│ user_id  ┆ customer_id_map │\n",
       "│ ---      ┆ ---             │\n",
       "│ i64      ┆ i64             │\n",
       "╞══════════╪═════════════════╡\n",
       "│ 0        ┆ 0               │\n",
       "│ 13       ┆ 1               │\n",
       "│ 14       ┆ 2               │\n",
       "│ 36       ┆ 3               │\n",
       "│ 45       ┆ 4               │\n",
       "│ …        ┆ …               │\n",
       "│ 14306001 ┆ 1624061         │\n",
       "│ 14306002 ┆ 1624062         │\n",
       "│ 14306011 ┆ 1624063         │\n",
       "│ 14306019 ┆ 1624064         │\n",
       "│ 14306020 ┆ 1624065         │\n",
       "└──────────┴─────────────────┘"
      ]
     },
     "execution_count": 43,
     "metadata": {},
     "output_type": "execute_result"
    }
   ],
   "source": [
    "users = users.sort(\"user_id\").with_columns(customer_id_map=pl.arange(0, len(users), 1))"
   ]
  },
  {
   "cell_type": "code",
   "execution_count": 51,
   "metadata": {},
   "outputs": [],
   "source": [
    "filtered_apps = relations.select(\"app_id\").unique()\n",
    "games = games.join(filtered_apps, on=\"app_id\", how=\"right\")\n",
    "games = games.sort(\"app_id\")\n",
    "games = games.with_columns(article_id_map=pl.arange(0, len(games), 1))"
   ]
  },
  {
   "cell_type": "code",
   "execution_count": 7,
   "metadata": {},
   "outputs": [],
   "source": [
    "# Write files to parquet\n",
    "users.write_parquet(\".data/intermediate/users.parquet\")\n",
    "articles.write_parquet(\".data/intermediate/articles.parquet\")\n",
    "relations.write_parquet(\".data/intermediate/relations.parquet\")"
   ]
  }
 ],
 "metadata": {
  "kernelspec": {
   "display_name": ".venv",
   "language": "python",
   "name": "python3"
  },
  "language_info": {
   "codemirror_mode": {
    "name": "ipython",
    "version": 3
   },
   "file_extension": ".py",
   "mimetype": "text/x-python",
   "name": "python",
   "nbconvert_exporter": "python",
   "pygments_lexer": "ipython3",
   "version": "3.10.14"
  }
 },
 "nbformat": 4,
 "nbformat_minor": 2
}
