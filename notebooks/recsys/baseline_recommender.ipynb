{
 "cells": [
  {
   "cell_type": "code",
   "execution_count": 1,
   "metadata": {},
   "outputs": [],
   "source": [
    "%load_ext autoreload\n",
    "%autoreload 2"
   ]
  },
  {
   "cell_type": "code",
   "execution_count": 2,
   "metadata": {},
   "outputs": [],
   "source": [
    "import os\n",
    "os.chdir('..')"
   ]
  },
  {
   "cell_type": "code",
   "execution_count": 3,
   "metadata": {},
   "outputs": [],
   "source": [
    "from typing import Callable\n",
    "\n",
    "import numpy as np\n",
    "import polars as pl\n",
    "import seaborn as sns\n",
    "import matplotlib.pyplot as plt\n",
    "from tqdm import tqdm"
   ]
  },
  {
   "cell_type": "code",
   "execution_count": 4,
   "metadata": {},
   "outputs": [],
   "source": [
    "relations = pl.read_csv(\".data/transactions_train.csv\", try_parse_dates=True)\n",
    "users = pl.read_csv(\".data/customers.csv\")\n",
    "items = pl.read_csv(\".data/articles.csv\")\n",
    "sample_submission = pl.read_csv(\".data/sample_submission.csv\")"
   ]
  },
  {
   "cell_type": "code",
   "execution_count": 5,
   "metadata": {},
   "outputs": [],
   "source": [
    "relations = relations.sort(\"t_dat\")"
   ]
  },
  {
   "cell_type": "code",
   "execution_count": 6,
   "metadata": {},
   "outputs": [],
   "source": [
    "relations = relations.with_columns(\n",
    "    customer_id_fact=pl.col(\"customer_id\").cast(pl.Categorical).to_physical(),\n",
    "    article_id_fact=pl.col(\"article_id\").cast(pl.String).cast(pl.Categorical).to_physical(),\n",
    ")\n",
    "\n",
    "assert relations.select(\"customer_id_fact\").n_unique() == (relations.get_column(\"customer_id_fact\").max() + 1)\n",
    "assert relations.select(\"article_id_fact\").n_unique() == (relations.get_column(\"article_id_fact\").max() + 1)"
   ]
  },
  {
   "cell_type": "code",
   "execution_count": 7,
   "metadata": {},
   "outputs": [],
   "source": [
    "relations = relations.with_columns(\n",
    "    pl.col(\"t_dat\").dt.day().alias(\"day\"),\n",
    "    pl.col(\"t_dat\").dt.month().alias(\"month\"),\n",
    "    pl.col(\"t_dat\").dt.year().alias(\"year\"),    \n",
    ")\n",
    "lasts = relations.select(\"month\", \"year\").max()"
   ]
  },
  {
   "cell_type": "code",
   "execution_count": 8,
   "metadata": {},
   "outputs": [
    {
     "data": {
      "text/html": [
       "<div><style>\n",
       ".dataframe > thead > tr,\n",
       ".dataframe > tbody > tr {\n",
       "  text-align: right;\n",
       "  white-space: pre-wrap;\n",
       "}\n",
       "</style>\n",
       "<small>shape: (25, 3)</small><table border=\"1\" class=\"dataframe\"><thead><tr><th>year</th><th>month</th><th>len</th></tr><tr><td>i32</td><td>i8</td><td>u32</td></tr></thead><tbody><tr><td>2018</td><td>9</td><td>594776</td></tr><tr><td>2018</td><td>10</td><td>1397040</td></tr><tr><td>2018</td><td>11</td><td>1270619</td></tr><tr><td>2018</td><td>12</td><td>1148827</td></tr><tr><td>2019</td><td>1</td><td>1263471</td></tr><tr><td>&hellip;</td><td>&hellip;</td><td>&hellip;</td></tr><tr><td>2020</td><td>5</td><td>1361815</td></tr><tr><td>2020</td><td>6</td><td>1764507</td></tr><tr><td>2020</td><td>7</td><td>1351502</td></tr><tr><td>2020</td><td>8</td><td>1237192</td></tr><tr><td>2020</td><td>9</td><td>798269</td></tr></tbody></table></div>"
      ],
      "text/plain": [
       "shape: (25, 3)\n",
       "┌──────┬───────┬─────────┐\n",
       "│ year ┆ month ┆ len     │\n",
       "│ ---  ┆ ---   ┆ ---     │\n",
       "│ i32  ┆ i8    ┆ u32     │\n",
       "╞══════╪═══════╪═════════╡\n",
       "│ 2018 ┆ 9     ┆ 594776  │\n",
       "│ 2018 ┆ 10    ┆ 1397040 │\n",
       "│ 2018 ┆ 11    ┆ 1270619 │\n",
       "│ 2018 ┆ 12    ┆ 1148827 │\n",
       "│ 2019 ┆ 1     ┆ 1263471 │\n",
       "│ …    ┆ …     ┆ …       │\n",
       "│ 2020 ┆ 5     ┆ 1361815 │\n",
       "│ 2020 ┆ 6     ┆ 1764507 │\n",
       "│ 2020 ┆ 7     ┆ 1351502 │\n",
       "│ 2020 ┆ 8     ┆ 1237192 │\n",
       "│ 2020 ┆ 9     ┆ 798269  │\n",
       "└──────┴───────┴─────────┘"
      ]
     },
     "execution_count": 8,
     "metadata": {},
     "output_type": "execute_result"
    }
   ],
   "source": [
    "relations.group_by(\"year\", \"month\", maintain_order=True).agg(pl.len())"
   ]
  },
  {
   "cell_type": "code",
   "execution_count": 9,
   "metadata": {},
   "outputs": [],
   "source": [
    "train_df = relations.filter(pl.col(\"t_dat\") < pl.date(2020, 7, 1))\n",
    "valid_df = relations.filter(pl.col(\"t_dat\") >= pl.date(2020, 7, 1))"
   ]
  },
  {
   "cell_type": "code",
   "execution_count": 10,
   "metadata": {},
   "outputs": [
    {
     "data": {
      "text/html": [
       "<div><style>\n",
       ".dataframe > thead > tr,\n",
       ".dataframe > tbody > tr {\n",
       "  text-align: right;\n",
       "  white-space: pre-wrap;\n",
       "}\n",
       "</style>\n",
       "<small>shape: (28_401_361, 10)</small><table border=\"1\" class=\"dataframe\"><thead><tr><th>t_dat</th><th>customer_id</th><th>article_id</th><th>price</th><th>sales_channel_id</th><th>customer_id_fact</th><th>article_id_fact</th><th>day</th><th>month</th><th>year</th></tr><tr><td>date</td><td>str</td><td>i64</td><td>f64</td><td>i64</td><td>u32</td><td>u32</td><td>i8</td><td>i8</td><td>i32</td></tr></thead><tbody><tr><td>2018-09-20</td><td>&quot;000058a12d5b43e67d225668fa1f8d…</td><td>663713001</td><td>0.050831</td><td>2</td><td>0</td><td>0</td><td>20</td><td>9</td><td>2018</td></tr><tr><td>2018-09-20</td><td>&quot;000058a12d5b43e67d225668fa1f8d…</td><td>541518023</td><td>0.030492</td><td>2</td><td>0</td><td>1</td><td>20</td><td>9</td><td>2018</td></tr><tr><td>2018-09-20</td><td>&quot;00007d2de826758b65a93dd24ce629…</td><td>505221004</td><td>0.015237</td><td>2</td><td>1</td><td>2</td><td>20</td><td>9</td><td>2018</td></tr><tr><td>2018-09-20</td><td>&quot;00007d2de826758b65a93dd24ce629…</td><td>685687003</td><td>0.016932</td><td>2</td><td>1</td><td>3</td><td>20</td><td>9</td><td>2018</td></tr><tr><td>2018-09-20</td><td>&quot;00007d2de826758b65a93dd24ce629…</td><td>685687004</td><td>0.016932</td><td>2</td><td>1</td><td>4</td><td>20</td><td>9</td><td>2018</td></tr><tr><td>&hellip;</td><td>&hellip;</td><td>&hellip;</td><td>&hellip;</td><td>&hellip;</td><td>&hellip;</td><td>&hellip;</td><td>&hellip;</td><td>&hellip;</td><td>&hellip;</td></tr><tr><td>2020-06-30</td><td>&quot;fffb2ba21d4a2f5938d5b955662d81…</td><td>851010006</td><td>0.016932</td><td>1</td><td>1128213</td><td>92319</td><td>30</td><td>6</td><td>2020</td></tr><tr><td>2020-06-30</td><td>&quot;fffb2ba21d4a2f5938d5b955662d81…</td><td>880238002</td><td>0.016932</td><td>1</td><td>1128213</td><td>95295</td><td>30</td><td>6</td><td>2020</td></tr><tr><td>2020-06-30</td><td>&quot;fffb2ba21d4a2f5938d5b955662d81…</td><td>780297002</td><td>0.025407</td><td>1</td><td>1128213</td><td>63616</td><td>30</td><td>6</td><td>2020</td></tr><tr><td>2020-06-30</td><td>&quot;fffb2ba21d4a2f5938d5b955662d81…</td><td>878794001</td><td>0.025407</td><td>1</td><td>1128213</td><td>90777</td><td>30</td><td>6</td><td>2020</td></tr><tr><td>2020-06-30</td><td>&quot;fffb2ba21d4a2f5938d5b955662d81…</td><td>866218009</td><td>0.016932</td><td>1</td><td>1128213</td><td>85068</td><td>30</td><td>6</td><td>2020</td></tr></tbody></table></div>"
      ],
      "text/plain": [
       "shape: (28_401_361, 10)\n",
       "┌────────────┬──────────────────┬────────────┬──────────┬───┬─────────────────┬─────┬───────┬──────┐\n",
       "│ t_dat      ┆ customer_id      ┆ article_id ┆ price    ┆ … ┆ article_id_fact ┆ day ┆ month ┆ year │\n",
       "│ ---        ┆ ---              ┆ ---        ┆ ---      ┆   ┆ ---             ┆ --- ┆ ---   ┆ ---  │\n",
       "│ date       ┆ str              ┆ i64        ┆ f64      ┆   ┆ u32             ┆ i8  ┆ i8    ┆ i32  │\n",
       "╞════════════╪══════════════════╪════════════╪══════════╪═══╪═════════════════╪═════╪═══════╪══════╡\n",
       "│ 2018-09-20 ┆ 000058a12d5b43e6 ┆ 663713001  ┆ 0.050831 ┆ … ┆ 0               ┆ 20  ┆ 9     ┆ 2018 │\n",
       "│            ┆ 7d225668fa1f8d…  ┆            ┆          ┆   ┆                 ┆     ┆       ┆      │\n",
       "│ 2018-09-20 ┆ 000058a12d5b43e6 ┆ 541518023  ┆ 0.030492 ┆ … ┆ 1               ┆ 20  ┆ 9     ┆ 2018 │\n",
       "│            ┆ 7d225668fa1f8d…  ┆            ┆          ┆   ┆                 ┆     ┆       ┆      │\n",
       "│ 2018-09-20 ┆ 00007d2de826758b ┆ 505221004  ┆ 0.015237 ┆ … ┆ 2               ┆ 20  ┆ 9     ┆ 2018 │\n",
       "│            ┆ 65a93dd24ce629…  ┆            ┆          ┆   ┆                 ┆     ┆       ┆      │\n",
       "│ 2018-09-20 ┆ 00007d2de826758b ┆ 685687003  ┆ 0.016932 ┆ … ┆ 3               ┆ 20  ┆ 9     ┆ 2018 │\n",
       "│            ┆ 65a93dd24ce629…  ┆            ┆          ┆   ┆                 ┆     ┆       ┆      │\n",
       "│ 2018-09-20 ┆ 00007d2de826758b ┆ 685687004  ┆ 0.016932 ┆ … ┆ 4               ┆ 20  ┆ 9     ┆ 2018 │\n",
       "│            ┆ 65a93dd24ce629…  ┆            ┆          ┆   ┆                 ┆     ┆       ┆      │\n",
       "│ …          ┆ …                ┆ …          ┆ …        ┆ … ┆ …               ┆ …   ┆ …     ┆ …    │\n",
       "│ 2020-06-30 ┆ fffb2ba21d4a2f59 ┆ 851010006  ┆ 0.016932 ┆ … ┆ 92319           ┆ 30  ┆ 6     ┆ 2020 │\n",
       "│            ┆ 38d5b955662d81…  ┆            ┆          ┆   ┆                 ┆     ┆       ┆      │\n",
       "│ 2020-06-30 ┆ fffb2ba21d4a2f59 ┆ 880238002  ┆ 0.016932 ┆ … ┆ 95295           ┆ 30  ┆ 6     ┆ 2020 │\n",
       "│            ┆ 38d5b955662d81…  ┆            ┆          ┆   ┆                 ┆     ┆       ┆      │\n",
       "│ 2020-06-30 ┆ fffb2ba21d4a2f59 ┆ 780297002  ┆ 0.025407 ┆ … ┆ 63616           ┆ 30  ┆ 6     ┆ 2020 │\n",
       "│            ┆ 38d5b955662d81…  ┆            ┆          ┆   ┆                 ┆     ┆       ┆      │\n",
       "│ 2020-06-30 ┆ fffb2ba21d4a2f59 ┆ 878794001  ┆ 0.025407 ┆ … ┆ 90777           ┆ 30  ┆ 6     ┆ 2020 │\n",
       "│            ┆ 38d5b955662d81…  ┆            ┆          ┆   ┆                 ┆     ┆       ┆      │\n",
       "│ 2020-06-30 ┆ fffb2ba21d4a2f59 ┆ 866218009  ┆ 0.016932 ┆ … ┆ 85068           ┆ 30  ┆ 6     ┆ 2020 │\n",
       "│            ┆ 38d5b955662d81…  ┆            ┆          ┆   ┆                 ┆     ┆       ┆      │\n",
       "└────────────┴──────────────────┴────────────┴──────────┴───┴─────────────────┴─────┴───────┴──────┘"
      ]
     },
     "execution_count": 10,
     "metadata": {},
     "output_type": "execute_result"
    }
   ],
   "source": [
    "train_df"
   ]
  },
  {
   "cell_type": "code",
   "execution_count": 15,
   "metadata": {},
   "outputs": [
    {
     "data": {
      "text/html": [
       "<div><style>\n",
       ".dataframe > thead > tr,\n",
       ".dataframe > tbody > tr {\n",
       "  text-align: right;\n",
       "  white-space: pre-wrap;\n",
       "}\n",
       "</style>\n",
       "<small>shape: (489_553, 3)</small><table border=\"1\" class=\"dataframe\"><thead><tr><th>customer_id_fact</th><th>article_id_fact</th><th>len</th></tr><tr><td>u32</td><td>list[u32]</td><td>u32</td></tr></thead><tbody><tr><td>140340</td><td>[87006, 88658, … 63952]</td><td>80</td></tr><tr><td>3</td><td>[89468, 86624, … 100494]</td><td>10</td></tr><tr><td>656209</td><td>[51711, 51711, … 51711]</td><td>5</td></tr><tr><td>13990</td><td>[91741, 798, … 102717]</td><td>61</td></tr><tr><td>27154</td><td>[21883, 59769, … 103192]</td><td>13</td></tr><tr><td>&hellip;</td><td>&hellip;</td><td>&hellip;</td></tr><tr><td>1362280</td><td>[102215, 102661, 68956]</td><td>3</td></tr><tr><td>347946</td><td>[99220, 99220]</td><td>2</td></tr><tr><td>1147080</td><td>[85573, 79711, … 96030]</td><td>6</td></tr><tr><td>957020</td><td>[64373, 101668, … 97478]</td><td>5</td></tr><tr><td>733822</td><td>[102839, 61633]</td><td>2</td></tr></tbody></table></div>"
      ],
      "text/plain": [
       "shape: (489_553, 3)\n",
       "┌──────────────────┬──────────────────────────┬─────┐\n",
       "│ customer_id_fact ┆ article_id_fact          ┆ len │\n",
       "│ ---              ┆ ---                      ┆ --- │\n",
       "│ u32              ┆ list[u32]                ┆ u32 │\n",
       "╞══════════════════╪══════════════════════════╪═════╡\n",
       "│ 140340           ┆ [87006, 88658, … 63952]  ┆ 80  │\n",
       "│ 3                ┆ [89468, 86624, … 100494] ┆ 10  │\n",
       "│ 656209           ┆ [51711, 51711, … 51711]  ┆ 5   │\n",
       "│ 13990            ┆ [91741, 798, … 102717]   ┆ 61  │\n",
       "│ 27154            ┆ [21883, 59769, … 103192] ┆ 13  │\n",
       "│ …                ┆ …                        ┆ …   │\n",
       "│ 1362280          ┆ [102215, 102661, 68956]  ┆ 3   │\n",
       "│ 347946           ┆ [99220, 99220]           ┆ 2   │\n",
       "│ 1147080          ┆ [85573, 79711, … 96030]  ┆ 6   │\n",
       "│ 957020           ┆ [64373, 101668, … 97478] ┆ 5   │\n",
       "│ 733822           ┆ [102839, 61633]          ┆ 2   │\n",
       "└──────────────────┴──────────────────────────┴─────┘"
      ]
     },
     "execution_count": 15,
     "metadata": {},
     "output_type": "execute_result"
    }
   ],
   "source": [
    "valid_df.group_by(\"customer_id_fact\", maintain_order=True).agg(pl.col(\"article_id_fact\"), pl.len())"
   ]
  },
  {
   "cell_type": "code",
   "execution_count": null,
   "metadata": {},
   "outputs": [],
   "source": []
  }
 ],
 "metadata": {
  "kernelspec": {
   "display_name": ".venv",
   "language": "python",
   "name": "python3"
  },
  "language_info": {
   "codemirror_mode": {
    "name": "ipython",
    "version": 3
   },
   "file_extension": ".py",
   "mimetype": "text/x-python",
   "name": "python",
   "nbconvert_exporter": "python",
   "pygments_lexer": "ipython3",
   "version": "3.10.14"
  }
 },
 "nbformat": 4,
 "nbformat_minor": 2
}
