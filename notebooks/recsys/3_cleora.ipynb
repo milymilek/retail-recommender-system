{
 "cells": [
  {
   "cell_type": "code",
   "execution_count": 1,
   "metadata": {},
   "outputs": [],
   "source": [
    "%load_ext autoreload\n",
    "%autoreload 2\n",
    "\n",
    "import IPython\n",
    "from pathlib import Path\n",
    "import os\n",
    "locals = IPython.extract_module_locals() # type: ignore\n",
    "notebook_name = \"/\".join(locals[1][\"__vsc_ipynb_file__\"].split(\"/\"))\n",
    "os.chdir(Path(notebook_name).parent.parent.parent)"
   ]
  },
  {
   "cell_type": "code",
   "execution_count": 19,
   "metadata": {},
   "outputs": [],
   "source": [
    "import numpy as np\n",
    "import pandas as pd\n",
    "import polars as pl\n",
    "import seaborn as sns\n",
    "import matplotlib.pyplot as plt\n",
    "from pycleora import SparseMatrix\n",
    "import torch"
   ]
  },
  {
   "cell_type": "code",
   "execution_count": null,
   "metadata": {},
   "outputs": [],
   "source": []
  },
  {
   "cell_type": "code",
   "execution_count": 3,
   "metadata": {},
   "outputs": [],
   "source": [
    "base_path = Path(\".data/hm/base\")\n",
    "relations = pd.read_csv(base_path / \"transactions_train.csv\")\n",
    "sample_submission = pd.read_csv(base_path / \"sample_submission.csv\")\n",
    "\n",
    "intermediate_path = Path(\".data/hm/intermediate/cov1\")\n",
    "\n",
    "relations_train = pd.read_parquet(intermediate_path / \"relations_train.parquet\")\n",
    "relations_validation = pd.read_parquet(intermediate_path / \"relations_validation.parquet\")\n",
    "customer_id_map = pd.read_parquet(intermediate_path / \"customer_id_map.parquet\")\n",
    "article_id_map = pd.read_parquet(intermediate_path / \"article_id_map.parquet\")"
   ]
  },
  {
   "cell_type": "code",
   "execution_count": 4,
   "metadata": {},
   "outputs": [
    {
     "name": "stdout",
     "output_type": "stream",
     "text": [
      "1371980 104547 31788324\n"
     ]
    }
   ],
   "source": [
    "n_users = sample_submission.customer_id.nunique()\n",
    "n_items = relations.article_id.nunique()\n",
    "\n",
    "print(n_users, n_items, relations.shape[0])"
   ]
  },
  {
   "cell_type": "code",
   "execution_count": 5,
   "metadata": {},
   "outputs": [
    {
     "data": {
      "text/html": [
       "<div>\n",
       "<style scoped>\n",
       "    .dataframe tbody tr th:only-of-type {\n",
       "        vertical-align: middle;\n",
       "    }\n",
       "\n",
       "    .dataframe tbody tr th {\n",
       "        vertical-align: top;\n",
       "    }\n",
       "\n",
       "    .dataframe thead th {\n",
       "        text-align: right;\n",
       "    }\n",
       "</style>\n",
       "<table border=\"1\" class=\"dataframe\">\n",
       "  <thead>\n",
       "    <tr style=\"text-align: right;\">\n",
       "      <th></th>\n",
       "      <th>t_dat</th>\n",
       "      <th>price</th>\n",
       "      <th>sales_channel_id</th>\n",
       "      <th>session_id</th>\n",
       "      <th>item_id</th>\n",
       "    </tr>\n",
       "  </thead>\n",
       "  <tbody>\n",
       "    <tr>\n",
       "      <th>4212358</th>\n",
       "      <td>2018-12-27</td>\n",
       "      <td>0.044051</td>\n",
       "      <td>1</td>\n",
       "      <td>0</td>\n",
       "      <td>10895</td>\n",
       "    </tr>\n",
       "    <tr>\n",
       "      <th>4212359</th>\n",
       "      <td>2018-12-27</td>\n",
       "      <td>0.035576</td>\n",
       "      <td>1</td>\n",
       "      <td>0</td>\n",
       "      <td>12746</td>\n",
       "    </tr>\n",
       "    <tr>\n",
       "      <th>4212360</th>\n",
       "      <td>2018-12-27</td>\n",
       "      <td>0.030492</td>\n",
       "      <td>1</td>\n",
       "      <td>0</td>\n",
       "      <td>5938</td>\n",
       "    </tr>\n",
       "    <tr>\n",
       "      <th>9663224</th>\n",
       "      <td>2019-05-02</td>\n",
       "      <td>0.010153</td>\n",
       "      <td>2</td>\n",
       "      <td>0</td>\n",
       "      <td>50328</td>\n",
       "    </tr>\n",
       "    <tr>\n",
       "      <th>10754876</th>\n",
       "      <td>2019-05-25</td>\n",
       "      <td>0.050831</td>\n",
       "      <td>2</td>\n",
       "      <td>0</td>\n",
       "      <td>865</td>\n",
       "    </tr>\n",
       "    <tr>\n",
       "      <th>...</th>\n",
       "      <td>...</td>\n",
       "      <td>...</td>\n",
       "      <td>...</td>\n",
       "      <td>...</td>\n",
       "      <td>...</td>\n",
       "    </tr>\n",
       "    <tr>\n",
       "      <th>24375394</th>\n",
       "      <td>2020-04-09</td>\n",
       "      <td>0.043203</td>\n",
       "      <td>2</td>\n",
       "      <td>1371978</td>\n",
       "      <td>84419</td>\n",
       "    </tr>\n",
       "    <tr>\n",
       "      <th>24375395</th>\n",
       "      <td>2020-04-09</td>\n",
       "      <td>0.013542</td>\n",
       "      <td>2</td>\n",
       "      <td>1371978</td>\n",
       "      <td>82129</td>\n",
       "    </tr>\n",
       "    <tr>\n",
       "      <th>25077914</th>\n",
       "      <td>2020-04-25</td>\n",
       "      <td>0.050831</td>\n",
       "      <td>2</td>\n",
       "      <td>1371978</td>\n",
       "      <td>84419</td>\n",
       "    </tr>\n",
       "    <tr>\n",
       "      <th>27806865</th>\n",
       "      <td>2020-06-22</td>\n",
       "      <td>0.016932</td>\n",
       "      <td>1</td>\n",
       "      <td>1371978</td>\n",
       "      <td>93746</td>\n",
       "    </tr>\n",
       "    <tr>\n",
       "      <th>19867243</th>\n",
       "      <td>2019-12-04</td>\n",
       "      <td>0.084729</td>\n",
       "      <td>2</td>\n",
       "      <td>1371979</td>\n",
       "      <td>76737</td>\n",
       "    </tr>\n",
       "  </tbody>\n",
       "</table>\n",
       "<p>31548013 rows × 5 columns</p>\n",
       "</div>"
      ],
      "text/plain": [
       "              t_dat     price  sales_channel_id  session_id  item_id\n",
       "4212358  2018-12-27  0.044051                 1           0    10895\n",
       "4212359  2018-12-27  0.035576                 1           0    12746\n",
       "4212360  2018-12-27  0.030492                 1           0     5938\n",
       "9663224  2019-05-02  0.010153                 2           0    50328\n",
       "10754876 2019-05-25  0.050831                 2           0      865\n",
       "...             ...       ...               ...         ...      ...\n",
       "24375394 2020-04-09  0.043203                 2     1371978    84419\n",
       "24375395 2020-04-09  0.013542                 2     1371978    82129\n",
       "25077914 2020-04-25  0.050831                 2     1371978    84419\n",
       "27806865 2020-06-22  0.016932                 1     1371978    93746\n",
       "19867243 2019-12-04  0.084729                 2     1371979    76737\n",
       "\n",
       "[31548013 rows x 5 columns]"
      ]
     },
     "execution_count": 5,
     "metadata": {},
     "output_type": "execute_result"
    }
   ],
   "source": [
    "relations_train"
   ]
  },
  {
   "cell_type": "code",
   "execution_count": 6,
   "metadata": {},
   "outputs": [],
   "source": [
    "relations_train['item_id'] = relations_train['item_id'].astype(str)"
   ]
  },
  {
   "cell_type": "code",
   "execution_count": 7,
   "metadata": {},
   "outputs": [],
   "source": [
    "customer_products = relations_train.groupby('session_id')['item_id'].apply(list).values"
   ]
  },
  {
   "cell_type": "code",
   "execution_count": 8,
   "metadata": {},
   "outputs": [],
   "source": [
    "cleora_input = map(lambda x: ' '.join(x), customer_products)"
   ]
  },
  {
   "cell_type": "code",
   "execution_count": 9,
   "metadata": {},
   "outputs": [],
   "source": [
    "mat = SparseMatrix.from_iterator(cleora_input, columns='complex::reflexive::product')"
   ]
  },
  {
   "cell_type": "code",
   "execution_count": 10,
   "metadata": {},
   "outputs": [],
   "source": [
    "embeddings = mat.initialize_deterministically(1024)"
   ]
  },
  {
   "cell_type": "code",
   "execution_count": 11,
   "metadata": {},
   "outputs": [],
   "source": [
    "n_walks = 7\n",
    "\n",
    "for i in range(n_walks):\n",
    "    # Can propagate with a symmetric matrix as well, but left Markov is a great default\n",
    "    embeddings = mat.left_markov_propagate(embeddings)\n",
    "    # Normalize with L2 norm by default, for the embeddings to reside on a hypersphere. Can use standardization instead.\n",
    "    embeddings /= np.linalg.norm(embeddings, ord=2, axis=-1, keepdims=True)\n"
   ]
  },
  {
   "cell_type": "code",
   "execution_count": 12,
   "metadata": {},
   "outputs": [],
   "source": [
    "embeddings_sorted = embeddings[np.argsort(np.array(mat.entity_ids).astype(int))]"
   ]
  },
  {
   "cell_type": "code",
   "execution_count": 13,
   "metadata": {},
   "outputs": [],
   "source": [
    "def build_session_embedding(item_ids):\n",
    "    return embeddings_sorted[item_ids].mean(axis=0)\n",
    "\n",
    "relations_train['item_id'] = relations_train['item_id'].astype(int)\n",
    "user_embedding_series = relations_train.groupby('session_id')['item_id'].apply(build_session_embedding)"
   ]
  },
  {
   "cell_type": "code",
   "execution_count": 14,
   "metadata": {},
   "outputs": [
    {
     "data": {
      "text/plain": [
       "Index([      0,       1,       2,       3,       4,       5,       6,       7,\n",
       "             8,       9,\n",
       "       ...\n",
       "       1371970, 1371971, 1371972, 1371973, 1371974, 1371975, 1371976, 1371977,\n",
       "       1371978, 1371979],\n",
       "      dtype='int64', name='session_id', length=1356709)"
      ]
     },
     "execution_count": 14,
     "metadata": {},
     "output_type": "execute_result"
    }
   ],
   "source": [
    "user_embedding_series.index"
   ]
  },
  {
   "cell_type": "code",
   "execution_count": 15,
   "metadata": {},
   "outputs": [],
   "source": [
    "user_embeddings = np.vstack(user_embedding_series.values)"
   ]
  },
  {
   "cell_type": "code",
   "execution_count": 16,
   "metadata": {},
   "outputs": [
    {
     "data": {
      "text/plain": [
       "array([[-0.03376987,  0.04804428, -0.05466268, ..., -0.06763975,\n",
       "         0.03211973, -0.03638557],\n",
       "       [-0.03956544,  0.05481985, -0.08671246, ..., -0.04105688,\n",
       "         0.03566735, -0.0385193 ],\n",
       "       [-0.03351728,  0.05266862, -0.0538512 , ..., -0.04580219,\n",
       "         0.04112133, -0.03350928],\n",
       "       ...,\n",
       "       [-0.04707328,  0.04280025, -0.08462011, ..., -0.0466844 ,\n",
       "         0.04498481, -0.04090003],\n",
       "       [-0.04860504,  0.04248057, -0.08476947, ..., -0.04783266,\n",
       "         0.04775231, -0.03875012],\n",
       "       [-0.0237193 ,  0.0241503 , -0.05308963, ..., -0.02514559,\n",
       "         0.02945288, -0.03008084]], shape=(103880, 1024), dtype=float32)"
      ]
     },
     "execution_count": 16,
     "metadata": {},
     "output_type": "execute_result"
    }
   ],
   "source": [
    "embeddings"
   ]
  },
  {
   "cell_type": "code",
   "execution_count": 23,
   "metadata": {},
   "outputs": [],
   "source": [
    "user_embeddings_tensor = torch.from_numpy(user_embeddings)\n",
    "embeddings_tensor = torch.from_numpy(embeddings_sorted)"
   ]
  },
  {
   "cell_type": "code",
   "execution_count": 24,
   "metadata": {},
   "outputs": [
    {
     "data": {
      "text/plain": [
       "(1356709, 1024)"
      ]
     },
     "execution_count": 24,
     "metadata": {},
     "output_type": "execute_result"
    }
   ],
   "source": [
    "user_embeddings.shape"
   ]
  },
  {
   "cell_type": "code",
   "execution_count": 25,
   "metadata": {},
   "outputs": [
    {
     "name": "stderr",
     "output_type": "stream",
     "text": [
      "100%|██████████| 1357/1357 [04:38<00:00,  4.86it/s]\n"
     ]
    }
   ],
   "source": [
    "from tqdm import tqdm\n",
    "\n",
    "N_candid = 50\n",
    "\n",
    "recommendations = []\n",
    "for batch in tqdm(torch.split(user_embeddings_tensor, 1000)):\n",
    "    similarity = torch.matmul(batch, embeddings_tensor.T)\n",
    "\n",
    "    recommendations.append(similarity.topk(N_candid, dim=1).indices)"
   ]
  },
  {
   "cell_type": "code",
   "execution_count": 26,
   "metadata": {},
   "outputs": [],
   "source": [
    "recommendations = torch.vstack(recommendations)"
   ]
  },
  {
   "cell_type": "code",
   "execution_count": 27,
   "metadata": {},
   "outputs": [],
   "source": [
    "most_popular_items = relations_train[[\"session_id\", 'item_id']].drop_duplicates()[\"item_id\"].value_counts()"
   ]
  },
  {
   "cell_type": "code",
   "execution_count": 28,
   "metadata": {},
   "outputs": [],
   "source": [
    "recommendations_cleora = pd.DataFrame({\"session_id\": user_embedding_series.index, \"candidates\": recommendations.numpy().tolist()})"
   ]
  },
  {
   "cell_type": "code",
   "execution_count": 29,
   "metadata": {},
   "outputs": [],
   "source": [
    "missing_indices = np.setdiff1d(np.arange(n_users), user_embedding_series.index)\n",
    "most_popular_list = most_popular_items.index[:N_candid].tolist()\n",
    "missing_recommendations_df = pd.DataFrame({\n",
    "    'session_id': missing_indices,\n",
    "    'candidates': [most_popular_list] * len(missing_indices)\n",
    "})"
   ]
  },
  {
   "cell_type": "code",
   "execution_count": 30,
   "metadata": {},
   "outputs": [],
   "source": [
    "recommendations_full = pd.concat([recommendations_cleora, missing_recommendations_df], axis=0).sort_values(\"session_id\")"
   ]
  },
  {
   "cell_type": "code",
   "execution_count": null,
   "metadata": {},
   "outputs": [],
   "source": []
  },
  {
   "cell_type": "code",
   "execution_count": 31,
   "metadata": {},
   "outputs": [],
   "source": [
    "from retail_recommender_system.evaluation.metrics import map_k, precision_k, recall_k"
   ]
  },
  {
   "cell_type": "code",
   "execution_count": 32,
   "metadata": {},
   "outputs": [],
   "source": [
    "ground_truth = torch.from_numpy(relations_validation[[\"session_id\", \"item_id\"]].values).T"
   ]
  },
  {
   "cell_type": "code",
   "execution_count": 33,
   "metadata": {},
   "outputs": [],
   "source": [
    "recommendations_tensor = torch.from_numpy(np.array(recommendations_full['candidates'].tolist()))"
   ]
  },
  {
   "cell_type": "code",
   "execution_count": 34,
   "metadata": {},
   "outputs": [],
   "source": [
    "users_idx = torch.from_numpy(recommendations_full['session_id'].values)"
   ]
  },
  {
   "cell_type": "markdown",
   "metadata": {},
   "source": [
    "# K=1"
   ]
  },
  {
   "cell_type": "code",
   "execution_count": 30,
   "metadata": {},
   "outputs": [
    {
     "name": "stdout",
     "output_type": "stream",
     "text": [
      "MAP@12: 0.006668 | Precision@12: 0.004087 | Recall@12: 0.017953\n"
     ]
    }
   ],
   "source": [
    "map = map_k(recommendations_tensor, ground_truth, k=12, users_idx=users_idx, n_users=n_users, n_items=n_items)\n",
    "prec = precision_k(recommendations_tensor, ground_truth, k=12, users_idx=users_idx, n_users=n_users, n_items=n_items)\n",
    "rec = recall_k(recommendations_tensor, ground_truth, k=12, users_idx=users_idx, n_users=n_users, n_items=n_items)\n",
    "\n",
    "print(f\"MAP@12: {map:.6f} | Precision@12: {prec:.6f} | Recall@12: {rec:.6f}\")"
   ]
  },
  {
   "cell_type": "code",
   "execution_count": 31,
   "metadata": {},
   "outputs": [
    {
     "name": "stdout",
     "output_type": "stream",
     "text": [
      "MAP@30: 0.004415 | Precision@30: 0.002264 | Recall@30: 0.024979\n"
     ]
    }
   ],
   "source": [
    "map = map_k(recommendations_tensor, ground_truth, k=30, users_idx=users_idx, n_users=n_users, n_items=n_items)\n",
    "prec = precision_k(recommendations_tensor, ground_truth, k=30, users_idx=users_idx, n_users=n_users, n_items=n_items)\n",
    "rec = recall_k(recommendations_tensor, ground_truth, k=30, users_idx=users_idx, n_users=n_users, n_items=n_items)\n",
    "\n",
    "print(f\"MAP@30: {map:.6f} | Precision@30: {prec:.6f} | Recall@30: {rec:.6f}\")"
   ]
  },
  {
   "cell_type": "code",
   "execution_count": 32,
   "metadata": {},
   "outputs": [
    {
     "name": "stdout",
     "output_type": "stream",
     "text": [
      "MAP@50: 0.003394 | Precision@50: 0.001584 | Recall@50: 0.028735\n"
     ]
    }
   ],
   "source": [
    "map = map_k(recommendations_tensor, ground_truth, k=50, users_idx=users_idx, n_users=n_users, n_items=n_items)\n",
    "prec = precision_k(recommendations_tensor, ground_truth, k=50, users_idx=users_idx, n_users=n_users, n_items=n_items)\n",
    "rec = recall_k(recommendations_tensor, ground_truth, k=50, users_idx=users_idx, n_users=n_users, n_items=n_items)\n",
    "\n",
    "print(f\"MAP@50: {map:.6f} | Precision@50: {prec:.6f} | Recall@50: {rec:.6f}\")"
   ]
  },
  {
   "cell_type": "code",
   "execution_count": null,
   "metadata": {},
   "outputs": [],
   "source": []
  },
  {
   "cell_type": "code",
   "execution_count": null,
   "metadata": {},
   "outputs": [],
   "source": []
  },
  {
   "cell_type": "markdown",
   "metadata": {},
   "source": [
    "# K=7"
   ]
  },
  {
   "cell_type": "code",
   "execution_count": 35,
   "metadata": {},
   "outputs": [
    {
     "name": "stdout",
     "output_type": "stream",
     "text": [
      "MAP@12: 0.001733 | Precision@12: 0.001024 | Recall@12: 0.004172\n"
     ]
    }
   ],
   "source": [
    "map = map_k(recommendations_tensor, ground_truth, k=12, users_idx=users_idx, n_users=n_users, n_items=n_items)\n",
    "prec = precision_k(recommendations_tensor, ground_truth, k=12, users_idx=users_idx, n_users=n_users, n_items=n_items)\n",
    "rec = recall_k(recommendations_tensor, ground_truth, k=12, users_idx=users_idx, n_users=n_users, n_items=n_items)\n",
    "\n",
    "print(f\"MAP@12: {map:.6f} | Precision@12: {prec:.6f} | Recall@12: {rec:.6f}\")"
   ]
  },
  {
   "cell_type": "code",
   "execution_count": 36,
   "metadata": {},
   "outputs": [
    {
     "name": "stdout",
     "output_type": "stream",
     "text": [
      "MAP@30: 0.001158 | Precision@30: 0.000636 | Recall@30: 0.006459\n"
     ]
    }
   ],
   "source": [
    "map = map_k(recommendations_tensor, ground_truth, k=30, users_idx=users_idx, n_users=n_users, n_items=n_items)\n",
    "prec = precision_k(recommendations_tensor, ground_truth, k=30, users_idx=users_idx, n_users=n_users, n_items=n_items)\n",
    "rec = recall_k(recommendations_tensor, ground_truth, k=30, users_idx=users_idx, n_users=n_users, n_items=n_items)\n",
    "\n",
    "print(f\"MAP@30: {map:.6f} | Precision@30: {prec:.6f} | Recall@30: {rec:.6f}\")"
   ]
  },
  {
   "cell_type": "code",
   "execution_count": 37,
   "metadata": {},
   "outputs": [
    {
     "name": "stdout",
     "output_type": "stream",
     "text": [
      "MAP@50: 0.000914 | Precision@50: 0.000489 | Recall@50: 0.008093\n"
     ]
    }
   ],
   "source": [
    "map = map_k(recommendations_tensor, ground_truth, k=50, users_idx=users_idx, n_users=n_users, n_items=n_items)\n",
    "prec = precision_k(recommendations_tensor, ground_truth, k=50, users_idx=users_idx, n_users=n_users, n_items=n_items)\n",
    "rec = recall_k(recommendations_tensor, ground_truth, k=50, users_idx=users_idx, n_users=n_users, n_items=n_items)\n",
    "\n",
    "print(f\"MAP@50: {map:.6f} | Precision@50: {prec:.6f} | Recall@50: {rec:.6f}\")"
   ]
  },
  {
   "cell_type": "code",
   "execution_count": null,
   "metadata": {},
   "outputs": [],
   "source": []
  },
  {
   "cell_type": "code",
   "execution_count": null,
   "metadata": {},
   "outputs": [],
   "source": []
  },
  {
   "cell_type": "code",
   "execution_count": null,
   "metadata": {},
   "outputs": [],
   "source": []
  },
  {
   "cell_type": "code",
   "execution_count": null,
   "metadata": {},
   "outputs": [],
   "source": [
    "recommendations_submission = recommendations_full.merge(customer_id_map, on=\"session_id\").drop(\"session_id\", axis=1)\n",
    "item_to_article_map = dict(zip(article_id_map['item_id'], article_id_map['article_id']))\n",
    "recommendations_submission[\"prediction\"] = recommendations_submission['candidates'].apply(lambda x: \" \".join([str(item_to_article_map[item]) for item in x]))\n",
    "recommendations_submission = recommendations_submission.drop(\"candidates\", axis=1)"
   ]
  },
  {
   "cell_type": "code",
   "execution_count": null,
   "metadata": {},
   "outputs": [],
   "source": [
    "recommendations_submission = recommendations_submission[['customer_id', 'prediction']]\n",
    "recommendations_submission.to_csv(base_path / \"recommendations_submission.csv\", index=False)"
   ]
  },
  {
   "cell_type": "code",
   "execution_count": null,
   "metadata": {},
   "outputs": [],
   "source": [
    "import gzip\n",
    "import shutil\n",
    "\n",
    "with open(base_path / \"recommendations_submission.csv\", 'rb') as f_in:\n",
    "    with gzip.open(base_path / \"recommendations_submission.csv.gz\", 'wb') as f_out:\n",
    "        shutil.copyfileobj(f_in, f_out)"
   ]
  },
  {
   "cell_type": "code",
   "execution_count": null,
   "metadata": {},
   "outputs": [],
   "source": [
    "!ls -lah .data/hm/base"
   ]
  },
  {
   "cell_type": "code",
   "execution_count": null,
   "metadata": {},
   "outputs": [],
   "source": [
    "!kaggle competitions submit -c h-and-m-personalized-fashion-recommendations -f {base_path / \"recommendations_submission.csv.gz\"} -m \"Message\""
   ]
  },
  {
   "cell_type": "code",
   "execution_count": null,
   "metadata": {},
   "outputs": [],
   "source": []
  }
 ],
 "metadata": {
  "kernelspec": {
   "display_name": ".venv",
   "language": "python",
   "name": "python3"
  },
  "language_info": {
   "codemirror_mode": {
    "name": "ipython",
    "version": 3
   },
   "file_extension": ".py",
   "mimetype": "text/x-python",
   "name": "python",
   "nbconvert_exporter": "python",
   "pygments_lexer": "ipython3",
   "version": "3.10.14"
  }
 },
 "nbformat": 4,
 "nbformat_minor": 2
}
