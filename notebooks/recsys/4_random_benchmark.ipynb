{
 "cells": [
  {
   "cell_type": "code",
   "execution_count": 1,
   "metadata": {},
   "outputs": [],
   "source": [
    "%load_ext autoreload\n",
    "%autoreload 2\n",
    "\n",
    "import IPython\n",
    "from pathlib import Path\n",
    "import os\n",
    "locals = IPython.extract_module_locals() # type: ignore\n",
    "notebook_name = \"/\".join(locals[1][\"__vsc_ipynb_file__\"].split(\"/\"))\n",
    "os.chdir(Path(notebook_name).parent.parent.parent)"
   ]
  },
  {
   "cell_type": "code",
   "execution_count": 20,
   "metadata": {},
   "outputs": [],
   "source": [
    "import numpy as np\n",
    "import pandas as pd\n",
    "import polars as pl\n",
    "import seaborn as sns\n",
    "import matplotlib.pyplot as plt\n",
    "import torch"
   ]
  },
  {
   "cell_type": "code",
   "execution_count": null,
   "metadata": {},
   "outputs": [],
   "source": []
  },
  {
   "cell_type": "code",
   "execution_count": 3,
   "metadata": {},
   "outputs": [],
   "source": [
    "base_path = Path(\".data/hm/base\")\n",
    "relations = pd.read_csv(base_path / \"transactions_train.csv\")\n",
    "sample_submission = pd.read_csv(base_path / \"sample_submission.csv\")\n",
    "\n",
    "intermediate_path = Path(\".data/hm/intermediate/cov1\")\n",
    "\n",
    "relations_train = pd.read_parquet(intermediate_path / \"relations_train.parquet\")\n",
    "relations_validation = pd.read_parquet(intermediate_path / \"relations_validation.parquet\")\n",
    "customer_id_map = pd.read_parquet(intermediate_path / \"customer_id_map.parquet\")\n",
    "article_id_map = pd.read_parquet(intermediate_path / \"article_id_map.parquet\")"
   ]
  },
  {
   "cell_type": "code",
   "execution_count": 4,
   "metadata": {},
   "outputs": [
    {
     "name": "stdout",
     "output_type": "stream",
     "text": [
      "1371980 104547 31788324\n"
     ]
    }
   ],
   "source": [
    "n_users = sample_submission.customer_id.nunique()\n",
    "n_items = relations.article_id.nunique()\n",
    "\n",
    "print(n_users, n_items, relations.shape[0])"
   ]
  },
  {
   "cell_type": "code",
   "execution_count": null,
   "metadata": {},
   "outputs": [],
   "source": []
  },
  {
   "cell_type": "code",
   "execution_count": 5,
   "metadata": {},
   "outputs": [
    {
     "data": {
      "text/html": [
       "<div>\n",
       "<style scoped>\n",
       "    .dataframe tbody tr th:only-of-type {\n",
       "        vertical-align: middle;\n",
       "    }\n",
       "\n",
       "    .dataframe tbody tr th {\n",
       "        vertical-align: top;\n",
       "    }\n",
       "\n",
       "    .dataframe thead th {\n",
       "        text-align: right;\n",
       "    }\n",
       "</style>\n",
       "<table border=\"1\" class=\"dataframe\">\n",
       "  <thead>\n",
       "    <tr style=\"text-align: right;\">\n",
       "      <th></th>\n",
       "      <th>customer_id</th>\n",
       "      <th>prediction</th>\n",
       "    </tr>\n",
       "  </thead>\n",
       "  <tbody>\n",
       "    <tr>\n",
       "      <th>0</th>\n",
       "      <td>00000dbacae5abe5e23885899a1fa44253a17956c6d1c3...</td>\n",
       "      <td>0706016001 0706016002 0372860001 0610776002 07...</td>\n",
       "    </tr>\n",
       "    <tr>\n",
       "      <th>1</th>\n",
       "      <td>0000423b00ade91418cceaf3b26c6af3dd342b51fd051e...</td>\n",
       "      <td>0706016001 0706016002 0372860001 0610776002 07...</td>\n",
       "    </tr>\n",
       "    <tr>\n",
       "      <th>2</th>\n",
       "      <td>000058a12d5b43e67d225668fa1f8d618c13dc232df0ca...</td>\n",
       "      <td>0706016001 0706016002 0372860001 0610776002 07...</td>\n",
       "    </tr>\n",
       "    <tr>\n",
       "      <th>3</th>\n",
       "      <td>00005ca1c9ed5f5146b52ac8639a40ca9d57aeff4d1bd2...</td>\n",
       "      <td>0706016001 0706016002 0372860001 0610776002 07...</td>\n",
       "    </tr>\n",
       "    <tr>\n",
       "      <th>4</th>\n",
       "      <td>00006413d8573cd20ed7128e53b7b13819fe5cfc2d801f...</td>\n",
       "      <td>0706016001 0706016002 0372860001 0610776002 07...</td>\n",
       "    </tr>\n",
       "    <tr>\n",
       "      <th>...</th>\n",
       "      <td>...</td>\n",
       "      <td>...</td>\n",
       "    </tr>\n",
       "    <tr>\n",
       "      <th>1371975</th>\n",
       "      <td>ffffbbf78b6eaac697a8a5dfbfd2bfa8113ee5b403e474...</td>\n",
       "      <td>0706016001 0706016002 0372860001 0610776002 07...</td>\n",
       "    </tr>\n",
       "    <tr>\n",
       "      <th>1371976</th>\n",
       "      <td>ffffcd5046a6143d29a04fb8c424ce494a76e5cdf4fab5...</td>\n",
       "      <td>0706016001 0706016002 0372860001 0610776002 07...</td>\n",
       "    </tr>\n",
       "    <tr>\n",
       "      <th>1371977</th>\n",
       "      <td>ffffcf35913a0bee60e8741cb2b4e78b8a98ee5ff2e6a1...</td>\n",
       "      <td>0706016001 0706016002 0372860001 0610776002 07...</td>\n",
       "    </tr>\n",
       "    <tr>\n",
       "      <th>1371978</th>\n",
       "      <td>ffffd7744cebcf3aca44ae7049d2a94b87074c3d4ffe38...</td>\n",
       "      <td>0706016001 0706016002 0372860001 0610776002 07...</td>\n",
       "    </tr>\n",
       "    <tr>\n",
       "      <th>1371979</th>\n",
       "      <td>ffffd9ac14e89946416d80e791d064701994755c3ab686...</td>\n",
       "      <td>0706016001 0706016002 0372860001 0610776002 07...</td>\n",
       "    </tr>\n",
       "  </tbody>\n",
       "</table>\n",
       "<p>1371980 rows × 2 columns</p>\n",
       "</div>"
      ],
      "text/plain": [
       "                                               customer_id  \\\n",
       "0        00000dbacae5abe5e23885899a1fa44253a17956c6d1c3...   \n",
       "1        0000423b00ade91418cceaf3b26c6af3dd342b51fd051e...   \n",
       "2        000058a12d5b43e67d225668fa1f8d618c13dc232df0ca...   \n",
       "3        00005ca1c9ed5f5146b52ac8639a40ca9d57aeff4d1bd2...   \n",
       "4        00006413d8573cd20ed7128e53b7b13819fe5cfc2d801f...   \n",
       "...                                                    ...   \n",
       "1371975  ffffbbf78b6eaac697a8a5dfbfd2bfa8113ee5b403e474...   \n",
       "1371976  ffffcd5046a6143d29a04fb8c424ce494a76e5cdf4fab5...   \n",
       "1371977  ffffcf35913a0bee60e8741cb2b4e78b8a98ee5ff2e6a1...   \n",
       "1371978  ffffd7744cebcf3aca44ae7049d2a94b87074c3d4ffe38...   \n",
       "1371979  ffffd9ac14e89946416d80e791d064701994755c3ab686...   \n",
       "\n",
       "                                                prediction  \n",
       "0        0706016001 0706016002 0372860001 0610776002 07...  \n",
       "1        0706016001 0706016002 0372860001 0610776002 07...  \n",
       "2        0706016001 0706016002 0372860001 0610776002 07...  \n",
       "3        0706016001 0706016002 0372860001 0610776002 07...  \n",
       "4        0706016001 0706016002 0372860001 0610776002 07...  \n",
       "...                                                    ...  \n",
       "1371975  0706016001 0706016002 0372860001 0610776002 07...  \n",
       "1371976  0706016001 0706016002 0372860001 0610776002 07...  \n",
       "1371977  0706016001 0706016002 0372860001 0610776002 07...  \n",
       "1371978  0706016001 0706016002 0372860001 0610776002 07...  \n",
       "1371979  0706016001 0706016002 0372860001 0610776002 07...  \n",
       "\n",
       "[1371980 rows x 2 columns]"
      ]
     },
     "execution_count": 5,
     "metadata": {},
     "output_type": "execute_result"
    }
   ],
   "source": [
    "sample_submission"
   ]
  },
  {
   "cell_type": "code",
   "execution_count": 6,
   "metadata": {},
   "outputs": [
    {
     "data": {
      "text/html": [
       "<div>\n",
       "<style scoped>\n",
       "    .dataframe tbody tr th:only-of-type {\n",
       "        vertical-align: middle;\n",
       "    }\n",
       "\n",
       "    .dataframe tbody tr th {\n",
       "        vertical-align: top;\n",
       "    }\n",
       "\n",
       "    .dataframe thead th {\n",
       "        text-align: right;\n",
       "    }\n",
       "</style>\n",
       "<table border=\"1\" class=\"dataframe\">\n",
       "  <thead>\n",
       "    <tr style=\"text-align: right;\">\n",
       "      <th></th>\n",
       "      <th>t_dat</th>\n",
       "      <th>price</th>\n",
       "      <th>sales_channel_id</th>\n",
       "      <th>session_id</th>\n",
       "      <th>item_id</th>\n",
       "    </tr>\n",
       "  </thead>\n",
       "  <tbody>\n",
       "    <tr>\n",
       "      <th>31691839</th>\n",
       "      <td>2020-09-20</td>\n",
       "      <td>0.013542</td>\n",
       "      <td>1</td>\n",
       "      <td>80</td>\n",
       "      <td>2145</td>\n",
       "    </tr>\n",
       "    <tr>\n",
       "      <th>31755458</th>\n",
       "      <td>2020-09-22</td>\n",
       "      <td>0.042356</td>\n",
       "      <td>2</td>\n",
       "      <td>86</td>\n",
       "      <td>85132</td>\n",
       "    </tr>\n",
       "    <tr>\n",
       "      <th>31723328</th>\n",
       "      <td>2020-09-21</td>\n",
       "      <td>0.033881</td>\n",
       "      <td>2</td>\n",
       "      <td>107</td>\n",
       "      <td>60282</td>\n",
       "    </tr>\n",
       "    <tr>\n",
       "      <th>31723329</th>\n",
       "      <td>2020-09-21</td>\n",
       "      <td>0.042356</td>\n",
       "      <td>2</td>\n",
       "      <td>107</td>\n",
       "      <td>102327</td>\n",
       "    </tr>\n",
       "    <tr>\n",
       "      <th>31723330</th>\n",
       "      <td>2020-09-21</td>\n",
       "      <td>0.050831</td>\n",
       "      <td>2</td>\n",
       "      <td>107</td>\n",
       "      <td>80800</td>\n",
       "    </tr>\n",
       "    <tr>\n",
       "      <th>...</th>\n",
       "      <td>...</td>\n",
       "      <td>...</td>\n",
       "      <td>...</td>\n",
       "      <td>...</td>\n",
       "      <td>...</td>\n",
       "    </tr>\n",
       "    <tr>\n",
       "      <th>31575037</th>\n",
       "      <td>2020-09-16</td>\n",
       "      <td>0.005068</td>\n",
       "      <td>2</td>\n",
       "      <td>1371879</td>\n",
       "      <td>93696</td>\n",
       "    </tr>\n",
       "    <tr>\n",
       "      <th>31575038</th>\n",
       "      <td>2020-09-16</td>\n",
       "      <td>0.016932</td>\n",
       "      <td>2</td>\n",
       "      <td>1371879</td>\n",
       "      <td>92067</td>\n",
       "    </tr>\n",
       "    <tr>\n",
       "      <th>31575039</th>\n",
       "      <td>2020-09-16</td>\n",
       "      <td>0.042356</td>\n",
       "      <td>1</td>\n",
       "      <td>1371937</td>\n",
       "      <td>79455</td>\n",
       "    </tr>\n",
       "    <tr>\n",
       "      <th>31575040</th>\n",
       "      <td>2020-09-16</td>\n",
       "      <td>0.016932</td>\n",
       "      <td>1</td>\n",
       "      <td>1371937</td>\n",
       "      <td>68989</td>\n",
       "    </tr>\n",
       "    <tr>\n",
       "      <th>31788323</th>\n",
       "      <td>2020-09-22</td>\n",
       "      <td>0.033881</td>\n",
       "      <td>2</td>\n",
       "      <td>1371960</td>\n",
       "      <td>102985</td>\n",
       "    </tr>\n",
       "  </tbody>\n",
       "</table>\n",
       "<p>240311 rows × 5 columns</p>\n",
       "</div>"
      ],
      "text/plain": [
       "              t_dat     price  sales_channel_id  session_id  item_id\n",
       "31691839 2020-09-20  0.013542                 1          80     2145\n",
       "31755458 2020-09-22  0.042356                 2          86    85132\n",
       "31723328 2020-09-21  0.033881                 2         107    60282\n",
       "31723329 2020-09-21  0.042356                 2         107   102327\n",
       "31723330 2020-09-21  0.050831                 2         107    80800\n",
       "...             ...       ...               ...         ...      ...\n",
       "31575037 2020-09-16  0.005068                 2     1371879    93696\n",
       "31575038 2020-09-16  0.016932                 2     1371879    92067\n",
       "31575039 2020-09-16  0.042356                 1     1371937    79455\n",
       "31575040 2020-09-16  0.016932                 1     1371937    68989\n",
       "31788323 2020-09-22  0.033881                 2     1371960   102985\n",
       "\n",
       "[240311 rows x 5 columns]"
      ]
     },
     "execution_count": 6,
     "metadata": {},
     "output_type": "execute_result"
    }
   ],
   "source": [
    "relations_validation"
   ]
  },
  {
   "cell_type": "code",
   "execution_count": 15,
   "metadata": {},
   "outputs": [],
   "source": [
    "N_candid = 50\n",
    "\n",
    "random_candidates = np.random.randint(low=0, high=n_items, size=(n_users, N_candid))\n",
    "\n",
    "random_recommendations_df = pd.DataFrame({\n",
    "    'session_id': range(n_users),\n",
    "    'candidates': random_candidates.tolist()\n",
    "})"
   ]
  },
  {
   "cell_type": "code",
   "execution_count": 18,
   "metadata": {},
   "outputs": [],
   "source": [
    "most_popular_items = relations_train[[\"session_id\", 'item_id']].drop_duplicates()[\"item_id\"].value_counts()\n",
    "\n",
    "most_popular_recommendations_df = pd.DataFrame({\n",
    "    'session_id': range(n_users),\n",
    "    'candidates': [most_popular_items.index[:N_candid].tolist()] * n_users\n",
    "})"
   ]
  },
  {
   "cell_type": "code",
   "execution_count": null,
   "metadata": {},
   "outputs": [],
   "source": []
  },
  {
   "cell_type": "code",
   "execution_count": 19,
   "metadata": {},
   "outputs": [],
   "source": [
    "from retail_recommender_system.evaluation.metrics import map_k, precision_k, recall_k"
   ]
  },
  {
   "cell_type": "code",
   "execution_count": 21,
   "metadata": {},
   "outputs": [],
   "source": [
    "ground_truth = torch.from_numpy(relations_validation[[\"session_id\", \"item_id\"]].values).T"
   ]
  },
  {
   "cell_type": "code",
   "execution_count": 23,
   "metadata": {},
   "outputs": [
    {
     "name": "stdout",
     "output_type": "stream",
     "text": [
      "MAP@12: 0.000038 | Precision@12: 0.000033 | Recall@12: 0.000122\n",
      "MAP@30: 0.000035 | Precision@30: 0.000036 | Recall@30: 0.000327\n",
      "MAP@50: 0.000035 | Precision@50: 0.000037 | Recall@50: 0.000579\n"
     ]
    }
   ],
   "source": [
    "recommendations_tensor = torch.from_numpy(np.array(random_recommendations_df['candidates'].tolist()))\n",
    "users_idx = torch.from_numpy(random_recommendations_df['session_id'].values)\n",
    "\n",
    "for k in [12, 30, 50]:\n",
    "    map = map_k(recommendations_tensor, ground_truth, k=k, users_idx=users_idx, n_users=n_users, n_items=n_items)\n",
    "    prec = precision_k(recommendations_tensor, ground_truth, k=k, users_idx=users_idx, n_users=n_users, n_items=n_items)\n",
    "    rec = recall_k(recommendations_tensor, ground_truth, k=k, users_idx=users_idx, n_users=n_users, n_items=n_items)\n",
    "\n",
    "    print(f\"MAP@{k}: {map:.6f} | Precision@{k}: {prec:.6f} | Recall@{k}: {rec:.6f}\")"
   ]
  },
  {
   "cell_type": "code",
   "execution_count": null,
   "metadata": {},
   "outputs": [],
   "source": []
  },
  {
   "cell_type": "code",
   "execution_count": 24,
   "metadata": {},
   "outputs": [
    {
     "name": "stdout",
     "output_type": "stream",
     "text": [
      "MAP@12: 0.003145 | Precision@12: 0.002774 | Recall@12: 0.009219\n",
      "MAP@30: 0.002683 | Precision@30: 0.002114 | Recall@30: 0.018270\n",
      "MAP@50: 0.002352 | Precision@50: 0.001664 | Recall@50: 0.024320\n"
     ]
    }
   ],
   "source": [
    "recommendations_tensor = torch.from_numpy(np.array(most_popular_recommendations_df['candidates'].tolist()))\n",
    "users_idx = torch.from_numpy(most_popular_recommendations_df['session_id'].values)\n",
    "\n",
    "for k in [12, 30, 50]:\n",
    "    map = map_k(recommendations_tensor, ground_truth, k=k, users_idx=users_idx, n_users=n_users, n_items=n_items)\n",
    "    prec = precision_k(recommendations_tensor, ground_truth, k=k, users_idx=users_idx, n_users=n_users, n_items=n_items)\n",
    "    rec = recall_k(recommendations_tensor, ground_truth, k=k, users_idx=users_idx, n_users=n_users, n_items=n_items)\n",
    "\n",
    "    print(f\"MAP@{k}: {map:.6f} | Precision@{k}: {prec:.6f} | Recall@{k}: {rec:.6f}\")"
   ]
  },
  {
   "cell_type": "code",
   "execution_count": null,
   "metadata": {},
   "outputs": [],
   "source": []
  }
 ],
 "metadata": {
  "kernelspec": {
   "display_name": ".venv",
   "language": "python",
   "name": "python3"
  },
  "language_info": {
   "codemirror_mode": {
    "name": "ipython",
    "version": 3
   },
   "file_extension": ".py",
   "mimetype": "text/x-python",
   "name": "python",
   "nbconvert_exporter": "python",
   "pygments_lexer": "ipython3",
   "version": "3.10.14"
  }
 },
 "nbformat": 4,
 "nbformat_minor": 2
}
