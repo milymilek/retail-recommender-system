{
 "cells": [
  {
   "cell_type": "code",
   "execution_count": 1,
   "metadata": {},
   "outputs": [],
   "source": [
    "%load_ext autoreload\n",
    "%autoreload 2\n",
    "\n",
    "import IPython\n",
    "from pathlib import Path\n",
    "import os\n",
    "locals = IPython.extract_module_locals() # type: ignore\n",
    "notebook_name = \"/\".join(locals[1][\"__vsc_ipynb_file__\"].split(\"/\"))\n",
    "os.chdir(Path(notebook_name).parent.parent)"
   ]
  },
  {
   "cell_type": "code",
   "execution_count": 2,
   "metadata": {},
   "outputs": [],
   "source": [
    "from typing import Callable, Any\n",
    "from pathlib import Path\n",
    "\n",
    "import numpy as np\n",
    "import polars as pl\n",
    "import seaborn as sns\n",
    "import matplotlib.pyplot as plt\n",
    "from tqdm import tqdm\n",
    "from sklearn.model_selection import train_test_split\n",
    "import random\n",
    "\n",
    "seed = 0\n",
    "random.seed(seed)\n",
    "np.random.seed(seed)"
   ]
  },
  {
   "cell_type": "code",
   "execution_count": 3,
   "metadata": {},
   "outputs": [],
   "source": [
    "relations = pl.read_parquet(\".data/hm/intermediate/full/relations.parquet\")\n",
    "users = pl.read_parquet(\".data/hm/intermediate/full/users.parquet\")\n",
    "items = pl.read_parquet(\".data/hm/intermediate/full/articles.parquet\")"
   ]
  },
  {
   "cell_type": "code",
   "execution_count": 4,
   "metadata": {},
   "outputs": [],
   "source": [
    "n_users = relations.get_column(\"customer_id_map\").n_unique()\n",
    "n_items = items.get_column('article_id').n_unique()\n",
    "relations_n_users = relations.get_column(\"customer_id\").n_unique()\n",
    "relations_n_items = relations.get_column(\"article_id\").n_unique()"
   ]
  },
  {
   "cell_type": "code",
   "execution_count": 5,
   "metadata": {},
   "outputs": [
    {
     "data": {
      "text/plain": [
       "1362281"
      ]
     },
     "execution_count": 5,
     "metadata": {},
     "output_type": "execute_result"
    }
   ],
   "source": [
    "n_users"
   ]
  },
  {
   "cell_type": "code",
   "execution_count": 6,
   "metadata": {},
   "outputs": [],
   "source": [
    "u_f = 0.01\n",
    "\n",
    "relations_filtered = relations.join(relations.select(\"customer_id_map\").unique().sample(fraction=u_f), on=\"customer_id_map\", how=\"right\")\n",
    "relations_filtered_n_users = relations_filtered.get_column(\"customer_id\").n_unique()\n",
    "relations_filtered_n_items = relations_filtered.get_column(\"article_id\").n_unique()"
   ]
  },
  {
   "cell_type": "code",
   "execution_count": 7,
   "metadata": {},
   "outputs": [
    {
     "name": "stdout",
     "output_type": "stream",
     "text": [
      "(Users) Nunique: 1362281\n",
      "(Items) Nunique: 105542\n",
      "(Relations, Users) Nunique: 1362281 | diff: 0\n",
      "(Relations, Items) Nunique: 104547 | diff: 995\n",
      "(Relations, Users) Nunique (filtered): 13622 | diff: 1348659\n",
      "(Relations, Items) Nunique (filtered): 51641 | diff: 53901\n"
     ]
    }
   ],
   "source": [
    "print(f\"\"\"(Users) Nunique: {n_users}\n",
    "(Items) Nunique: {n_items}\n",
    "(Relations, Users) Nunique: {relations_n_users} | diff: {n_users - relations_n_users}\n",
    "(Relations, Items) Nunique: {relations_n_items} | diff: {n_items - relations_n_items}\n",
    "(Relations, Users) Nunique (filtered): {relations_filtered_n_users} | diff: {n_users - relations_filtered_n_users}\n",
    "(Relations, Items) Nunique (filtered): {relations_filtered_n_items} | diff: {n_items - relations_filtered_n_items}\"\"\")"
   ]
  },
  {
   "cell_type": "code",
   "execution_count": 8,
   "metadata": {},
   "outputs": [
    {
     "data": {
      "text/plain": [
       "(315187, 7)"
      ]
     },
     "execution_count": 8,
     "metadata": {},
     "output_type": "execute_result"
    }
   ],
   "source": [
    "relations_filtered.shape"
   ]
  },
  {
   "cell_type": "code",
   "execution_count": 9,
   "metadata": {},
   "outputs": [
    {
     "data": {
      "text/plain": [
       "(array([2.547e+03, 9.400e+02, 1.548e+03, 5.450e+02, 9.110e+02, 3.710e+02,\n",
       "        6.840e+02, 2.810e+02, 4.780e+02, 2.480e+02, 3.820e+02, 2.080e+02,\n",
       "        3.150e+02, 1.550e+02, 2.770e+02, 1.170e+02, 2.150e+02, 1.130e+02,\n",
       "        1.980e+02, 9.300e+01, 1.730e+02, 8.200e+01, 1.790e+02, 6.700e+01,\n",
       "        6.900e+01, 1.610e+02, 6.300e+01, 1.320e+02, 5.700e+01, 1.150e+02,\n",
       "        4.500e+01, 1.040e+02, 6.200e+01, 9.400e+01, 3.800e+01, 6.700e+01,\n",
       "        3.700e+01, 7.000e+01, 2.600e+01, 5.900e+01, 3.000e+01, 5.600e+01,\n",
       "        3.000e+01, 6.300e+01, 2.400e+01, 5.200e+01, 3.000e+01, 5.500e+01,\n",
       "        1.900e+01, 2.500e+01, 4.000e+01, 2.100e+01, 4.200e+01, 1.800e+01,\n",
       "        3.400e+01, 1.700e+01, 2.300e+01, 1.900e+01, 3.200e+01, 1.900e+01,\n",
       "        2.600e+01, 1.700e+01, 2.400e+01, 7.000e+00, 1.400e+01, 1.100e+01,\n",
       "        2.600e+01, 4.000e+00, 1.200e+01, 8.000e+00, 1.900e+01, 1.200e+01,\n",
       "        1.200e+01, 1.000e+01, 5.000e+00, 1.900e+01, 7.000e+00, 1.600e+01,\n",
       "        4.000e+00, 1.300e+01, 7.000e+00, 1.400e+01, 5.000e+00, 7.000e+00,\n",
       "        6.000e+00, 9.000e+00, 3.000e+00, 1.500e+01, 3.000e+00, 1.400e+01,\n",
       "        5.000e+00, 2.000e+00, 5.000e+00, 7.000e+00, 4.000e+00, 8.000e+00,\n",
       "        3.000e+00, 7.000e+00, 2.000e+00, 2.000e+00, 9.000e+00, 2.000e+00,\n",
       "        1.000e+01, 3.000e+00, 5.000e+00, 3.000e+00, 4.000e+00, 1.000e+00,\n",
       "        4.000e+00, 4.000e+00, 5.000e+00, 1.000e+00, 2.000e+00, 1.000e+00,\n",
       "        3.000e+00, 1.000e+00, 4.000e+00, 1.000e+00, 3.000e+00, 1.000e+00,\n",
       "        3.000e+00, 5.000e+00, 2.000e+00, 2.000e+00, 4.000e+00, 3.000e+00,\n",
       "        2.000e+00, 4.000e+00, 4.000e+00, 5.000e+00, 2.000e+00, 5.000e+00,\n",
       "        3.000e+00, 1.000e+00, 4.000e+00, 5.000e+00, 2.000e+00, 5.000e+00,\n",
       "        2.000e+00, 2.000e+00, 2.000e+00, 2.000e+00, 2.000e+00, 3.000e+00,\n",
       "        1.000e+00, 3.000e+00, 1.000e+00, 3.000e+00, 1.000e+00, 2.000e+00,\n",
       "        3.000e+00, 2.000e+00, 2.000e+00, 1.000e+00, 2.000e+00, 0.000e+00,\n",
       "        3.000e+00, 2.000e+00, 0.000e+00, 2.000e+00, 5.000e+00, 0.000e+00,\n",
       "        4.000e+00, 2.000e+00, 4.000e+00, 0.000e+00, 3.000e+00, 0.000e+00,\n",
       "        2.000e+00, 3.000e+00, 2.000e+00, 1.000e+00, 2.000e+00, 1.000e+00,\n",
       "        1.000e+00, 1.000e+00, 1.000e+00, 1.000e+00, 0.000e+00, 2.000e+00,\n",
       "        1.000e+00, 1.000e+00, 1.000e+00, 6.000e+00, 0.000e+00, 0.000e+00,\n",
       "        1.000e+00, 1.000e+00, 0.000e+00, 2.000e+00, 0.000e+00, 0.000e+00,\n",
       "        1.000e+00, 0.000e+00, 0.000e+00, 1.000e+00, 0.000e+00, 1.000e+00,\n",
       "        0.000e+00, 1.000e+00, 1.000e+00, 0.000e+00, 0.000e+00, 0.000e+00,\n",
       "        0.000e+00, 0.000e+00, 0.000e+00, 0.000e+00, 1.000e+00, 0.000e+00,\n",
       "        0.000e+00, 0.000e+00, 1.000e+00, 1.000e+00, 0.000e+00, 0.000e+00,\n",
       "        1.000e+00, 0.000e+00, 0.000e+00, 0.000e+00, 1.000e+00, 1.000e+00,\n",
       "        0.000e+00, 0.000e+00, 0.000e+00, 1.000e+00, 0.000e+00, 1.000e+00,\n",
       "        1.000e+00, 1.000e+00, 0.000e+00, 0.000e+00, 0.000e+00, 0.000e+00,\n",
       "        0.000e+00, 0.000e+00, 1.000e+00, 1.000e+00, 1.000e+00, 2.000e+00,\n",
       "        0.000e+00, 0.000e+00, 0.000e+00, 0.000e+00, 0.000e+00, 0.000e+00,\n",
       "        0.000e+00, 1.000e+00, 0.000e+00, 0.000e+00, 0.000e+00, 0.000e+00,\n",
       "        0.000e+00, 0.000e+00, 0.000e+00, 0.000e+00, 0.000e+00, 0.000e+00,\n",
       "        0.000e+00, 0.000e+00, 0.000e+00, 0.000e+00, 0.000e+00, 1.000e+00,\n",
       "        0.000e+00, 0.000e+00, 0.000e+00, 0.000e+00, 0.000e+00, 0.000e+00,\n",
       "        0.000e+00, 0.000e+00, 0.000e+00, 0.000e+00, 0.000e+00, 1.000e+00,\n",
       "        0.000e+00, 1.000e+00, 0.000e+00, 1.000e+00, 0.000e+00, 0.000e+00,\n",
       "        0.000e+00, 0.000e+00, 0.000e+00, 0.000e+00, 0.000e+00, 0.000e+00,\n",
       "        0.000e+00, 2.000e+00, 0.000e+00, 0.000e+00, 0.000e+00, 0.000e+00,\n",
       "        0.000e+00, 0.000e+00, 1.000e+00, 0.000e+00, 0.000e+00, 0.000e+00,\n",
       "        0.000e+00, 0.000e+00, 0.000e+00, 0.000e+00, 0.000e+00, 0.000e+00,\n",
       "        0.000e+00, 0.000e+00, 0.000e+00, 0.000e+00, 0.000e+00, 0.000e+00,\n",
       "        0.000e+00, 0.000e+00, 1.000e+00, 0.000e+00, 0.000e+00, 0.000e+00,\n",
       "        0.000e+00, 0.000e+00, 1.000e+00, 0.000e+00, 0.000e+00, 0.000e+00,\n",
       "        0.000e+00, 0.000e+00, 0.000e+00, 0.000e+00, 0.000e+00, 0.000e+00,\n",
       "        0.000e+00, 0.000e+00, 1.000e+00, 0.000e+00, 0.000e+00, 0.000e+00,\n",
       "        0.000e+00, 0.000e+00, 0.000e+00, 0.000e+00, 0.000e+00, 0.000e+00,\n",
       "        0.000e+00, 0.000e+00, 0.000e+00, 0.000e+00, 0.000e+00, 0.000e+00,\n",
       "        0.000e+00, 1.000e+00, 0.000e+00, 0.000e+00, 0.000e+00, 1.000e+00,\n",
       "        0.000e+00, 0.000e+00, 0.000e+00, 0.000e+00, 0.000e+00, 0.000e+00,\n",
       "        0.000e+00, 0.000e+00, 0.000e+00, 0.000e+00, 0.000e+00, 0.000e+00,\n",
       "        0.000e+00, 0.000e+00, 0.000e+00, 0.000e+00, 1.000e+00, 0.000e+00,\n",
       "        0.000e+00, 0.000e+00, 0.000e+00, 0.000e+00, 0.000e+00, 0.000e+00,\n",
       "        0.000e+00, 0.000e+00, 0.000e+00, 0.000e+00, 0.000e+00, 0.000e+00,\n",
       "        0.000e+00, 0.000e+00, 0.000e+00, 0.000e+00, 0.000e+00, 0.000e+00,\n",
       "        0.000e+00, 0.000e+00, 0.000e+00, 0.000e+00, 0.000e+00, 0.000e+00,\n",
       "        0.000e+00, 0.000e+00, 0.000e+00, 0.000e+00, 0.000e+00, 0.000e+00,\n",
       "        0.000e+00, 0.000e+00, 0.000e+00, 0.000e+00, 0.000e+00, 0.000e+00,\n",
       "        0.000e+00, 0.000e+00, 0.000e+00, 0.000e+00, 0.000e+00, 0.000e+00,\n",
       "        0.000e+00, 0.000e+00, 0.000e+00, 0.000e+00, 0.000e+00, 0.000e+00,\n",
       "        0.000e+00, 0.000e+00, 0.000e+00, 0.000e+00, 0.000e+00, 0.000e+00,\n",
       "        0.000e+00, 0.000e+00, 0.000e+00, 0.000e+00, 0.000e+00, 0.000e+00,\n",
       "        0.000e+00, 0.000e+00, 0.000e+00, 0.000e+00, 0.000e+00, 0.000e+00,\n",
       "        0.000e+00, 0.000e+00, 0.000e+00, 0.000e+00, 0.000e+00, 0.000e+00,\n",
       "        0.000e+00, 0.000e+00, 0.000e+00, 0.000e+00, 0.000e+00, 0.000e+00,\n",
       "        0.000e+00, 0.000e+00, 0.000e+00, 0.000e+00, 0.000e+00, 0.000e+00,\n",
       "        0.000e+00, 0.000e+00, 0.000e+00, 0.000e+00, 0.000e+00, 0.000e+00,\n",
       "        0.000e+00, 0.000e+00, 0.000e+00, 0.000e+00, 0.000e+00, 0.000e+00,\n",
       "        0.000e+00, 0.000e+00, 0.000e+00, 0.000e+00, 0.000e+00, 0.000e+00,\n",
       "        0.000e+00, 0.000e+00, 0.000e+00, 0.000e+00, 0.000e+00, 0.000e+00,\n",
       "        0.000e+00, 0.000e+00, 0.000e+00, 0.000e+00, 0.000e+00, 0.000e+00,\n",
       "        0.000e+00, 0.000e+00, 1.000e+00, 0.000e+00, 0.000e+00, 0.000e+00,\n",
       "        0.000e+00, 0.000e+00, 0.000e+00, 0.000e+00, 0.000e+00, 0.000e+00,\n",
       "        0.000e+00, 1.000e+00]),\n",
       " array([  1.  ,   2.48,   3.96,   5.44,   6.92,   8.4 ,   9.88,  11.36,\n",
       "         12.84,  14.32,  15.8 ,  17.28,  18.76,  20.24,  21.72,  23.2 ,\n",
       "         24.68,  26.16,  27.64,  29.12,  30.6 ,  32.08,  33.56,  35.04,\n",
       "         36.52,  38.  ,  39.48,  40.96,  42.44,  43.92,  45.4 ,  46.88,\n",
       "         48.36,  49.84,  51.32,  52.8 ,  54.28,  55.76,  57.24,  58.72,\n",
       "         60.2 ,  61.68,  63.16,  64.64,  66.12,  67.6 ,  69.08,  70.56,\n",
       "         72.04,  73.52,  75.  ,  76.48,  77.96,  79.44,  80.92,  82.4 ,\n",
       "         83.88,  85.36,  86.84,  88.32,  89.8 ,  91.28,  92.76,  94.24,\n",
       "         95.72,  97.2 ,  98.68, 100.16, 101.64, 103.12, 104.6 , 106.08,\n",
       "        107.56, 109.04, 110.52, 112.  , 113.48, 114.96, 116.44, 117.92,\n",
       "        119.4 , 120.88, 122.36, 123.84, 125.32, 126.8 , 128.28, 129.76,\n",
       "        131.24, 132.72, 134.2 , 135.68, 137.16, 138.64, 140.12, 141.6 ,\n",
       "        143.08, 144.56, 146.04, 147.52, 149.  , 150.48, 151.96, 153.44,\n",
       "        154.92, 156.4 , 157.88, 159.36, 160.84, 162.32, 163.8 , 165.28,\n",
       "        166.76, 168.24, 169.72, 171.2 , 172.68, 174.16, 175.64, 177.12,\n",
       "        178.6 , 180.08, 181.56, 183.04, 184.52, 186.  , 187.48, 188.96,\n",
       "        190.44, 191.92, 193.4 , 194.88, 196.36, 197.84, 199.32, 200.8 ,\n",
       "        202.28, 203.76, 205.24, 206.72, 208.2 , 209.68, 211.16, 212.64,\n",
       "        214.12, 215.6 , 217.08, 218.56, 220.04, 221.52, 223.  , 224.48,\n",
       "        225.96, 227.44, 228.92, 230.4 , 231.88, 233.36, 234.84, 236.32,\n",
       "        237.8 , 239.28, 240.76, 242.24, 243.72, 245.2 , 246.68, 248.16,\n",
       "        249.64, 251.12, 252.6 , 254.08, 255.56, 257.04, 258.52, 260.  ,\n",
       "        261.48, 262.96, 264.44, 265.92, 267.4 , 268.88, 270.36, 271.84,\n",
       "        273.32, 274.8 , 276.28, 277.76, 279.24, 280.72, 282.2 , 283.68,\n",
       "        285.16, 286.64, 288.12, 289.6 , 291.08, 292.56, 294.04, 295.52,\n",
       "        297.  , 298.48, 299.96, 301.44, 302.92, 304.4 , 305.88, 307.36,\n",
       "        308.84, 310.32, 311.8 , 313.28, 314.76, 316.24, 317.72, 319.2 ,\n",
       "        320.68, 322.16, 323.64, 325.12, 326.6 , 328.08, 329.56, 331.04,\n",
       "        332.52, 334.  , 335.48, 336.96, 338.44, 339.92, 341.4 , 342.88,\n",
       "        344.36, 345.84, 347.32, 348.8 , 350.28, 351.76, 353.24, 354.72,\n",
       "        356.2 , 357.68, 359.16, 360.64, 362.12, 363.6 , 365.08, 366.56,\n",
       "        368.04, 369.52, 371.  , 372.48, 373.96, 375.44, 376.92, 378.4 ,\n",
       "        379.88, 381.36, 382.84, 384.32, 385.8 , 387.28, 388.76, 390.24,\n",
       "        391.72, 393.2 , 394.68, 396.16, 397.64, 399.12, 400.6 , 402.08,\n",
       "        403.56, 405.04, 406.52, 408.  , 409.48, 410.96, 412.44, 413.92,\n",
       "        415.4 , 416.88, 418.36, 419.84, 421.32, 422.8 , 424.28, 425.76,\n",
       "        427.24, 428.72, 430.2 , 431.68, 433.16, 434.64, 436.12, 437.6 ,\n",
       "        439.08, 440.56, 442.04, 443.52, 445.  , 446.48, 447.96, 449.44,\n",
       "        450.92, 452.4 , 453.88, 455.36, 456.84, 458.32, 459.8 , 461.28,\n",
       "        462.76, 464.24, 465.72, 467.2 , 468.68, 470.16, 471.64, 473.12,\n",
       "        474.6 , 476.08, 477.56, 479.04, 480.52, 482.  , 483.48, 484.96,\n",
       "        486.44, 487.92, 489.4 , 490.88, 492.36, 493.84, 495.32, 496.8 ,\n",
       "        498.28, 499.76, 501.24, 502.72, 504.2 , 505.68, 507.16, 508.64,\n",
       "        510.12, 511.6 , 513.08, 514.56, 516.04, 517.52, 519.  , 520.48,\n",
       "        521.96, 523.44, 524.92, 526.4 , 527.88, 529.36, 530.84, 532.32,\n",
       "        533.8 , 535.28, 536.76, 538.24, 539.72, 541.2 , 542.68, 544.16,\n",
       "        545.64, 547.12, 548.6 , 550.08, 551.56, 553.04, 554.52, 556.  ,\n",
       "        557.48, 558.96, 560.44, 561.92, 563.4 , 564.88, 566.36, 567.84,\n",
       "        569.32, 570.8 , 572.28, 573.76, 575.24, 576.72, 578.2 , 579.68,\n",
       "        581.16, 582.64, 584.12, 585.6 , 587.08, 588.56, 590.04, 591.52,\n",
       "        593.  , 594.48, 595.96, 597.44, 598.92, 600.4 , 601.88, 603.36,\n",
       "        604.84, 606.32, 607.8 , 609.28, 610.76, 612.24, 613.72, 615.2 ,\n",
       "        616.68, 618.16, 619.64, 621.12, 622.6 , 624.08, 625.56, 627.04,\n",
       "        628.52, 630.  , 631.48, 632.96, 634.44, 635.92, 637.4 , 638.88,\n",
       "        640.36, 641.84, 643.32, 644.8 , 646.28, 647.76, 649.24, 650.72,\n",
       "        652.2 , 653.68, 655.16, 656.64, 658.12, 659.6 , 661.08, 662.56,\n",
       "        664.04, 665.52, 667.  , 668.48, 669.96, 671.44, 672.92, 674.4 ,\n",
       "        675.88, 677.36, 678.84, 680.32, 681.8 , 683.28, 684.76, 686.24,\n",
       "        687.72, 689.2 , 690.68, 692.16, 693.64, 695.12, 696.6 , 698.08,\n",
       "        699.56, 701.04, 702.52, 704.  , 705.48, 706.96, 708.44, 709.92,\n",
       "        711.4 , 712.88, 714.36, 715.84, 717.32, 718.8 , 720.28, 721.76,\n",
       "        723.24, 724.72, 726.2 , 727.68, 729.16, 730.64, 732.12, 733.6 ,\n",
       "        735.08, 736.56, 738.04, 739.52, 741.  ]),\n",
       " <BarContainer object of 500 artists>)"
      ]
     },
     "execution_count": 9,
     "metadata": {},
     "output_type": "execute_result"
    },
    {
     "data": {
      "image/png": "[encoded data removed]",
      "text/plain": [
       "<Figure size 1000x500 with 2 Axes>"
      ]
     },
     "metadata": {},
     "output_type": "display_data"
    }
   ],
   "source": [
    "fig, ax = plt.subplots(1, 2, figsize=(10, 5))\n",
    "\n",
    "relations_cnt = relations.group_by(\"customer_id_map\").agg(pl.len()).sort(\"len\", descending=True)\n",
    "relations_filtered_cnt = relations_filtered.group_by(\"customer_id_map\").agg(pl.len()).sort(\"len\", descending=True)\n",
    "ax[0].hist(relations_cnt.select(\"len\"), bins=500)\n",
    "ax[1].hist(relations_filtered_cnt.select(\"len\"), bins=500)"
   ]
  },
  {
   "cell_type": "code",
   "execution_count": 10,
   "metadata": {},
   "outputs": [],
   "source": [
    "users_filtered = users.join(relations_filtered.select(\"customer_id\").unique(), on=\"customer_id\", how=\"inner\").drop(\"customer_id_map\")\n",
    "items_filtered = items.join(relations_filtered.select(\"article_id\").unique(), on=\"article_id\", how=\"inner\")"
   ]
  },
  {
   "cell_type": "code",
   "execution_count": 11,
   "metadata": {},
   "outputs": [],
   "source": [
    "users_filtered = users_filtered.with_columns(customer_id_map=pl.col(\"customer_id\").cast(pl.Categorical).to_physical())\n",
    "items_filtered = items_filtered.with_columns(article_id_map=pl.col(\"article_id\").cast(pl.String).cast(pl.Categorical).to_physical())\n",
    "\n",
    "users_id_map = users_filtered.select(\"customer_id\", \"customer_id_map\").unique()\n",
    "articles_id_map = items_filtered.select(\"article_id\", \"article_id_map\").unique()\n",
    "for c, id_map in zip([\"customer_id\", \"article_id\"], [users_id_map, articles_id_map]):\n",
    "    id_map.write_parquet(f\".data/hm/intermediate/frac_0_01/{c}_map.parquet\")"
   ]
  },
  {
   "cell_type": "code",
   "execution_count": 12,
   "metadata": {},
   "outputs": [],
   "source": [
    "relations_filtered = relations_filtered.drop(\"customer_id_map\", \"article_id_map\") \\\n",
    "    .sort(\"t_dat\") \\\n",
    "    .join(users_id_map, on=\"customer_id\", how=\"left\") \\\n",
    "    .join(articles_id_map, on=\"article_id\", how=\"left\")"
   ]
  },
  {
   "cell_type": "code",
   "execution_count": 26,
   "metadata": {},
   "outputs": [],
   "source": [
    "# Write files to parquet\n",
    "users_filtered.write_parquet(\".data/hm/intermediate/frac_0_01/users.parquet\")\n",
    "items_filtered.write_parquet(\".data/hm/intermediate/frac_0_01/articles.parquet\")\n",
    "relations_filtered.write_parquet(\".data/hm/intermediate/frac_0_01/relations.parquet\")"
   ]
  }
 ],
 "metadata": {
  "kernelspec": {
   "display_name": ".venv",
   "language": "python",
   "name": "python3"
  },
  "language_info": {
   "codemirror_mode": {
    "name": "ipython",
    "version": 3
   },
   "file_extension": ".py",
   "mimetype": "text/x-python",
   "name": "python",
   "nbconvert_exporter": "python",
   "pygments_lexer": "ipython3",
   "version": "3.10.14"
  }
 },
 "nbformat": 4,
 "nbformat_minor": 2
}
