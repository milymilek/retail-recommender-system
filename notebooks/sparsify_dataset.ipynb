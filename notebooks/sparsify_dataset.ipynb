{
 "cells": [
  {
   "cell_type": "code",
   "execution_count": 1,
   "metadata": {},
   "outputs": [],
   "source": [
    "%load_ext autoreload\n",
    "%autoreload 2\n",
    "\n",
    "import IPython\n",
    "from pathlib import Path\n",
    "import os\n",
    "locals = IPython.extract_module_locals() # type: ignore\n",
    "notebook_name = \"/\".join(locals[1][\"__vsc_ipynb_file__\"].split(\"/\"))\n",
    "os.chdir(Path(notebook_name).parent.parent)"
   ]
  },
  {
   "cell_type": "code",
   "execution_count": 2,
   "metadata": {},
   "outputs": [],
   "source": [
    "from typing import Callable, Any\n",
    "from pathlib import Path\n",
    "\n",
    "import numpy as np\n",
    "import polars as pl\n",
    "import seaborn as sns\n",
    "import matplotlib.pyplot as plt\n",
    "from tqdm import tqdm\n",
    "from sklearn.model_selection import train_test_split\n",
    "import random\n",
    "\n",
    "seed = 0\n",
    "random.seed(seed)\n",
    "np.random.seed(seed)"
   ]
  },
  {
   "cell_type": "code",
   "execution_count": 3,
   "metadata": {},
   "outputs": [],
   "source": [
    "relations = pl.read_parquet(\".data/hm/intermediate/full/relations.parquet\")\n",
    "users = pl.read_parquet(\".data/hm/intermediate/full/users.parquet\")\n",
    "items = pl.read_parquet(\".data/hm/intermediate/full/articles.parquet\")"
   ]
  },
  {
   "cell_type": "code",
   "execution_count": 4,
   "metadata": {},
   "outputs": [],
   "source": [
    "n_users = relations.get_column(\"customer_id_map\").n_unique()\n",
    "n_items = items.get_column('article_id').n_unique()\n",
    "relations_n_users = relations.get_column(\"customer_id\").n_unique()\n",
    "relations_n_items = relations.get_column(\"article_id\").n_unique()"
   ]
  },
  {
   "cell_type": "code",
   "execution_count": 5,
   "metadata": {},
   "outputs": [
    {
     "data": {
      "text/plain": [
       "1362281"
      ]
     },
     "execution_count": 5,
     "metadata": {},
     "output_type": "execute_result"
    }
   ],
   "source": [
    "n_users"
   ]
  },
  {
   "cell_type": "code",
   "execution_count": 6,
   "metadata": {},
   "outputs": [],
   "source": [
    "u_f = 0.01\n",
    "\n",
    "relations_filtered = relations.join(relations.select(\"customer_id_map\").unique().sample(fraction=u_f), on=\"customer_id_map\", how=\"right\")\n",
    "relations_filtered_n_users = relations_filtered.get_column(\"customer_id\").n_unique()\n",
    "relations_filtered_n_items = relations_filtered.get_column(\"article_id\").n_unique()"
   ]
  },
  {
   "cell_type": "code",
   "execution_count": 7,
   "metadata": {},
   "outputs": [
    {
     "name": "stdout",
     "output_type": "stream",
     "text": [
      "(Users) Nunique: 1362281\n",
      "(Items) Nunique: 105542\n",
      "(Relations, Users) Nunique: 1362281 | diff: 0\n",
      "(Relations, Items) Nunique: 104547 | diff: 995\n",
      "(Relations, Users) Nunique (filtered): 13622 | diff: 1348659\n",
      "(Relations, Items) Nunique (filtered): 52499 | diff: 53043\n"
     ]
    }
   ],
   "source": [
    "print(f\"\"\"(Users) Nunique: {n_users}\n",
    "(Items) Nunique: {n_items}\n",
    "(Relations, Users) Nunique: {relations_n_users} | diff: {n_users - relations_n_users}\n",
    "(Relations, Items) Nunique: {relations_n_items} | diff: {n_items - relations_n_items}\n",
    "(Relations, Users) Nunique (filtered): {relations_filtered_n_users} | diff: {n_users - relations_filtered_n_users}\n",
    "(Relations, Items) Nunique (filtered): {relations_filtered_n_items} | diff: {n_items - relations_filtered_n_items}\"\"\")"
   ]
  },
  {
   "cell_type": "code",
   "execution_count": 8,
   "metadata": {},
   "outputs": [
    {
     "data": {
      "text/plain": [
       "(array([2.666e+03, 1.727e+03, 6.330e+02, 1.030e+03, 4.350e+02, 7.220e+02,\n",
       "        3.030e+02, 5.500e+02, 2.410e+02, 4.050e+02, 1.710e+02, 3.780e+02,\n",
       "        1.630e+02, 2.490e+02, 1.480e+02, 2.610e+02, 1.130e+02, 1.970e+02,\n",
       "        9.700e+01, 2.040e+02, 8.100e+01, 1.670e+02, 7.500e+01, 1.350e+02,\n",
       "        5.700e+01, 1.370e+02, 6.200e+01, 1.200e+02, 4.900e+01, 9.700e+01,\n",
       "        4.100e+01, 8.400e+01, 4.600e+01, 7.100e+01, 4.600e+01, 8.700e+01,\n",
       "        6.800e+01, 3.000e+01, 8.900e+01, 3.100e+01, 4.100e+01, 3.600e+01,\n",
       "        6.600e+01, 2.300e+01, 6.300e+01, 2.200e+01, 5.000e+01, 2.200e+01,\n",
       "        5.600e+01, 1.500e+01, 2.700e+01, 1.900e+01, 3.800e+01, 1.400e+01,\n",
       "        3.400e+01, 1.300e+01, 1.600e+01, 1.400e+01, 2.600e+01, 1.400e+01,\n",
       "        2.100e+01, 1.500e+01, 3.000e+01, 1.300e+01, 3.000e+01, 1.400e+01,\n",
       "        2.400e+01, 1.300e+01, 2.300e+01, 1.100e+01, 1.400e+01, 1.500e+01,\n",
       "        1.200e+01, 1.800e+01, 8.000e+00, 2.100e+01, 7.000e+00, 1.700e+01,\n",
       "        1.000e+01, 1.100e+01, 3.000e+00, 1.400e+01, 9.000e+00, 1.400e+01,\n",
       "        1.300e+01, 6.000e+00, 6.000e+00, 1.100e+01, 4.000e+00, 1.500e+01,\n",
       "        2.000e+00, 1.100e+01, 3.000e+00, 9.000e+00, 3.000e+00, 1.800e+01,\n",
       "        8.000e+00, 8.000e+00, 3.000e+00, 6.000e+00, 4.000e+00, 6.000e+00,\n",
       "        4.000e+00, 5.000e+00, 3.000e+00, 1.200e+01, 6.000e+00, 6.000e+00,\n",
       "        9.000e+00, 6.000e+00, 5.000e+00, 4.000e+00, 4.000e+00, 0.000e+00,\n",
       "        3.000e+00, 3.000e+00, 4.000e+00, 4.000e+00, 2.000e+00, 4.000e+00,\n",
       "        4.000e+00, 1.000e+00, 4.000e+00, 3.000e+00, 3.000e+00, 2.000e+00,\n",
       "        1.000e+00, 2.000e+00, 4.000e+00, 2.000e+00, 3.000e+00, 1.000e+00,\n",
       "        5.000e+00, 2.000e+00, 3.000e+00, 2.000e+00, 3.000e+00, 2.000e+00,\n",
       "        2.000e+00, 2.000e+00, 1.000e+00, 0.000e+00, 1.000e+00, 6.000e+00,\n",
       "        0.000e+00, 1.000e+00, 2.000e+00, 0.000e+00, 1.000e+00, 3.000e+00,\n",
       "        1.000e+00, 5.000e+00, 3.000e+00, 3.000e+00, 2.000e+00, 2.000e+00,\n",
       "        1.000e+00, 1.000e+00, 0.000e+00, 1.000e+00, 1.000e+00, 1.000e+00,\n",
       "        0.000e+00, 0.000e+00, 0.000e+00, 4.000e+00, 1.000e+00, 0.000e+00,\n",
       "        0.000e+00, 2.000e+00, 1.000e+00, 0.000e+00, 0.000e+00, 0.000e+00,\n",
       "        1.000e+00, 1.000e+00, 1.000e+00, 1.000e+00, 0.000e+00, 0.000e+00,\n",
       "        2.000e+00, 3.000e+00, 1.000e+00, 2.000e+00, 3.000e+00, 2.000e+00,\n",
       "        3.000e+00, 1.000e+00, 0.000e+00, 1.000e+00, 2.000e+00, 1.000e+00,\n",
       "        2.000e+00, 0.000e+00, 1.000e+00, 0.000e+00, 2.000e+00, 0.000e+00,\n",
       "        2.000e+00, 0.000e+00, 0.000e+00, 0.000e+00, 1.000e+00, 0.000e+00,\n",
       "        2.000e+00, 1.000e+00, 0.000e+00, 0.000e+00, 1.000e+00, 0.000e+00,\n",
       "        1.000e+00, 1.000e+00, 1.000e+00, 0.000e+00, 1.000e+00, 2.000e+00,\n",
       "        0.000e+00, 0.000e+00, 0.000e+00, 1.000e+00, 0.000e+00, 0.000e+00,\n",
       "        1.000e+00, 0.000e+00, 0.000e+00, 1.000e+00, 0.000e+00, 0.000e+00,\n",
       "        0.000e+00, 0.000e+00, 0.000e+00, 1.000e+00, 1.000e+00, 0.000e+00,\n",
       "        0.000e+00, 0.000e+00, 0.000e+00, 1.000e+00, 0.000e+00, 0.000e+00,\n",
       "        0.000e+00, 0.000e+00, 0.000e+00, 1.000e+00, 0.000e+00, 0.000e+00,\n",
       "        0.000e+00, 0.000e+00, 0.000e+00, 0.000e+00, 0.000e+00, 0.000e+00,\n",
       "        0.000e+00, 0.000e+00, 0.000e+00, 0.000e+00, 0.000e+00, 0.000e+00,\n",
       "        0.000e+00, 0.000e+00, 1.000e+00, 1.000e+00, 0.000e+00, 0.000e+00,\n",
       "        0.000e+00, 0.000e+00, 0.000e+00, 0.000e+00, 0.000e+00, 0.000e+00,\n",
       "        0.000e+00, 0.000e+00, 0.000e+00, 0.000e+00, 0.000e+00, 1.000e+00,\n",
       "        0.000e+00, 1.000e+00, 0.000e+00, 0.000e+00, 1.000e+00, 0.000e+00,\n",
       "        1.000e+00, 0.000e+00, 0.000e+00, 0.000e+00, 1.000e+00, 0.000e+00,\n",
       "        0.000e+00, 0.000e+00, 0.000e+00, 0.000e+00, 0.000e+00, 0.000e+00,\n",
       "        1.000e+00, 0.000e+00, 0.000e+00, 0.000e+00, 0.000e+00, 0.000e+00,\n",
       "        0.000e+00, 0.000e+00, 0.000e+00, 0.000e+00, 0.000e+00, 0.000e+00,\n",
       "        0.000e+00, 0.000e+00, 0.000e+00, 0.000e+00, 0.000e+00, 0.000e+00,\n",
       "        0.000e+00, 0.000e+00, 0.000e+00, 0.000e+00, 1.000e+00, 0.000e+00,\n",
       "        0.000e+00, 1.000e+00, 0.000e+00, 0.000e+00, 0.000e+00, 0.000e+00,\n",
       "        0.000e+00, 0.000e+00, 0.000e+00, 0.000e+00, 0.000e+00, 0.000e+00,\n",
       "        0.000e+00, 0.000e+00, 0.000e+00, 0.000e+00, 0.000e+00, 0.000e+00,\n",
       "        0.000e+00, 0.000e+00, 0.000e+00, 0.000e+00, 0.000e+00, 0.000e+00,\n",
       "        0.000e+00, 0.000e+00, 0.000e+00, 0.000e+00, 0.000e+00, 0.000e+00,\n",
       "        0.000e+00, 0.000e+00, 0.000e+00, 0.000e+00, 1.000e+00, 0.000e+00,\n",
       "        1.000e+00, 0.000e+00, 0.000e+00, 0.000e+00, 0.000e+00, 0.000e+00,\n",
       "        0.000e+00, 0.000e+00, 0.000e+00, 0.000e+00, 0.000e+00, 0.000e+00,\n",
       "        0.000e+00, 0.000e+00, 1.000e+00, 0.000e+00, 0.000e+00, 0.000e+00,\n",
       "        0.000e+00, 0.000e+00, 0.000e+00, 0.000e+00, 0.000e+00, 0.000e+00,\n",
       "        0.000e+00, 0.000e+00, 0.000e+00, 1.000e+00, 0.000e+00, 0.000e+00,\n",
       "        0.000e+00, 0.000e+00, 0.000e+00, 0.000e+00, 0.000e+00, 0.000e+00,\n",
       "        0.000e+00, 0.000e+00, 0.000e+00, 0.000e+00, 0.000e+00, 0.000e+00,\n",
       "        0.000e+00, 0.000e+00, 0.000e+00, 0.000e+00, 0.000e+00, 0.000e+00,\n",
       "        0.000e+00, 0.000e+00, 0.000e+00, 0.000e+00, 0.000e+00, 0.000e+00,\n",
       "        0.000e+00, 0.000e+00, 0.000e+00, 0.000e+00, 0.000e+00, 0.000e+00,\n",
       "        0.000e+00, 0.000e+00, 0.000e+00, 0.000e+00, 0.000e+00, 0.000e+00,\n",
       "        0.000e+00, 0.000e+00, 0.000e+00, 0.000e+00, 0.000e+00, 0.000e+00,\n",
       "        0.000e+00, 0.000e+00, 0.000e+00, 0.000e+00, 0.000e+00, 0.000e+00,\n",
       "        0.000e+00, 0.000e+00, 0.000e+00, 0.000e+00, 0.000e+00, 0.000e+00,\n",
       "        0.000e+00, 0.000e+00, 0.000e+00, 0.000e+00, 0.000e+00, 0.000e+00,\n",
       "        0.000e+00, 0.000e+00, 0.000e+00, 0.000e+00, 0.000e+00, 0.000e+00,\n",
       "        0.000e+00, 0.000e+00, 0.000e+00, 0.000e+00, 0.000e+00, 0.000e+00,\n",
       "        0.000e+00, 0.000e+00, 0.000e+00, 0.000e+00, 0.000e+00, 0.000e+00,\n",
       "        0.000e+00, 0.000e+00, 0.000e+00, 0.000e+00, 0.000e+00, 0.000e+00,\n",
       "        0.000e+00, 0.000e+00, 0.000e+00, 0.000e+00, 0.000e+00, 0.000e+00,\n",
       "        0.000e+00, 0.000e+00, 0.000e+00, 0.000e+00, 0.000e+00, 0.000e+00,\n",
       "        0.000e+00, 0.000e+00, 0.000e+00, 0.000e+00, 0.000e+00, 0.000e+00,\n",
       "        0.000e+00, 0.000e+00, 0.000e+00, 0.000e+00, 0.000e+00, 0.000e+00,\n",
       "        0.000e+00, 0.000e+00, 0.000e+00, 0.000e+00, 0.000e+00, 0.000e+00,\n",
       "        0.000e+00, 1.000e+00]),\n",
       " array([  1.   ,   2.514,   4.028,   5.542,   7.056,   8.57 ,  10.084,\n",
       "         11.598,  13.112,  14.626,  16.14 ,  17.654,  19.168,  20.682,\n",
       "         22.196,  23.71 ,  25.224,  26.738,  28.252,  29.766,  31.28 ,\n",
       "         32.794,  34.308,  35.822,  37.336,  38.85 ,  40.364,  41.878,\n",
       "         43.392,  44.906,  46.42 ,  47.934,  49.448,  50.962,  52.476,\n",
       "         53.99 ,  55.504,  57.018,  58.532,  60.046,  61.56 ,  63.074,\n",
       "         64.588,  66.102,  67.616,  69.13 ,  70.644,  72.158,  73.672,\n",
       "         75.186,  76.7  ,  78.214,  79.728,  81.242,  82.756,  84.27 ,\n",
       "         85.784,  87.298,  88.812,  90.326,  91.84 ,  93.354,  94.868,\n",
       "         96.382,  97.896,  99.41 , 100.924, 102.438, 103.952, 105.466,\n",
       "        106.98 , 108.494, 110.008, 111.522, 113.036, 114.55 , 116.064,\n",
       "        117.578, 119.092, 120.606, 122.12 , 123.634, 125.148, 126.662,\n",
       "        128.176, 129.69 , 131.204, 132.718, 134.232, 135.746, 137.26 ,\n",
       "        138.774, 140.288, 141.802, 143.316, 144.83 , 146.344, 147.858,\n",
       "        149.372, 150.886, 152.4  , 153.914, 155.428, 156.942, 158.456,\n",
       "        159.97 , 161.484, 162.998, 164.512, 166.026, 167.54 , 169.054,\n",
       "        170.568, 172.082, 173.596, 175.11 , 176.624, 178.138, 179.652,\n",
       "        181.166, 182.68 , 184.194, 185.708, 187.222, 188.736, 190.25 ,\n",
       "        191.764, 193.278, 194.792, 196.306, 197.82 , 199.334, 200.848,\n",
       "        202.362, 203.876, 205.39 , 206.904, 208.418, 209.932, 211.446,\n",
       "        212.96 , 214.474, 215.988, 217.502, 219.016, 220.53 , 222.044,\n",
       "        223.558, 225.072, 226.586, 228.1  , 229.614, 231.128, 232.642,\n",
       "        234.156, 235.67 , 237.184, 238.698, 240.212, 241.726, 243.24 ,\n",
       "        244.754, 246.268, 247.782, 249.296, 250.81 , 252.324, 253.838,\n",
       "        255.352, 256.866, 258.38 , 259.894, 261.408, 262.922, 264.436,\n",
       "        265.95 , 267.464, 268.978, 270.492, 272.006, 273.52 , 275.034,\n",
       "        276.548, 278.062, 279.576, 281.09 , 282.604, 284.118, 285.632,\n",
       "        287.146, 288.66 , 290.174, 291.688, 293.202, 294.716, 296.23 ,\n",
       "        297.744, 299.258, 300.772, 302.286, 303.8  , 305.314, 306.828,\n",
       "        308.342, 309.856, 311.37 , 312.884, 314.398, 315.912, 317.426,\n",
       "        318.94 , 320.454, 321.968, 323.482, 324.996, 326.51 , 328.024,\n",
       "        329.538, 331.052, 332.566, 334.08 , 335.594, 337.108, 338.622,\n",
       "        340.136, 341.65 , 343.164, 344.678, 346.192, 347.706, 349.22 ,\n",
       "        350.734, 352.248, 353.762, 355.276, 356.79 , 358.304, 359.818,\n",
       "        361.332, 362.846, 364.36 , 365.874, 367.388, 368.902, 370.416,\n",
       "        371.93 , 373.444, 374.958, 376.472, 377.986, 379.5  , 381.014,\n",
       "        382.528, 384.042, 385.556, 387.07 , 388.584, 390.098, 391.612,\n",
       "        393.126, 394.64 , 396.154, 397.668, 399.182, 400.696, 402.21 ,\n",
       "        403.724, 405.238, 406.752, 408.266, 409.78 , 411.294, 412.808,\n",
       "        414.322, 415.836, 417.35 , 418.864, 420.378, 421.892, 423.406,\n",
       "        424.92 , 426.434, 427.948, 429.462, 430.976, 432.49 , 434.004,\n",
       "        435.518, 437.032, 438.546, 440.06 , 441.574, 443.088, 444.602,\n",
       "        446.116, 447.63 , 449.144, 450.658, 452.172, 453.686, 455.2  ,\n",
       "        456.714, 458.228, 459.742, 461.256, 462.77 , 464.284, 465.798,\n",
       "        467.312, 468.826, 470.34 , 471.854, 473.368, 474.882, 476.396,\n",
       "        477.91 , 479.424, 480.938, 482.452, 483.966, 485.48 , 486.994,\n",
       "        488.508, 490.022, 491.536, 493.05 , 494.564, 496.078, 497.592,\n",
       "        499.106, 500.62 , 502.134, 503.648, 505.162, 506.676, 508.19 ,\n",
       "        509.704, 511.218, 512.732, 514.246, 515.76 , 517.274, 518.788,\n",
       "        520.302, 521.816, 523.33 , 524.844, 526.358, 527.872, 529.386,\n",
       "        530.9  , 532.414, 533.928, 535.442, 536.956, 538.47 , 539.984,\n",
       "        541.498, 543.012, 544.526, 546.04 , 547.554, 549.068, 550.582,\n",
       "        552.096, 553.61 , 555.124, 556.638, 558.152, 559.666, 561.18 ,\n",
       "        562.694, 564.208, 565.722, 567.236, 568.75 , 570.264, 571.778,\n",
       "        573.292, 574.806, 576.32 , 577.834, 579.348, 580.862, 582.376,\n",
       "        583.89 , 585.404, 586.918, 588.432, 589.946, 591.46 , 592.974,\n",
       "        594.488, 596.002, 597.516, 599.03 , 600.544, 602.058, 603.572,\n",
       "        605.086, 606.6  , 608.114, 609.628, 611.142, 612.656, 614.17 ,\n",
       "        615.684, 617.198, 618.712, 620.226, 621.74 , 623.254, 624.768,\n",
       "        626.282, 627.796, 629.31 , 630.824, 632.338, 633.852, 635.366,\n",
       "        636.88 , 638.394, 639.908, 641.422, 642.936, 644.45 , 645.964,\n",
       "        647.478, 648.992, 650.506, 652.02 , 653.534, 655.048, 656.562,\n",
       "        658.076, 659.59 , 661.104, 662.618, 664.132, 665.646, 667.16 ,\n",
       "        668.674, 670.188, 671.702, 673.216, 674.73 , 676.244, 677.758,\n",
       "        679.272, 680.786, 682.3  , 683.814, 685.328, 686.842, 688.356,\n",
       "        689.87 , 691.384, 692.898, 694.412, 695.926, 697.44 , 698.954,\n",
       "        700.468, 701.982, 703.496, 705.01 , 706.524, 708.038, 709.552,\n",
       "        711.066, 712.58 , 714.094, 715.608, 717.122, 718.636, 720.15 ,\n",
       "        721.664, 723.178, 724.692, 726.206, 727.72 , 729.234, 730.748,\n",
       "        732.262, 733.776, 735.29 , 736.804, 738.318, 739.832, 741.346,\n",
       "        742.86 , 744.374, 745.888, 747.402, 748.916, 750.43 , 751.944,\n",
       "        753.458, 754.972, 756.486, 758.   ]),\n",
       " <BarContainer object of 500 artists>)"
      ]
     },
     "execution_count": 8,
     "metadata": {},
     "output_type": "execute_result"
    },
    {
     "data": {
      "image/png": "[encoded data removed]",
      "text/plain": [
       "<Figure size 1000x500 with 2 Axes>"
      ]
     },
     "metadata": {},
     "output_type": "display_data"
    }
   ],
   "source": [
    "fig, ax = plt.subplots(1, 2, figsize=(10, 5))\n",
    "\n",
    "relations_cnt = relations.group_by(\"customer_id_map\").agg(pl.len()).sort(\"len\", descending=True)\n",
    "relations_filtered_cnt = relations_filtered.group_by(\"customer_id_map\").agg(pl.len()).sort(\"len\", descending=True)\n",
    "ax[0].hist(relations_cnt.select(\"len\"), bins=500)\n",
    "ax[1].hist(relations_filtered_cnt.select(\"len\"), bins=500)"
   ]
  },
  {
   "cell_type": "code",
   "execution_count": 9,
   "metadata": {},
   "outputs": [],
   "source": [
    "relations_filtered.write_parquet(\".data/hm/intermediate/frac_0_01/relations.parquet\")"
   ]
  },
  {
   "cell_type": "code",
   "execution_count": null,
   "metadata": {},
   "outputs": [],
   "source": []
  }
 ],
 "metadata": {
  "kernelspec": {
   "display_name": ".venv",
   "language": "python",
   "name": "python3"
  },
  "language_info": {
   "codemirror_mode": {
    "name": "ipython",
    "version": 3
   },
   "file_extension": ".py",
   "mimetype": "text/x-python",
   "name": "python",
   "nbconvert_exporter": "python",
   "pygments_lexer": "ipython3",
   "version": "3.10.14"
  }
 },
 "nbformat": 4,
 "nbformat_minor": 2
}
