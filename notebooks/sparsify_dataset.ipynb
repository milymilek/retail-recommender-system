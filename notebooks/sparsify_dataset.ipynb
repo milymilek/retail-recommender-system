{
 "cells": [
  {
   "cell_type": "code",
   "execution_count": 1,
   "metadata": {},
   "outputs": [],
   "source": [
    "%load_ext autoreload\n",
    "%autoreload 2\n",
    "\n",
    "import IPython\n",
    "from pathlib import Path\n",
    "import os\n",
    "locals = IPython.extract_module_locals() # type: ignore\n",
    "notebook_name = \"/\".join(locals[1][\"__vsc_ipynb_file__\"].split(\"/\"))\n",
    "os.chdir(Path(notebook_name).parent.parent)"
   ]
  },
  {
   "cell_type": "code",
   "execution_count": 2,
   "metadata": {},
   "outputs": [],
   "source": [
    "from typing import Callable, Any\n",
    "from pathlib import Path\n",
    "\n",
    "import numpy as np\n",
    "import polars as pl\n",
    "import seaborn as sns\n",
    "import matplotlib.pyplot as plt\n",
    "from tqdm import tqdm\n",
    "from sklearn.model_selection import train_test_split\n",
    "import random\n",
    "\n",
    "seed = 0\n",
    "random.seed(seed)\n",
    "np.random.seed(seed)"
   ]
  },
  {
   "cell_type": "code",
   "execution_count": 3,
   "metadata": {},
   "outputs": [],
   "source": [
    "relations = pl.read_parquet(\".data/hm/intermediate/full/relations.parquet\")\n",
    "users = pl.read_parquet(\".data/hm/intermediate/full/users.parquet\")\n",
    "items = pl.read_parquet(\".data/hm/intermediate/full/articles.parquet\")"
   ]
  },
  {
   "cell_type": "code",
   "execution_count": 4,
   "metadata": {},
   "outputs": [],
   "source": [
    "n_users = relations.get_column(\"customer_id_map\").n_unique()\n",
    "n_items = items.get_column('article_id').n_unique()\n",
    "relations_n_users = relations.get_column(\"customer_id\").n_unique()\n",
    "relations_n_items = relations.get_column(\"article_id\").n_unique()"
   ]
  },
  {
   "cell_type": "code",
   "execution_count": 5,
   "metadata": {},
   "outputs": [
    {
     "data": {
      "text/plain": [
       "1362281"
      ]
     },
     "execution_count": 5,
     "metadata": {},
     "output_type": "execute_result"
    }
   ],
   "source": [
    "n_users"
   ]
  },
  {
   "cell_type": "code",
   "execution_count": 6,
   "metadata": {},
   "outputs": [],
   "source": [
    "u_f = 0.01\n",
    "\n",
    "relations_filtered = relations.join(relations.select(\"customer_id_map\").unique().sample(fraction=u_f), on=\"customer_id_map\", how=\"right\")\n",
    "relations_filtered_n_users = relations_filtered.get_column(\"customer_id\").n_unique()\n",
    "relations_filtered_n_items = relations_filtered.get_column(\"article_id\").n_unique()"
   ]
  },
  {
   "cell_type": "code",
   "execution_count": 7,
   "metadata": {},
   "outputs": [
    {
     "name": "stdout",
     "output_type": "stream",
     "text": [
      "(Users) Nunique: 1362281\n",
      "(Items) Nunique: 105542\n",
      "(Relations, Users) Nunique: 1362281 | diff: 0\n",
      "(Relations, Items) Nunique: 104547 | diff: 995\n",
      "(Relations, Users) Nunique (filtered): 13622 | diff: 1348659\n",
      "(Relations, Items) Nunique (filtered): 52102 | diff: 53440\n"
     ]
    }
   ],
   "source": [
    "print(f\"\"\"(Users) Nunique: {n_users}\n",
    "(Items) Nunique: {n_items}\n",
    "(Relations, Users) Nunique: {relations_n_users} | diff: {n_users - relations_n_users}\n",
    "(Relations, Items) Nunique: {relations_n_items} | diff: {n_items - relations_n_items}\n",
    "(Relations, Users) Nunique (filtered): {relations_filtered_n_users} | diff: {n_users - relations_filtered_n_users}\n",
    "(Relations, Items) Nunique (filtered): {relations_filtered_n_items} | diff: {n_items - relations_filtered_n_items}\"\"\")"
   ]
  },
  {
   "cell_type": "code",
   "execution_count": 8,
   "metadata": {},
   "outputs": [
    {
     "data": {
      "text/plain": [
       "(317547, 7)"
      ]
     },
     "execution_count": 8,
     "metadata": {},
     "output_type": "execute_result"
    }
   ],
   "source": [
    "relations_filtered.shape"
   ]
  },
  {
   "cell_type": "code",
   "execution_count": 9,
   "metadata": {},
   "outputs": [
    {
     "data": {
      "text/plain": [
       "(array([2.577e+03, 9.740e+02, 1.430e+03, 5.490e+02, 9.410e+02, 3.640e+02,\n",
       "        6.270e+02, 2.830e+02, 4.910e+02, 2.370e+02, 3.980e+02, 1.860e+02,\n",
       "        3.200e+02, 1.400e+02, 2.880e+02, 1.370e+02, 2.540e+02, 1.180e+02,\n",
       "        1.940e+02, 8.400e+01, 9.900e+01, 1.880e+02, 8.100e+01, 1.520e+02,\n",
       "        8.600e+01, 1.450e+02, 6.200e+01, 1.300e+02, 6.400e+01, 1.310e+02,\n",
       "        5.800e+01, 9.200e+01, 4.100e+01, 9.500e+01, 3.800e+01, 6.100e+01,\n",
       "        4.400e+01, 7.500e+01, 3.100e+01, 6.600e+01, 3.300e+01, 2.700e+01,\n",
       "        4.400e+01, 2.800e+01, 5.000e+01, 2.700e+01, 4.900e+01, 2.300e+01,\n",
       "        3.500e+01, 2.200e+01, 4.100e+01, 2.300e+01, 3.800e+01, 1.600e+01,\n",
       "        3.000e+01, 1.100e+01, 4.000e+01, 1.400e+01, 3.200e+01, 1.100e+01,\n",
       "        3.200e+01, 1.300e+01, 1.600e+01, 2.800e+01, 1.900e+01, 1.900e+01,\n",
       "        1.200e+01, 1.700e+01, 1.000e+01, 1.400e+01, 1.300e+01, 2.300e+01,\n",
       "        6.000e+00, 8.000e+00, 7.000e+00, 1.800e+01, 9.000e+00, 1.600e+01,\n",
       "        9.000e+00, 1.100e+01, 8.000e+00, 1.500e+01, 8.000e+00, 5.000e+00,\n",
       "        1.400e+01, 5.000e+00, 1.300e+01, 5.000e+00, 8.000e+00, 5.000e+00,\n",
       "        1.100e+01, 4.000e+00, 9.000e+00, 3.000e+00, 9.000e+00, 4.000e+00,\n",
       "        9.000e+00, 3.000e+00, 5.000e+00, 3.000e+00, 1.000e+01, 4.000e+00,\n",
       "        8.000e+00, 4.000e+00, 0.000e+00, 1.000e+01, 6.000e+00, 1.100e+01,\n",
       "        2.000e+00, 1.000e+01, 0.000e+00, 4.000e+00, 2.000e+00, 3.000e+00,\n",
       "        2.000e+00, 4.000e+00, 2.000e+00, 2.000e+00, 2.000e+00, 6.000e+00,\n",
       "        4.000e+00, 7.000e+00, 0.000e+00, 4.000e+00, 3.000e+00, 2.000e+00,\n",
       "        1.000e+00, 5.000e+00, 7.000e+00, 1.000e+00, 3.000e+00, 0.000e+00,\n",
       "        3.000e+00, 1.000e+00, 5.000e+00, 0.000e+00, 2.000e+00, 0.000e+00,\n",
       "        4.000e+00, 0.000e+00, 4.000e+00, 0.000e+00, 2.000e+00, 2.000e+00,\n",
       "        1.000e+00, 0.000e+00, 1.000e+00, 3.000e+00, 1.000e+00, 4.000e+00,\n",
       "        2.000e+00, 0.000e+00, 1.000e+00, 1.000e+00, 1.000e+00, 0.000e+00,\n",
       "        2.000e+00, 2.000e+00, 2.000e+00, 1.000e+00, 0.000e+00, 0.000e+00,\n",
       "        0.000e+00, 1.000e+00, 0.000e+00, 1.000e+00, 0.000e+00, 1.000e+00,\n",
       "        4.000e+00, 1.000e+00, 2.000e+00, 0.000e+00, 2.000e+00, 3.000e+00,\n",
       "        2.000e+00, 3.000e+00, 1.000e+00, 1.000e+00, 0.000e+00, 2.000e+00,\n",
       "        1.000e+00, 2.000e+00, 2.000e+00, 1.000e+00, 0.000e+00, 0.000e+00,\n",
       "        0.000e+00, 0.000e+00, 0.000e+00, 0.000e+00, 0.000e+00, 3.000e+00,\n",
       "        1.000e+00, 2.000e+00, 0.000e+00, 2.000e+00, 0.000e+00, 0.000e+00,\n",
       "        0.000e+00, 0.000e+00, 1.000e+00, 0.000e+00, 2.000e+00, 1.000e+00,\n",
       "        1.000e+00, 1.000e+00, 0.000e+00, 0.000e+00, 0.000e+00, 0.000e+00,\n",
       "        0.000e+00, 1.000e+00, 2.000e+00, 2.000e+00, 0.000e+00, 0.000e+00,\n",
       "        0.000e+00, 0.000e+00, 0.000e+00, 0.000e+00, 0.000e+00, 0.000e+00,\n",
       "        1.000e+00, 0.000e+00, 2.000e+00, 0.000e+00, 0.000e+00, 0.000e+00,\n",
       "        0.000e+00, 0.000e+00, 0.000e+00, 0.000e+00, 1.000e+00, 0.000e+00,\n",
       "        0.000e+00, 0.000e+00, 0.000e+00, 0.000e+00, 0.000e+00, 0.000e+00,\n",
       "        0.000e+00, 1.000e+00, 0.000e+00, 0.000e+00, 0.000e+00, 1.000e+00,\n",
       "        0.000e+00, 1.000e+00, 1.000e+00, 2.000e+00, 0.000e+00, 1.000e+00,\n",
       "        1.000e+00, 0.000e+00, 0.000e+00, 1.000e+00, 0.000e+00, 0.000e+00,\n",
       "        1.000e+00, 0.000e+00, 0.000e+00, 0.000e+00, 0.000e+00, 0.000e+00,\n",
       "        0.000e+00, 0.000e+00, 1.000e+00, 0.000e+00, 0.000e+00, 0.000e+00,\n",
       "        0.000e+00, 0.000e+00, 0.000e+00, 1.000e+00, 0.000e+00, 0.000e+00,\n",
       "        1.000e+00, 0.000e+00, 0.000e+00, 0.000e+00, 0.000e+00, 1.000e+00,\n",
       "        0.000e+00, 0.000e+00, 0.000e+00, 0.000e+00, 0.000e+00, 1.000e+00,\n",
       "        0.000e+00, 0.000e+00, 0.000e+00, 2.000e+00, 0.000e+00, 0.000e+00,\n",
       "        0.000e+00, 0.000e+00, 0.000e+00, 1.000e+00, 0.000e+00, 0.000e+00,\n",
       "        0.000e+00, 0.000e+00, 0.000e+00, 0.000e+00, 0.000e+00, 0.000e+00,\n",
       "        0.000e+00, 0.000e+00, 0.000e+00, 0.000e+00, 0.000e+00, 0.000e+00,\n",
       "        0.000e+00, 0.000e+00, 0.000e+00, 0.000e+00, 0.000e+00, 0.000e+00,\n",
       "        0.000e+00, 0.000e+00, 0.000e+00, 0.000e+00, 0.000e+00, 0.000e+00,\n",
       "        0.000e+00, 0.000e+00, 0.000e+00, 0.000e+00, 0.000e+00, 1.000e+00,\n",
       "        0.000e+00, 0.000e+00, 0.000e+00, 0.000e+00, 0.000e+00, 0.000e+00,\n",
       "        0.000e+00, 1.000e+00, 0.000e+00, 0.000e+00, 0.000e+00, 0.000e+00,\n",
       "        0.000e+00, 0.000e+00, 0.000e+00, 0.000e+00, 0.000e+00, 0.000e+00,\n",
       "        0.000e+00, 0.000e+00, 0.000e+00, 0.000e+00, 0.000e+00, 0.000e+00,\n",
       "        0.000e+00, 0.000e+00, 0.000e+00, 0.000e+00, 0.000e+00, 0.000e+00,\n",
       "        0.000e+00, 0.000e+00, 0.000e+00, 0.000e+00, 0.000e+00, 0.000e+00,\n",
       "        0.000e+00, 0.000e+00, 0.000e+00, 0.000e+00, 0.000e+00, 0.000e+00,\n",
       "        0.000e+00, 0.000e+00, 0.000e+00, 0.000e+00, 0.000e+00, 0.000e+00,\n",
       "        0.000e+00, 0.000e+00, 0.000e+00, 0.000e+00, 0.000e+00, 0.000e+00,\n",
       "        0.000e+00, 0.000e+00, 0.000e+00, 0.000e+00, 0.000e+00, 0.000e+00,\n",
       "        0.000e+00, 0.000e+00, 0.000e+00, 0.000e+00, 1.000e+00, 0.000e+00,\n",
       "        0.000e+00, 0.000e+00, 0.000e+00, 0.000e+00, 0.000e+00, 0.000e+00,\n",
       "        0.000e+00, 0.000e+00, 0.000e+00, 0.000e+00, 0.000e+00, 0.000e+00,\n",
       "        0.000e+00, 0.000e+00, 1.000e+00, 0.000e+00, 0.000e+00, 0.000e+00,\n",
       "        0.000e+00, 0.000e+00, 0.000e+00, 0.000e+00, 0.000e+00, 0.000e+00,\n",
       "        0.000e+00, 0.000e+00, 0.000e+00, 0.000e+00, 0.000e+00, 0.000e+00,\n",
       "        0.000e+00, 0.000e+00, 0.000e+00, 0.000e+00, 0.000e+00, 0.000e+00,\n",
       "        0.000e+00, 0.000e+00, 0.000e+00, 0.000e+00, 0.000e+00, 0.000e+00,\n",
       "        0.000e+00, 1.000e+00, 0.000e+00, 0.000e+00, 0.000e+00, 0.000e+00,\n",
       "        0.000e+00, 0.000e+00, 0.000e+00, 0.000e+00, 0.000e+00, 0.000e+00,\n",
       "        0.000e+00, 0.000e+00, 0.000e+00, 0.000e+00, 0.000e+00, 0.000e+00,\n",
       "        0.000e+00, 0.000e+00, 0.000e+00, 0.000e+00, 0.000e+00, 0.000e+00,\n",
       "        0.000e+00, 0.000e+00, 0.000e+00, 0.000e+00, 0.000e+00, 0.000e+00,\n",
       "        0.000e+00, 0.000e+00, 0.000e+00, 0.000e+00, 0.000e+00, 0.000e+00,\n",
       "        0.000e+00, 0.000e+00, 0.000e+00, 0.000e+00, 0.000e+00, 0.000e+00,\n",
       "        0.000e+00, 0.000e+00, 0.000e+00, 0.000e+00, 0.000e+00, 0.000e+00,\n",
       "        0.000e+00, 0.000e+00, 0.000e+00, 0.000e+00, 0.000e+00, 0.000e+00,\n",
       "        0.000e+00, 0.000e+00, 0.000e+00, 0.000e+00, 0.000e+00, 0.000e+00,\n",
       "        0.000e+00, 1.000e+00]),\n",
       " array([  1.   ,   2.476,   3.952,   5.428,   6.904,   8.38 ,   9.856,\n",
       "         11.332,  12.808,  14.284,  15.76 ,  17.236,  18.712,  20.188,\n",
       "         21.664,  23.14 ,  24.616,  26.092,  27.568,  29.044,  30.52 ,\n",
       "         31.996,  33.472,  34.948,  36.424,  37.9  ,  39.376,  40.852,\n",
       "         42.328,  43.804,  45.28 ,  46.756,  48.232,  49.708,  51.184,\n",
       "         52.66 ,  54.136,  55.612,  57.088,  58.564,  60.04 ,  61.516,\n",
       "         62.992,  64.468,  65.944,  67.42 ,  68.896,  70.372,  71.848,\n",
       "         73.324,  74.8  ,  76.276,  77.752,  79.228,  80.704,  82.18 ,\n",
       "         83.656,  85.132,  86.608,  88.084,  89.56 ,  91.036,  92.512,\n",
       "         93.988,  95.464,  96.94 ,  98.416,  99.892, 101.368, 102.844,\n",
       "        104.32 , 105.796, 107.272, 108.748, 110.224, 111.7  , 113.176,\n",
       "        114.652, 116.128, 117.604, 119.08 , 120.556, 122.032, 123.508,\n",
       "        124.984, 126.46 , 127.936, 129.412, 130.888, 132.364, 133.84 ,\n",
       "        135.316, 136.792, 138.268, 139.744, 141.22 , 142.696, 144.172,\n",
       "        145.648, 147.124, 148.6  , 150.076, 151.552, 153.028, 154.504,\n",
       "        155.98 , 157.456, 158.932, 160.408, 161.884, 163.36 , 164.836,\n",
       "        166.312, 167.788, 169.264, 170.74 , 172.216, 173.692, 175.168,\n",
       "        176.644, 178.12 , 179.596, 181.072, 182.548, 184.024, 185.5  ,\n",
       "        186.976, 188.452, 189.928, 191.404, 192.88 , 194.356, 195.832,\n",
       "        197.308, 198.784, 200.26 , 201.736, 203.212, 204.688, 206.164,\n",
       "        207.64 , 209.116, 210.592, 212.068, 213.544, 215.02 , 216.496,\n",
       "        217.972, 219.448, 220.924, 222.4  , 223.876, 225.352, 226.828,\n",
       "        228.304, 229.78 , 231.256, 232.732, 234.208, 235.684, 237.16 ,\n",
       "        238.636, 240.112, 241.588, 243.064, 244.54 , 246.016, 247.492,\n",
       "        248.968, 250.444, 251.92 , 253.396, 254.872, 256.348, 257.824,\n",
       "        259.3  , 260.776, 262.252, 263.728, 265.204, 266.68 , 268.156,\n",
       "        269.632, 271.108, 272.584, 274.06 , 275.536, 277.012, 278.488,\n",
       "        279.964, 281.44 , 282.916, 284.392, 285.868, 287.344, 288.82 ,\n",
       "        290.296, 291.772, 293.248, 294.724, 296.2  , 297.676, 299.152,\n",
       "        300.628, 302.104, 303.58 , 305.056, 306.532, 308.008, 309.484,\n",
       "        310.96 , 312.436, 313.912, 315.388, 316.864, 318.34 , 319.816,\n",
       "        321.292, 322.768, 324.244, 325.72 , 327.196, 328.672, 330.148,\n",
       "        331.624, 333.1  , 334.576, 336.052, 337.528, 339.004, 340.48 ,\n",
       "        341.956, 343.432, 344.908, 346.384, 347.86 , 349.336, 350.812,\n",
       "        352.288, 353.764, 355.24 , 356.716, 358.192, 359.668, 361.144,\n",
       "        362.62 , 364.096, 365.572, 367.048, 368.524, 370.   , 371.476,\n",
       "        372.952, 374.428, 375.904, 377.38 , 378.856, 380.332, 381.808,\n",
       "        383.284, 384.76 , 386.236, 387.712, 389.188, 390.664, 392.14 ,\n",
       "        393.616, 395.092, 396.568, 398.044, 399.52 , 400.996, 402.472,\n",
       "        403.948, 405.424, 406.9  , 408.376, 409.852, 411.328, 412.804,\n",
       "        414.28 , 415.756, 417.232, 418.708, 420.184, 421.66 , 423.136,\n",
       "        424.612, 426.088, 427.564, 429.04 , 430.516, 431.992, 433.468,\n",
       "        434.944, 436.42 , 437.896, 439.372, 440.848, 442.324, 443.8  ,\n",
       "        445.276, 446.752, 448.228, 449.704, 451.18 , 452.656, 454.132,\n",
       "        455.608, 457.084, 458.56 , 460.036, 461.512, 462.988, 464.464,\n",
       "        465.94 , 467.416, 468.892, 470.368, 471.844, 473.32 , 474.796,\n",
       "        476.272, 477.748, 479.224, 480.7  , 482.176, 483.652, 485.128,\n",
       "        486.604, 488.08 , 489.556, 491.032, 492.508, 493.984, 495.46 ,\n",
       "        496.936, 498.412, 499.888, 501.364, 502.84 , 504.316, 505.792,\n",
       "        507.268, 508.744, 510.22 , 511.696, 513.172, 514.648, 516.124,\n",
       "        517.6  , 519.076, 520.552, 522.028, 523.504, 524.98 , 526.456,\n",
       "        527.932, 529.408, 530.884, 532.36 , 533.836, 535.312, 536.788,\n",
       "        538.264, 539.74 , 541.216, 542.692, 544.168, 545.644, 547.12 ,\n",
       "        548.596, 550.072, 551.548, 553.024, 554.5  , 555.976, 557.452,\n",
       "        558.928, 560.404, 561.88 , 563.356, 564.832, 566.308, 567.784,\n",
       "        569.26 , 570.736, 572.212, 573.688, 575.164, 576.64 , 578.116,\n",
       "        579.592, 581.068, 582.544, 584.02 , 585.496, 586.972, 588.448,\n",
       "        589.924, 591.4  , 592.876, 594.352, 595.828, 597.304, 598.78 ,\n",
       "        600.256, 601.732, 603.208, 604.684, 606.16 , 607.636, 609.112,\n",
       "        610.588, 612.064, 613.54 , 615.016, 616.492, 617.968, 619.444,\n",
       "        620.92 , 622.396, 623.872, 625.348, 626.824, 628.3  , 629.776,\n",
       "        631.252, 632.728, 634.204, 635.68 , 637.156, 638.632, 640.108,\n",
       "        641.584, 643.06 , 644.536, 646.012, 647.488, 648.964, 650.44 ,\n",
       "        651.916, 653.392, 654.868, 656.344, 657.82 , 659.296, 660.772,\n",
       "        662.248, 663.724, 665.2  , 666.676, 668.152, 669.628, 671.104,\n",
       "        672.58 , 674.056, 675.532, 677.008, 678.484, 679.96 , 681.436,\n",
       "        682.912, 684.388, 685.864, 687.34 , 688.816, 690.292, 691.768,\n",
       "        693.244, 694.72 , 696.196, 697.672, 699.148, 700.624, 702.1  ,\n",
       "        703.576, 705.052, 706.528, 708.004, 709.48 , 710.956, 712.432,\n",
       "        713.908, 715.384, 716.86 , 718.336, 719.812, 721.288, 722.764,\n",
       "        724.24 , 725.716, 727.192, 728.668, 730.144, 731.62 , 733.096,\n",
       "        734.572, 736.048, 737.524, 739.   ]),\n",
       " <BarContainer object of 500 artists>)"
      ]
     },
     "execution_count": 9,
     "metadata": {},
     "output_type": "execute_result"
    },
    {
     "data": {
      "image/png": "[encoded data removed]",
      "text/plain": [
       "<Figure size 1000x500 with 2 Axes>"
      ]
     },
     "metadata": {},
     "output_type": "display_data"
    }
   ],
   "source": [
    "fig, ax = plt.subplots(1, 2, figsize=(10, 5))\n",
    "\n",
    "relations_cnt = relations.group_by(\"customer_id_map\").agg(pl.len()).sort(\"len\", descending=True)\n",
    "relations_filtered_cnt = relations_filtered.group_by(\"customer_id_map\").agg(pl.len()).sort(\"len\", descending=True)\n",
    "ax[0].hist(relations_cnt.select(\"len\"), bins=500)\n",
    "ax[1].hist(relations_filtered_cnt.select(\"len\"), bins=500)"
   ]
  },
  {
   "cell_type": "code",
   "execution_count": 10,
   "metadata": {},
   "outputs": [],
   "source": [
    "users_filtered = users.join(relations_filtered.select(\"customer_id\").unique(), on=\"customer_id\", how=\"inner\").drop(\"customer_id_map\")\n",
    "items_filtered = items.join(relations_filtered.select(\"article_id\").unique(), on=\"article_id\", how=\"inner\")"
   ]
  },
  {
   "cell_type": "code",
   "execution_count": 11,
   "metadata": {},
   "outputs": [],
   "source": [
    "users_filtered = users_filtered.with_columns(customer_id_map=pl.col(\"customer_id\").cast(pl.Categorical).to_physical())\n",
    "items_filtered = items_filtered.with_columns(article_id_map=pl.col(\"article_id\").cast(pl.String).cast(pl.Categorical).to_physical())\n",
    "\n",
    "users_id_map = users_filtered.select(\"customer_id\", \"customer_id_map\").unique()\n",
    "articles_id_map = items_filtered.select(\"article_id\", \"article_id_map\").unique()\n",
    "for c, id_map in zip([\"customer_id\", \"article_id\"], [users_id_map, articles_id_map]):\n",
    "    id_map.write_parquet(f\".data/hm/intermediate/frac_0_01/{c}_map.parquet\")"
   ]
  },
  {
   "cell_type": "code",
   "execution_count": 12,
   "metadata": {},
   "outputs": [],
   "source": [
    "relations_filtered = relations_filtered.drop(\"customer_id_map\", \"article_id_map\") \\\n",
    "    .sort(\"t_dat\") \\\n",
    "    .join(users_id_map, on=\"customer_id\", how=\"left\") \\\n",
    "    .join(articles_id_map, on=\"article_id\", how=\"left\")"
   ]
  },
  {
   "cell_type": "code",
   "execution_count": 26,
   "metadata": {},
   "outputs": [],
   "source": [
    "# Write files to parquet\n",
    "users_filtered.write_parquet(\".data/hm/intermediate/frac_0_01/users.parquet\")\n",
    "items_filtered.write_parquet(\".data/hm/intermediate/frac_0_01/articles.parquet\")\n",
    "relations_filtered.write_parquet(\".data/hm/intermediate/frac_0_01/relations.parquet\")"
   ]
  },
  {
   "cell_type": "code",
   "execution_count": 13,
   "metadata": {},
   "outputs": [
    {
     "data": {
      "text/html": [
       "<div><style>\n",
       ".dataframe > thead > tr,\n",
       ".dataframe > tbody > tr {\n",
       "  text-align: right;\n",
       "  white-space: pre-wrap;\n",
       "}\n",
       "</style>\n",
       "<small>shape: (317_547, 7)</small><table border=\"1\" class=\"dataframe\"><thead><tr><th>t_dat</th><th>customer_id</th><th>article_id</th><th>price</th><th>sales_channel_id</th><th>customer_id_map</th><th>article_id_map</th></tr><tr><td>date</td><td>str</td><td>i64</td><td>f64</td><td>i64</td><td>u32</td><td>u32</td></tr></thead><tbody><tr><td>2018-09-20</td><td>&quot;dde33088d85fd56d202c48167252cf…</td><td>372860001</td><td>0.013542</td><td>1</td><td>11697</td><td>879</td></tr><tr><td>2018-09-20</td><td>&quot;dde33088d85fd56d202c48167252cf…</td><td>552227001</td><td>0.016949</td><td>1</td><td>11697</td><td>4720</td></tr><tr><td>2018-09-20</td><td>&quot;e63fa2967926bba93b95f06cccb275…</td><td>664133002</td><td>0.042356</td><td>2</td><td>12232</td><td>16671</td></tr><tr><td>2018-09-20</td><td>&quot;e63fa2967926bba93b95f06cccb275…</td><td>664133002</td><td>0.042356</td><td>2</td><td>12232</td><td>16671</td></tr><tr><td>2018-09-20</td><td>&quot;e63fa2967926bba93b95f06cccb275…</td><td>572998001</td><td>0.050831</td><td>2</td><td>12232</td><td>6763</td></tr><tr><td>&hellip;</td><td>&hellip;</td><td>&hellip;</td><td>&hellip;</td><td>&hellip;</td><td>&hellip;</td><td>&hellip;</td></tr><tr><td>2020-09-22</td><td>&quot;a6f6040fff6fe551602030a1addc48…</td><td>866455003</td><td>0.016932</td><td>1</td><td>8738</td><td>47689</td></tr><tr><td>2020-09-22</td><td>&quot;a6f6040fff6fe551602030a1addc48…</td><td>791587010</td><td>0.025407</td><td>1</td><td>8738</td><td>38215</td></tr><tr><td>2020-09-22</td><td>&quot;31a545f898a5a749801c4066e2c7bf…</td><td>587026035</td><td>0.050831</td><td>1</td><td>2563</td><td>7832</td></tr><tr><td>2020-09-22</td><td>&quot;31a545f898a5a749801c4066e2c7bf…</td><td>922636001</td><td>0.030864</td><td>2</td><td>2563</td><td>51764</td></tr><tr><td>2020-09-22</td><td>&quot;31a545f898a5a749801c4066e2c7bf…</td><td>903096002</td><td>0.038593</td><td>2</td><td>2563</td><td>50881</td></tr></tbody></table></div>"
      ],
      "text/plain": [
       "shape: (317_547, 7)\n",
       "┌────────────┬───────────────┬────────────┬──────────┬───────────────┬──────────────┬──────────────┐\n",
       "│ t_dat      ┆ customer_id   ┆ article_id ┆ price    ┆ sales_channel ┆ customer_id_ ┆ article_id_m │\n",
       "│ ---        ┆ ---           ┆ ---        ┆ ---      ┆ _id           ┆ map          ┆ ap           │\n",
       "│ date       ┆ str           ┆ i64        ┆ f64      ┆ ---           ┆ ---          ┆ ---          │\n",
       "│            ┆               ┆            ┆          ┆ i64           ┆ u32          ┆ u32          │\n",
       "╞════════════╪═══════════════╪════════════╪══════════╪═══════════════╪══════════════╪══════════════╡\n",
       "│ 2018-09-20 ┆ dde33088d85fd ┆ 372860001  ┆ 0.013542 ┆ 1             ┆ 11697        ┆ 879          │\n",
       "│            ┆ 56d202c481672 ┆            ┆          ┆               ┆              ┆              │\n",
       "│            ┆ 52cf…         ┆            ┆          ┆               ┆              ┆              │\n",
       "│ 2018-09-20 ┆ dde33088d85fd ┆ 552227001  ┆ 0.016949 ┆ 1             ┆ 11697        ┆ 4720         │\n",
       "│            ┆ 56d202c481672 ┆            ┆          ┆               ┆              ┆              │\n",
       "│            ┆ 52cf…         ┆            ┆          ┆               ┆              ┆              │\n",
       "│ 2018-09-20 ┆ e63fa2967926b ┆ 664133002  ┆ 0.042356 ┆ 2             ┆ 12232        ┆ 16671        │\n",
       "│            ┆ ba93b95f06ccc ┆            ┆          ┆               ┆              ┆              │\n",
       "│            ┆ b275…         ┆            ┆          ┆               ┆              ┆              │\n",
       "│ 2018-09-20 ┆ e63fa2967926b ┆ 664133002  ┆ 0.042356 ┆ 2             ┆ 12232        ┆ 16671        │\n",
       "│            ┆ ba93b95f06ccc ┆            ┆          ┆               ┆              ┆              │\n",
       "│            ┆ b275…         ┆            ┆          ┆               ┆              ┆              │\n",
       "│ 2018-09-20 ┆ e63fa2967926b ┆ 572998001  ┆ 0.050831 ┆ 2             ┆ 12232        ┆ 6763         │\n",
       "│            ┆ ba93b95f06ccc ┆            ┆          ┆               ┆              ┆              │\n",
       "│            ┆ b275…         ┆            ┆          ┆               ┆              ┆              │\n",
       "│ …          ┆ …             ┆ …          ┆ …        ┆ …             ┆ …            ┆ …            │\n",
       "│ 2020-09-22 ┆ a6f6040fff6fe ┆ 866455003  ┆ 0.016932 ┆ 1             ┆ 8738         ┆ 47689        │\n",
       "│            ┆ 551602030a1ad ┆            ┆          ┆               ┆              ┆              │\n",
       "│            ┆ dc48…         ┆            ┆          ┆               ┆              ┆              │\n",
       "│ 2020-09-22 ┆ a6f6040fff6fe ┆ 791587010  ┆ 0.025407 ┆ 1             ┆ 8738         ┆ 38215        │\n",
       "│            ┆ 551602030a1ad ┆            ┆          ┆               ┆              ┆              │\n",
       "│            ┆ dc48…         ┆            ┆          ┆               ┆              ┆              │\n",
       "│ 2020-09-22 ┆ 31a545f898a5a ┆ 587026035  ┆ 0.050831 ┆ 1             ┆ 2563         ┆ 7832         │\n",
       "│            ┆ 749801c4066e2 ┆            ┆          ┆               ┆              ┆              │\n",
       "│            ┆ c7bf…         ┆            ┆          ┆               ┆              ┆              │\n",
       "│ 2020-09-22 ┆ 31a545f898a5a ┆ 922636001  ┆ 0.030864 ┆ 2             ┆ 2563         ┆ 51764        │\n",
       "│            ┆ 749801c4066e2 ┆            ┆          ┆               ┆              ┆              │\n",
       "│            ┆ c7bf…         ┆            ┆          ┆               ┆              ┆              │\n",
       "│ 2020-09-22 ┆ 31a545f898a5a ┆ 903096002  ┆ 0.038593 ┆ 2             ┆ 2563         ┆ 50881        │\n",
       "│            ┆ 749801c4066e2 ┆            ┆          ┆               ┆              ┆              │\n",
       "│            ┆ c7bf…         ┆            ┆          ┆               ┆              ┆              │\n",
       "└────────────┴───────────────┴────────────┴──────────┴───────────────┴──────────────┴──────────────┘"
      ]
     },
     "execution_count": 13,
     "metadata": {},
     "output_type": "execute_result"
    }
   ],
   "source": [
    "relations_filtered"
   ]
  },
  {
   "cell_type": "code",
   "execution_count": 14,
   "metadata": {},
   "outputs": [
    {
     "data": {
      "text/html": [
       "<div><style>\n",
       ".dataframe > thead > tr,\n",
       ".dataframe > tbody > tr {\n",
       "  text-align: right;\n",
       "  white-space: pre-wrap;\n",
       "}\n",
       "</style>\n",
       "<small>shape: (13_622, 8)</small><table border=\"1\" class=\"dataframe\"><thead><tr><th>customer_id</th><th>FN</th><th>Active</th><th>club_member_status</th><th>fashion_news_frequency</th><th>age</th><th>postal_code</th><th>customer_id_map</th></tr><tr><td>str</td><td>f64</td><td>f64</td><td>str</td><td>str</td><td>i64</td><td>str</td><td>u32</td></tr></thead><tbody><tr><td>&quot;0000757967448a6cb83efb3ea7a3fb…</td><td>null</td><td>null</td><td>&quot;ACTIVE&quot;</td><td>&quot;NONE&quot;</td><td>20</td><td>&quot;fe7b8e2b3fafb89ca90db17ffeeae0…</td><td>0</td></tr><tr><td>&quot;0001f8cef6b9702d54abf66fd89eb2…</td><td>null</td><td>null</td><td>&quot;ACTIVE&quot;</td><td>&quot;NONE&quot;</td><td>21</td><td>&quot;4211d6bf468de190b2f135feed96ed…</td><td>1</td></tr><tr><td>&quot;0002d2ef78ec29c03a951963a2694b…</td><td>null</td><td>null</td><td>&quot;ACTIVE&quot;</td><td>&quot;NONE&quot;</td><td>48</td><td>&quot;9b9e1c0198670ed17ef23e4757eac8…</td><td>2</td></tr><tr><td>&quot;0002e6a17e3a75600888cac019846a…</td><td>1.0</td><td>1.0</td><td>&quot;ACTIVE&quot;</td><td>&quot;Regularly&quot;</td><td>18</td><td>&quot;53c59467d0f76106835736898b2910…</td><td>3</td></tr><tr><td>&quot;0004ec078693c417c08ef6be811a09…</td><td>null</td><td>null</td><td>&quot;ACTIVE&quot;</td><td>&quot;NONE&quot;</td><td>27</td><td>&quot;d19fa8de21671563e4e02611e7fe19…</td><td>4</td></tr><tr><td>&hellip;</td><td>&hellip;</td><td>&hellip;</td><td>&hellip;</td><td>&hellip;</td><td>&hellip;</td><td>&hellip;</td><td>&hellip;</td></tr><tr><td>&quot;fff09a52f77d13e758c08f7981cb6a…</td><td>null</td><td>null</td><td>&quot;ACTIVE&quot;</td><td>&quot;NONE&quot;</td><td>21</td><td>&quot;17eb98db07c24e559449610f8a0a79…</td><td>13617</td></tr><tr><td>&quot;fff2be86ec6e8b738cb09b0bbb55d9…</td><td>null</td><td>null</td><td>&quot;ACTIVE&quot;</td><td>&quot;NONE&quot;</td><td>31</td><td>&quot;26eb7cfaceefb3c3da59b85e230747…</td><td>13618</td></tr><tr><td>&quot;fff5300d1e80ad5dc05d180d953c35…</td><td>1.0</td><td>1.0</td><td>&quot;ACTIVE&quot;</td><td>&quot;Regularly&quot;</td><td>59</td><td>&quot;0035640d00d7d24cd04eb74c0fd0fe…</td><td>13619</td></tr><tr><td>&quot;fff928730466cde2f16c50c0921c96…</td><td>null</td><td>null</td><td>&quot;ACTIVE&quot;</td><td>&quot;NONE&quot;</td><td>57</td><td>&quot;1bf3736ad3417f13c5e17fcc5f0faf…</td><td>13620</td></tr><tr><td>&quot;fffa26c896c2d88399932f28c1cefc…</td><td>null</td><td>null</td><td>&quot;ACTIVE&quot;</td><td>&quot;NONE&quot;</td><td>19</td><td>&quot;2c29ae653a9282cce4151bd87643c9…</td><td>13621</td></tr></tbody></table></div>"
      ],
      "text/plain": [
       "shape: (13_622, 8)\n",
       "┌───────────────┬──────┬────────┬───────────────┬──────────────┬─────┬──────────────┬──────────────┐\n",
       "│ customer_id   ┆ FN   ┆ Active ┆ club_member_s ┆ fashion_news ┆ age ┆ postal_code  ┆ customer_id_ │\n",
       "│ ---           ┆ ---  ┆ ---    ┆ tatus         ┆ _frequency   ┆ --- ┆ ---          ┆ map          │\n",
       "│ str           ┆ f64  ┆ f64    ┆ ---           ┆ ---          ┆ i64 ┆ str          ┆ ---          │\n",
       "│               ┆      ┆        ┆ str           ┆ str          ┆     ┆              ┆ u32          │\n",
       "╞═══════════════╪══════╪════════╪═══════════════╪══════════════╪═════╪══════════════╪══════════════╡\n",
       "│ 0000757967448 ┆ null ┆ null   ┆ ACTIVE        ┆ NONE         ┆ 20  ┆ fe7b8e2b3faf ┆ 0            │\n",
       "│ a6cb83efb3ea7 ┆      ┆        ┆               ┆              ┆     ┆ b89ca90db17f ┆              │\n",
       "│ a3fb…         ┆      ┆        ┆               ┆              ┆     ┆ feeae0…      ┆              │\n",
       "│ 0001f8cef6b97 ┆ null ┆ null   ┆ ACTIVE        ┆ NONE         ┆ 21  ┆ 4211d6bf468d ┆ 1            │\n",
       "│ 02d54abf66fd8 ┆      ┆        ┆               ┆              ┆     ┆ e190b2f135fe ┆              │\n",
       "│ 9eb2…         ┆      ┆        ┆               ┆              ┆     ┆ ed96ed…      ┆              │\n",
       "│ 0002d2ef78ec2 ┆ null ┆ null   ┆ ACTIVE        ┆ NONE         ┆ 48  ┆ 9b9e1c019867 ┆ 2            │\n",
       "│ 9c03a951963a2 ┆      ┆        ┆               ┆              ┆     ┆ 0ed17ef23e47 ┆              │\n",
       "│ 694b…         ┆      ┆        ┆               ┆              ┆     ┆ 57eac8…      ┆              │\n",
       "│ 0002e6a17e3a7 ┆ 1.0  ┆ 1.0    ┆ ACTIVE        ┆ Regularly    ┆ 18  ┆ 53c59467d0f7 ┆ 3            │\n",
       "│ 5600888cac019 ┆      ┆        ┆               ┆              ┆     ┆ 610683573689 ┆              │\n",
       "│ 846a…         ┆      ┆        ┆               ┆              ┆     ┆ 8b2910…      ┆              │\n",
       "│ 0004ec078693c ┆ null ┆ null   ┆ ACTIVE        ┆ NONE         ┆ 27  ┆ d19fa8de2167 ┆ 4            │\n",
       "│ 417c08ef6be81 ┆      ┆        ┆               ┆              ┆     ┆ 1563e4e02611 ┆              │\n",
       "│ 1a09…         ┆      ┆        ┆               ┆              ┆     ┆ e7fe19…      ┆              │\n",
       "│ …             ┆ …    ┆ …      ┆ …             ┆ …            ┆ …   ┆ …            ┆ …            │\n",
       "│ fff09a52f77d1 ┆ null ┆ null   ┆ ACTIVE        ┆ NONE         ┆ 21  ┆ 17eb98db07c2 ┆ 13617        │\n",
       "│ 3e758c08f7981 ┆      ┆        ┆               ┆              ┆     ┆ 4e559449610f ┆              │\n",
       "│ cb6a…         ┆      ┆        ┆               ┆              ┆     ┆ 8a0a79…      ┆              │\n",
       "│ fff2be86ec6e8 ┆ null ┆ null   ┆ ACTIVE        ┆ NONE         ┆ 31  ┆ 26eb7cfaceef ┆ 13618        │\n",
       "│ b738cb09b0bbb ┆      ┆        ┆               ┆              ┆     ┆ b3c3da59b85e ┆              │\n",
       "│ 55d9…         ┆      ┆        ┆               ┆              ┆     ┆ 230747…      ┆              │\n",
       "│ fff5300d1e80a ┆ 1.0  ┆ 1.0    ┆ ACTIVE        ┆ Regularly    ┆ 59  ┆ 0035640d00d7 ┆ 13619        │\n",
       "│ d5dc05d180d95 ┆      ┆        ┆               ┆              ┆     ┆ d24cd04eb74c ┆              │\n",
       "│ 3c35…         ┆      ┆        ┆               ┆              ┆     ┆ 0fd0fe…      ┆              │\n",
       "│ fff928730466c ┆ null ┆ null   ┆ ACTIVE        ┆ NONE         ┆ 57  ┆ 1bf3736ad341 ┆ 13620        │\n",
       "│ de2f16c50c092 ┆      ┆        ┆               ┆              ┆     ┆ 7f13c5e17fcc ┆              │\n",
       "│ 1c96…         ┆      ┆        ┆               ┆              ┆     ┆ 5f0faf…      ┆              │\n",
       "│ fffa26c896c2d ┆ null ┆ null   ┆ ACTIVE        ┆ NONE         ┆ 19  ┆ 2c29ae653a92 ┆ 13621        │\n",
       "│ 88399932f28c1 ┆      ┆        ┆               ┆              ┆     ┆ 82cce4151bd8 ┆              │\n",
       "│ cefc…         ┆      ┆        ┆               ┆              ┆     ┆ 7643c9…      ┆              │\n",
       "└───────────────┴──────┴────────┴───────────────┴──────────────┴─────┴──────────────┴──────────────┘"
      ]
     },
     "execution_count": 14,
     "metadata": {},
     "output_type": "execute_result"
    }
   ],
   "source": [
    "users_filtered"
   ]
  },
  {
   "cell_type": "code",
   "execution_count": 33,
   "metadata": {},
   "outputs": [
    {
     "data": {
      "text/html": [
       "<div><style>\n",
       ".dataframe > thead > tr,\n",
       ".dataframe > tbody > tr {\n",
       "  text-align: right;\n",
       "  white-space: pre-wrap;\n",
       "}\n",
       "</style>\n",
       "<small>shape: (52_102, 574)</small><table border=\"1\" class=\"dataframe\"><thead><tr><th>product_type_name_Alice band</th><th>product_type_name_Baby Bib</th><th>product_type_name_Backpack</th><th>product_type_name_Bag</th><th>product_type_name_Ballerinas</th><th>product_type_name_Beanie</th><th>product_type_name_Belt</th><th>product_type_name_Bikini top</th><th>product_type_name_Blanket</th><th>product_type_name_Blazer</th><th>product_type_name_Blouse</th><th>product_type_name_Bodysuit</th><th>product_type_name_Bootie</th><th>product_type_name_Boots</th><th>product_type_name_Bra</th><th>product_type_name_Bra extender</th><th>product_type_name_Bracelet</th><th>product_type_name_Braces</th><th>product_type_name_Bucket hat</th><th>product_type_name_Cap</th><th>product_type_name_Cap/peaked</th><th>product_type_name_Cardigan</th><th>product_type_name_Chem. cosmetics</th><th>product_type_name_Coat</th><th>product_type_name_Costumes</th><th>product_type_name_Cross-body bag</th><th>product_type_name_Dog Wear</th><th>product_type_name_Dog wear</th><th>product_type_name_Dress</th><th>product_type_name_Dungarees</th><th>product_type_name_Earring</th><th>product_type_name_Earrings</th><th>product_type_name_Felt hat</th><th>product_type_name_Fine cosmetics</th><th>product_type_name_Flat shoe</th><th>product_type_name_Flat shoes</th><th>product_type_name_Flip flop</th><th>&hellip;</th><th>section_name_Special Collections</th><th>section_name_Womens Big accessories</th><th>section_name_Womens Casual</th><th>section_name_Womens Everyday Basics</th><th>section_name_Womens Everyday Collection</th><th>section_name_Womens Jackets</th><th>section_name_Womens Lingerie</th><th>section_name_Womens Nightwear, Socks &amp; Tigh</th><th>section_name_Womens Premium</th><th>section_name_Womens Shoes</th><th>section_name_Womens Small accessories</th><th>section_name_Womens Swimwear, beachwear</th><th>section_name_Womens Tailoring</th><th>section_name_Womens Trend</th><th>section_name_Young Boy</th><th>section_name_Young Girl</th><th>garment_group_name_Accessories</th><th>garment_group_name_Blouses</th><th>garment_group_name_Dressed</th><th>garment_group_name_Dresses Ladies</th><th>garment_group_name_Dresses/Skirts girls</th><th>garment_group_name_Jersey Basic</th><th>garment_group_name_Jersey Fancy</th><th>garment_group_name_Knitwear</th><th>garment_group_name_Outdoor</th><th>garment_group_name_Shirts</th><th>garment_group_name_Shoes</th><th>garment_group_name_Shorts</th><th>garment_group_name_Skirts</th><th>garment_group_name_Socks and Tights</th><th>garment_group_name_Special Offers</th><th>garment_group_name_Swimwear</th><th>garment_group_name_Trousers</th><th>garment_group_name_Trousers Denim</th><th>garment_group_name_Under-, Nightwear</th><th>garment_group_name_Unknown</th><th>garment_group_name_Woven/Jersey/Knitted mix Baby</th></tr><tr><td>f64</td><td>f64</td><td>f64</td><td>f64</td><td>f64</td><td>f64</td><td>f64</td><td>f64</td><td>f64</td><td>f64</td><td>f64</td><td>f64</td><td>f64</td><td>f64</td><td>f64</td><td>f64</td><td>f64</td><td>f64</td><td>f64</td><td>f64</td><td>f64</td><td>f64</td><td>f64</td><td>f64</td><td>f64</td><td>f64</td><td>f64</td><td>f64</td><td>f64</td><td>f64</td><td>f64</td><td>f64</td><td>f64</td><td>f64</td><td>f64</td><td>f64</td><td>f64</td><td>&hellip;</td><td>f64</td><td>f64</td><td>f64</td><td>f64</td><td>f64</td><td>f64</td><td>f64</td><td>f64</td><td>f64</td><td>f64</td><td>f64</td><td>f64</td><td>f64</td><td>f64</td><td>f64</td><td>f64</td><td>f64</td><td>f64</td><td>f64</td><td>f64</td><td>f64</td><td>f64</td><td>f64</td><td>f64</td><td>f64</td><td>f64</td><td>f64</td><td>f64</td><td>f64</td><td>f64</td><td>f64</td><td>f64</td><td>f64</td><td>f64</td><td>f64</td><td>f64</td><td>f64</td></tr></thead><tbody><tr><td>0.0</td><td>0.0</td><td>0.0</td><td>0.0</td><td>0.0</td><td>0.0</td><td>0.0</td><td>0.0</td><td>0.0</td><td>0.0</td><td>0.0</td><td>0.0</td><td>0.0</td><td>0.0</td><td>0.0</td><td>0.0</td><td>0.0</td><td>0.0</td><td>0.0</td><td>0.0</td><td>0.0</td><td>0.0</td><td>0.0</td><td>0.0</td><td>0.0</td><td>0.0</td><td>0.0</td><td>0.0</td><td>0.0</td><td>0.0</td><td>0.0</td><td>0.0</td><td>0.0</td><td>0.0</td><td>0.0</td><td>0.0</td><td>0.0</td><td>&hellip;</td><td>0.0</td><td>0.0</td><td>0.0</td><td>1.0</td><td>0.0</td><td>0.0</td><td>0.0</td><td>0.0</td><td>0.0</td><td>0.0</td><td>0.0</td><td>0.0</td><td>0.0</td><td>0.0</td><td>0.0</td><td>0.0</td><td>0.0</td><td>0.0</td><td>0.0</td><td>0.0</td><td>0.0</td><td>1.0</td><td>0.0</td><td>0.0</td><td>0.0</td><td>0.0</td><td>0.0</td><td>0.0</td><td>0.0</td><td>0.0</td><td>0.0</td><td>0.0</td><td>0.0</td><td>0.0</td><td>0.0</td><td>0.0</td><td>0.0</td></tr><tr><td>0.0</td><td>0.0</td><td>0.0</td><td>0.0</td><td>0.0</td><td>0.0</td><td>0.0</td><td>0.0</td><td>0.0</td><td>0.0</td><td>0.0</td><td>0.0</td><td>0.0</td><td>0.0</td><td>0.0</td><td>0.0</td><td>0.0</td><td>0.0</td><td>0.0</td><td>0.0</td><td>0.0</td><td>0.0</td><td>0.0</td><td>0.0</td><td>0.0</td><td>0.0</td><td>0.0</td><td>0.0</td><td>0.0</td><td>0.0</td><td>0.0</td><td>0.0</td><td>0.0</td><td>0.0</td><td>0.0</td><td>0.0</td><td>0.0</td><td>&hellip;</td><td>0.0</td><td>0.0</td><td>0.0</td><td>1.0</td><td>0.0</td><td>0.0</td><td>0.0</td><td>0.0</td><td>0.0</td><td>0.0</td><td>0.0</td><td>0.0</td><td>0.0</td><td>0.0</td><td>0.0</td><td>0.0</td><td>0.0</td><td>0.0</td><td>0.0</td><td>0.0</td><td>0.0</td><td>1.0</td><td>0.0</td><td>0.0</td><td>0.0</td><td>0.0</td><td>0.0</td><td>0.0</td><td>0.0</td><td>0.0</td><td>0.0</td><td>0.0</td><td>0.0</td><td>0.0</td><td>0.0</td><td>0.0</td><td>0.0</td></tr><tr><td>0.0</td><td>0.0</td><td>0.0</td><td>0.0</td><td>0.0</td><td>0.0</td><td>0.0</td><td>0.0</td><td>0.0</td><td>0.0</td><td>0.0</td><td>0.0</td><td>0.0</td><td>0.0</td><td>0.0</td><td>0.0</td><td>0.0</td><td>0.0</td><td>0.0</td><td>0.0</td><td>0.0</td><td>0.0</td><td>0.0</td><td>0.0</td><td>0.0</td><td>0.0</td><td>0.0</td><td>0.0</td><td>0.0</td><td>0.0</td><td>0.0</td><td>0.0</td><td>0.0</td><td>0.0</td><td>0.0</td><td>0.0</td><td>0.0</td><td>&hellip;</td><td>0.0</td><td>0.0</td><td>0.0</td><td>1.0</td><td>0.0</td><td>0.0</td><td>0.0</td><td>0.0</td><td>0.0</td><td>0.0</td><td>0.0</td><td>0.0</td><td>0.0</td><td>0.0</td><td>0.0</td><td>0.0</td><td>0.0</td><td>0.0</td><td>0.0</td><td>0.0</td><td>0.0</td><td>1.0</td><td>0.0</td><td>0.0</td><td>0.0</td><td>0.0</td><td>0.0</td><td>0.0</td><td>0.0</td><td>0.0</td><td>0.0</td><td>0.0</td><td>0.0</td><td>0.0</td><td>0.0</td><td>0.0</td><td>0.0</td></tr><tr><td>0.0</td><td>0.0</td><td>0.0</td><td>0.0</td><td>0.0</td><td>0.0</td><td>0.0</td><td>0.0</td><td>0.0</td><td>0.0</td><td>0.0</td><td>0.0</td><td>0.0</td><td>0.0</td><td>1.0</td><td>0.0</td><td>0.0</td><td>0.0</td><td>0.0</td><td>0.0</td><td>0.0</td><td>0.0</td><td>0.0</td><td>0.0</td><td>0.0</td><td>0.0</td><td>0.0</td><td>0.0</td><td>0.0</td><td>0.0</td><td>0.0</td><td>0.0</td><td>0.0</td><td>0.0</td><td>0.0</td><td>0.0</td><td>0.0</td><td>&hellip;</td><td>0.0</td><td>0.0</td><td>0.0</td><td>0.0</td><td>0.0</td><td>0.0</td><td>1.0</td><td>0.0</td><td>0.0</td><td>0.0</td><td>0.0</td><td>0.0</td><td>0.0</td><td>0.0</td><td>0.0</td><td>0.0</td><td>0.0</td><td>0.0</td><td>0.0</td><td>0.0</td><td>0.0</td><td>0.0</td><td>0.0</td><td>0.0</td><td>0.0</td><td>0.0</td><td>0.0</td><td>0.0</td><td>0.0</td><td>0.0</td><td>0.0</td><td>0.0</td><td>0.0</td><td>0.0</td><td>1.0</td><td>0.0</td><td>0.0</td></tr><tr><td>0.0</td><td>0.0</td><td>0.0</td><td>0.0</td><td>0.0</td><td>0.0</td><td>0.0</td><td>0.0</td><td>0.0</td><td>0.0</td><td>0.0</td><td>0.0</td><td>0.0</td><td>0.0</td><td>1.0</td><td>0.0</td><td>0.0</td><td>0.0</td><td>0.0</td><td>0.0</td><td>0.0</td><td>0.0</td><td>0.0</td><td>0.0</td><td>0.0</td><td>0.0</td><td>0.0</td><td>0.0</td><td>0.0</td><td>0.0</td><td>0.0</td><td>0.0</td><td>0.0</td><td>0.0</td><td>0.0</td><td>0.0</td><td>0.0</td><td>&hellip;</td><td>0.0</td><td>0.0</td><td>0.0</td><td>0.0</td><td>0.0</td><td>0.0</td><td>1.0</td><td>0.0</td><td>0.0</td><td>0.0</td><td>0.0</td><td>0.0</td><td>0.0</td><td>0.0</td><td>0.0</td><td>0.0</td><td>0.0</td><td>0.0</td><td>0.0</td><td>0.0</td><td>0.0</td><td>0.0</td><td>0.0</td><td>0.0</td><td>0.0</td><td>0.0</td><td>0.0</td><td>0.0</td><td>0.0</td><td>0.0</td><td>0.0</td><td>0.0</td><td>0.0</td><td>0.0</td><td>1.0</td><td>0.0</td><td>0.0</td></tr><tr><td>&hellip;</td><td>&hellip;</td><td>&hellip;</td><td>&hellip;</td><td>&hellip;</td><td>&hellip;</td><td>&hellip;</td><td>&hellip;</td><td>&hellip;</td><td>&hellip;</td><td>&hellip;</td><td>&hellip;</td><td>&hellip;</td><td>&hellip;</td><td>&hellip;</td><td>&hellip;</td><td>&hellip;</td><td>&hellip;</td><td>&hellip;</td><td>&hellip;</td><td>&hellip;</td><td>&hellip;</td><td>&hellip;</td><td>&hellip;</td><td>&hellip;</td><td>&hellip;</td><td>&hellip;</td><td>&hellip;</td><td>&hellip;</td><td>&hellip;</td><td>&hellip;</td><td>&hellip;</td><td>&hellip;</td><td>&hellip;</td><td>&hellip;</td><td>&hellip;</td><td>&hellip;</td><td>&hellip;</td><td>&hellip;</td><td>&hellip;</td><td>&hellip;</td><td>&hellip;</td><td>&hellip;</td><td>&hellip;</td><td>&hellip;</td><td>&hellip;</td><td>&hellip;</td><td>&hellip;</td><td>&hellip;</td><td>&hellip;</td><td>&hellip;</td><td>&hellip;</td><td>&hellip;</td><td>&hellip;</td><td>&hellip;</td><td>&hellip;</td><td>&hellip;</td><td>&hellip;</td><td>&hellip;</td><td>&hellip;</td><td>&hellip;</td><td>&hellip;</td><td>&hellip;</td><td>&hellip;</td><td>&hellip;</td><td>&hellip;</td><td>&hellip;</td><td>&hellip;</td><td>&hellip;</td><td>&hellip;</td><td>&hellip;</td><td>&hellip;</td><td>&hellip;</td><td>&hellip;</td><td>&hellip;</td></tr><tr><td>0.0</td><td>0.0</td><td>0.0</td><td>0.0</td><td>0.0</td><td>0.0</td><td>1.0</td><td>0.0</td><td>0.0</td><td>0.0</td><td>0.0</td><td>0.0</td><td>0.0</td><td>0.0</td><td>0.0</td><td>0.0</td><td>0.0</td><td>0.0</td><td>0.0</td><td>0.0</td><td>0.0</td><td>0.0</td><td>0.0</td><td>0.0</td><td>0.0</td><td>0.0</td><td>0.0</td><td>0.0</td><td>0.0</td><td>0.0</td><td>0.0</td><td>0.0</td><td>0.0</td><td>0.0</td><td>0.0</td><td>0.0</td><td>0.0</td><td>&hellip;</td><td>0.0</td><td>1.0</td><td>0.0</td><td>0.0</td><td>0.0</td><td>0.0</td><td>0.0</td><td>0.0</td><td>0.0</td><td>0.0</td><td>0.0</td><td>0.0</td><td>0.0</td><td>0.0</td><td>0.0</td><td>0.0</td><td>1.0</td><td>0.0</td><td>0.0</td><td>0.0</td><td>0.0</td><td>0.0</td><td>0.0</td><td>0.0</td><td>0.0</td><td>0.0</td><td>0.0</td><td>0.0</td><td>0.0</td><td>0.0</td><td>0.0</td><td>0.0</td><td>0.0</td><td>0.0</td><td>0.0</td><td>0.0</td><td>0.0</td></tr><tr><td>0.0</td><td>0.0</td><td>0.0</td><td>0.0</td><td>0.0</td><td>0.0</td><td>0.0</td><td>0.0</td><td>0.0</td><td>0.0</td><td>0.0</td><td>0.0</td><td>0.0</td><td>0.0</td><td>0.0</td><td>0.0</td><td>0.0</td><td>0.0</td><td>0.0</td><td>0.0</td><td>0.0</td><td>0.0</td><td>0.0</td><td>0.0</td><td>0.0</td><td>0.0</td><td>0.0</td><td>0.0</td><td>0.0</td><td>0.0</td><td>0.0</td><td>0.0</td><td>0.0</td><td>0.0</td><td>0.0</td><td>0.0</td><td>0.0</td><td>&hellip;</td><td>0.0</td><td>0.0</td><td>0.0</td><td>1.0</td><td>0.0</td><td>0.0</td><td>0.0</td><td>0.0</td><td>0.0</td><td>0.0</td><td>0.0</td><td>0.0</td><td>0.0</td><td>0.0</td><td>0.0</td><td>0.0</td><td>0.0</td><td>0.0</td><td>0.0</td><td>0.0</td><td>0.0</td><td>1.0</td><td>0.0</td><td>0.0</td><td>0.0</td><td>0.0</td><td>0.0</td><td>0.0</td><td>0.0</td><td>0.0</td><td>0.0</td><td>0.0</td><td>0.0</td><td>0.0</td><td>0.0</td><td>0.0</td><td>0.0</td></tr><tr><td>0.0</td><td>0.0</td><td>0.0</td><td>0.0</td><td>0.0</td><td>0.0</td><td>0.0</td><td>0.0</td><td>0.0</td><td>0.0</td><td>0.0</td><td>0.0</td><td>0.0</td><td>0.0</td><td>0.0</td><td>0.0</td><td>0.0</td><td>0.0</td><td>0.0</td><td>0.0</td><td>0.0</td><td>0.0</td><td>0.0</td><td>0.0</td><td>0.0</td><td>0.0</td><td>0.0</td><td>0.0</td><td>0.0</td><td>0.0</td><td>0.0</td><td>0.0</td><td>0.0</td><td>0.0</td><td>0.0</td><td>0.0</td><td>0.0</td><td>&hellip;</td><td>0.0</td><td>0.0</td><td>0.0</td><td>0.0</td><td>0.0</td><td>0.0</td><td>0.0</td><td>0.0</td><td>0.0</td><td>0.0</td><td>0.0</td><td>0.0</td><td>0.0</td><td>0.0</td><td>0.0</td><td>0.0</td><td>0.0</td><td>0.0</td><td>0.0</td><td>0.0</td><td>0.0</td><td>0.0</td><td>1.0</td><td>0.0</td><td>0.0</td><td>0.0</td><td>0.0</td><td>0.0</td><td>0.0</td><td>0.0</td><td>0.0</td><td>0.0</td><td>0.0</td><td>0.0</td><td>0.0</td><td>0.0</td><td>0.0</td></tr><tr><td>0.0</td><td>0.0</td><td>0.0</td><td>0.0</td><td>0.0</td><td>0.0</td><td>0.0</td><td>0.0</td><td>0.0</td><td>0.0</td><td>0.0</td><td>0.0</td><td>0.0</td><td>0.0</td><td>0.0</td><td>0.0</td><td>0.0</td><td>0.0</td><td>0.0</td><td>0.0</td><td>0.0</td><td>0.0</td><td>0.0</td><td>0.0</td><td>0.0</td><td>0.0</td><td>0.0</td><td>0.0</td><td>0.0</td><td>0.0</td><td>0.0</td><td>0.0</td><td>0.0</td><td>0.0</td><td>0.0</td><td>0.0</td><td>0.0</td><td>&hellip;</td><td>0.0</td><td>0.0</td><td>0.0</td><td>0.0</td><td>0.0</td><td>0.0</td><td>0.0</td><td>0.0</td><td>0.0</td><td>0.0</td><td>0.0</td><td>0.0</td><td>0.0</td><td>0.0</td><td>0.0</td><td>0.0</td><td>0.0</td><td>0.0</td><td>0.0</td><td>0.0</td><td>0.0</td><td>0.0</td><td>1.0</td><td>0.0</td><td>0.0</td><td>0.0</td><td>0.0</td><td>0.0</td><td>0.0</td><td>0.0</td><td>0.0</td><td>0.0</td><td>0.0</td><td>0.0</td><td>0.0</td><td>0.0</td><td>0.0</td></tr><tr><td>0.0</td><td>0.0</td><td>0.0</td><td>0.0</td><td>0.0</td><td>0.0</td><td>0.0</td><td>0.0</td><td>0.0</td><td>0.0</td><td>0.0</td><td>0.0</td><td>0.0</td><td>0.0</td><td>0.0</td><td>0.0</td><td>0.0</td><td>0.0</td><td>0.0</td><td>0.0</td><td>0.0</td><td>0.0</td><td>0.0</td><td>0.0</td><td>0.0</td><td>0.0</td><td>0.0</td><td>0.0</td><td>0.0</td><td>0.0</td><td>0.0</td><td>0.0</td><td>0.0</td><td>0.0</td><td>0.0</td><td>0.0</td><td>0.0</td><td>&hellip;</td><td>0.0</td><td>0.0</td><td>0.0</td><td>0.0</td><td>0.0</td><td>0.0</td><td>0.0</td><td>1.0</td><td>0.0</td><td>0.0</td><td>0.0</td><td>0.0</td><td>0.0</td><td>0.0</td><td>0.0</td><td>0.0</td><td>0.0</td><td>0.0</td><td>0.0</td><td>0.0</td><td>0.0</td><td>0.0</td><td>0.0</td><td>0.0</td><td>0.0</td><td>0.0</td><td>0.0</td><td>0.0</td><td>0.0</td><td>1.0</td><td>0.0</td><td>0.0</td><td>0.0</td><td>0.0</td><td>0.0</td><td>0.0</td><td>0.0</td></tr></tbody></table></div>"
      ],
      "text/plain": [
       "shape: (52_102, 574)\n",
       "┌───────────┬───────────┬───────────┬───────────┬───┬───────────┬───────────┬───────────┬──────────┐\n",
       "│ product_t ┆ product_t ┆ product_t ┆ product_t ┆ … ┆ garment_g ┆ garment_g ┆ garment_g ┆ garment_ │\n",
       "│ ype_name_ ┆ ype_name_ ┆ ype_name_ ┆ ype_name_ ┆   ┆ roup_name ┆ roup_name ┆ roup_name ┆ group_na │\n",
       "│ Alice     ┆ Baby Bib  ┆ Backpack  ┆ Bag       ┆   ┆ _Trousers ┆ _Under-,  ┆ _Unknown  ┆ me_Woven │\n",
       "│ band      ┆ ---       ┆ ---       ┆ ---       ┆   ┆ De…       ┆ Nig…      ┆ ---       ┆ /Jerse…  │\n",
       "│ ---       ┆ f64       ┆ f64       ┆ f64       ┆   ┆ ---       ┆ ---       ┆ f64       ┆ ---      │\n",
       "│ f64       ┆           ┆           ┆           ┆   ┆ f64       ┆ f64       ┆           ┆ f64      │\n",
       "╞═══════════╪═══════════╪═══════════╪═══════════╪═══╪═══════════╪═══════════╪═══════════╪══════════╡\n",
       "│ 0.0       ┆ 0.0       ┆ 0.0       ┆ 0.0       ┆ … ┆ 0.0       ┆ 0.0       ┆ 0.0       ┆ 0.0      │\n",
       "│ 0.0       ┆ 0.0       ┆ 0.0       ┆ 0.0       ┆ … ┆ 0.0       ┆ 0.0       ┆ 0.0       ┆ 0.0      │\n",
       "│ 0.0       ┆ 0.0       ┆ 0.0       ┆ 0.0       ┆ … ┆ 0.0       ┆ 0.0       ┆ 0.0       ┆ 0.0      │\n",
       "│ 0.0       ┆ 0.0       ┆ 0.0       ┆ 0.0       ┆ … ┆ 0.0       ┆ 1.0       ┆ 0.0       ┆ 0.0      │\n",
       "│ 0.0       ┆ 0.0       ┆ 0.0       ┆ 0.0       ┆ … ┆ 0.0       ┆ 1.0       ┆ 0.0       ┆ 0.0      │\n",
       "│ …         ┆ …         ┆ …         ┆ …         ┆ … ┆ …         ┆ …         ┆ …         ┆ …        │\n",
       "│ 0.0       ┆ 0.0       ┆ 0.0       ┆ 0.0       ┆ … ┆ 0.0       ┆ 0.0       ┆ 0.0       ┆ 0.0      │\n",
       "│ 0.0       ┆ 0.0       ┆ 0.0       ┆ 0.0       ┆ … ┆ 0.0       ┆ 0.0       ┆ 0.0       ┆ 0.0      │\n",
       "│ 0.0       ┆ 0.0       ┆ 0.0       ┆ 0.0       ┆ … ┆ 0.0       ┆ 0.0       ┆ 0.0       ┆ 0.0      │\n",
       "│ 0.0       ┆ 0.0       ┆ 0.0       ┆ 0.0       ┆ … ┆ 0.0       ┆ 0.0       ┆ 0.0       ┆ 0.0      │\n",
       "│ 0.0       ┆ 0.0       ┆ 0.0       ┆ 0.0       ┆ … ┆ 0.0       ┆ 0.0       ┆ 0.0       ┆ 0.0      │\n",
       "└───────────┴───────────┴───────────┴───────────┴───┴───────────┴───────────┴───────────┴──────────┘"
      ]
     },
     "execution_count": 33,
     "metadata": {},
     "output_type": "execute_result"
    }
   ],
   "source": [
    "from sklearn.preprocessing import OneHotEncoder\n",
    "\n",
    "categorical_columns = [\n",
    "    \"product_type_name\", \n",
    "    \"product_group_name\", \n",
    "    \"graphical_appearance_name\", \n",
    "    \"colour_group_name\", \n",
    "    \"perceived_colour_value_name\", \n",
    "    \"perceived_colour_master_name\",\n",
    "    \"department_name\",\n",
    "    \"index_name\",\n",
    "    \"index_group_name\",\n",
    "    \"section_name\",\n",
    "    \"garment_group_name\"\n",
    "]\n",
    "\n",
    "encoder = OneHotEncoder()\n",
    "encoded_data = encoder.fit_transform(items_filtered.select(categorical_columns).to_pandas())\n",
    "encoded_df = pl.DataFrame(encoded_data.toarray(), schema=[f\"{col}_{cat}\" for col, cats in zip(categorical_columns, encoder.categories_) for cat in cats])\n",
    "encoded_df"
   ]
  },
  {
   "cell_type": "code",
   "execution_count": null,
   "metadata": {},
   "outputs": [],
   "source": []
  }
 ],
 "metadata": {
  "kernelspec": {
   "display_name": ".venv",
   "language": "python",
   "name": "python3"
  },
  "language_info": {
   "codemirror_mode": {
    "name": "ipython",
    "version": 3
   },
   "file_extension": ".py",
   "mimetype": "text/x-python",
   "name": "python",
   "nbconvert_exporter": "python",
   "pygments_lexer": "ipython3",
   "version": "3.10.14"
  }
 },
 "nbformat": 4,
 "nbformat_minor": 2
}
