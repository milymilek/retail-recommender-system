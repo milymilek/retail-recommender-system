{
 "cells": [
  {
   "cell_type": "code",
   "execution_count": 1,
   "metadata": {},
   "outputs": [],
   "source": [
    "%load_ext autoreload\n",
    "%autoreload 2\n",
    "\n",
    "import IPython\n",
    "from pathlib import Path\n",
    "import os\n",
    "locals = IPython.extract_module_locals() # type: ignore\n",
    "notebook_name = \"/\".join(locals[1][\"__vsc_ipynb_file__\"].split(\"/\"))\n",
    "os.chdir(Path(notebook_name).parent.parent)"
   ]
  },
  {
   "cell_type": "code",
   "execution_count": 46,
   "metadata": {},
   "outputs": [],
   "source": [
    "from pathlib import Path\n",
    "\n",
    "import numpy as np\n",
    "import polars as pl\n",
    "import torch\n",
    "from torch.utils.data import DataLoader, TensorDataset\n",
    "\n",
    "from retail_recommender_system.evaluation.prediction import recommend_k \n",
    "from retail_recommender_system.evaluation.metrics import precision_k, recall_k"
   ]
  },
  {
   "cell_type": "code",
   "execution_count": 5,
   "metadata": {},
   "outputs": [],
   "source": [
    "sample_submission = pl.read_csv(\".data/base/sample_submission.csv\")\n",
    "customer_id_map = pl.read_parquet(\".data/intermediate/customer_id_map.parquet\")\n",
    "article_id_map = pl.read_parquet(\".data/intermediate/article_id_map.parquet\")\n",
    "relations = pl.read_parquet(\".data/intermediate/relations.parquet\")"
   ]
  },
  {
   "cell_type": "code",
   "execution_count": 6,
   "metadata": {},
   "outputs": [],
   "source": [
    "# df_valid_ground_truth = relations \\\n",
    "#     .filter(\n",
    "#         pl.col(\"t_dat\").dt.year() == 2020, \n",
    "#         pl.col(\"t_dat\").dt.month() == 9, \n",
    "#         pl.col(\"t_dat\").dt.day() >= 15\n",
    "#     ) \\\n",
    "#     .select(\"customer_id\", \"article_id\") \\\n",
    "#     .group_by(\"customer_id\") \\\n",
    "#     .agg(pl.col(\"article_id\").cast(pl.String).alias(\"_prediction\")) \\\n",
    "#     .with_columns(prediction=pl.col(\"_prediction\").list.join(\" \")) \\\n",
    "#     .select(\"customer_id\", \"prediction\")\n",
    "df_valid_ground_truth = relations \\\n",
    "    .filter(\n",
    "        pl.col(\"t_dat\").dt.year() == 2020, \n",
    "        pl.col(\"t_dat\").dt.month() == 9, \n",
    "        pl.col(\"t_dat\").dt.day() >= 15\n",
    "    ) \\\n",
    "    .join(customer_id_map, on=\"customer_id\", how='left') \\\n",
    "    .join(article_id_map, on=\"article_id\", how='left') \\\n",
    "    .select(\"customer_id_map\", \"article_id_map\")"
   ]
  },
  {
   "cell_type": "code",
   "execution_count": null,
   "metadata": {},
   "outputs": [],
   "source": [
    "K = 12\n",
    "prediction_matrix = np.random.randint(low=0, high=len(article_id_map), size=(len(df_valid_ground_truth), K))\n",
    "\n",
    "# matrix_df = customer_id_map.select(\"customer_id_map\").with_columns(\n",
    "#     recommendations=pl.Series(prediction_matrix.astype(np.uint32))\n",
    "# )\n",
    "matrix_df = df_valid_ground_truth.select(pl.col(\"customer_id\").alias(\"customer_id_map\")).with_columns(\n",
    "    recommendations=pl.Series(prediction_matrix.astype(np.uint32))\n",
    ")\n",
    "matrix_df = (\n",
    "    matrix_df\n",
    "    .explode(\"recommendations\")\n",
    "    .join(article_id_map, left_on=\"recommendations\", right_on=\"article_id_map\")\n",
    "    .group_by(\"customer_id_map\")\n",
    "    .agg(pl.col(\"article_id\").cast(pl.String).alias(\"mapped_recommendations\"))\n",
    "    .with_columns(prediction=pl.col(\"mapped_recommendations\").list.join(\" \"))\n",
    "    .select(pl.col(\"customer_id_map\").alias(\"customer_id\"), \"prediction\")\n",
    ")"
   ]
  },
  {
   "cell_type": "code",
   "execution_count": null,
   "metadata": {},
   "outputs": [],
   "source": [
    "matrix_df"
   ]
  },
  {
   "cell_type": "code",
   "execution_count": null,
   "metadata": {},
   "outputs": [],
   "source": []
  },
  {
   "cell_type": "code",
   "execution_count": null,
   "metadata": {},
   "outputs": [],
   "source": []
  },
  {
   "cell_type": "code",
   "execution_count": 7,
   "metadata": {},
   "outputs": [
    {
     "data": {
      "text/html": [
       "<div><style>\n",
       ".dataframe > thead > tr,\n",
       ".dataframe > tbody > tr {\n",
       "  text-align: right;\n",
       "  white-space: pre-wrap;\n",
       "}\n",
       "</style>\n",
       "<small>shape: (266_364, 2)</small><table border=\"1\" class=\"dataframe\"><thead><tr><th>customer_id_map</th><th>article_id_map</th></tr><tr><td>u32</td><td>u32</td></tr></thead><tbody><tr><td>2</td><td>78503</td></tr><tr><td>90</td><td>97666</td></tr><tr><td>90</td><td>97667</td></tr><tr><td>173</td><td>80056</td></tr><tr><td>173</td><td>80056</td></tr><tr><td>&hellip;</td><td>&hellip;</td></tr><tr><td>1371691</td><td>104961</td></tr><tr><td>1371691</td><td>100629</td></tr><tr><td>1371721</td><td>104053</td></tr><tr><td>1371747</td><td>88521</td></tr><tr><td>1371960</td><td>101689</td></tr></tbody></table></div>"
      ],
      "text/plain": [
       "shape: (266_364, 2)\n",
       "┌─────────────────┬────────────────┐\n",
       "│ customer_id_map ┆ article_id_map │\n",
       "│ ---             ┆ ---            │\n",
       "│ u32             ┆ u32            │\n",
       "╞═════════════════╪════════════════╡\n",
       "│ 2               ┆ 78503          │\n",
       "│ 90              ┆ 97666          │\n",
       "│ 90              ┆ 97667          │\n",
       "│ 173             ┆ 80056          │\n",
       "│ 173             ┆ 80056          │\n",
       "│ …               ┆ …              │\n",
       "│ 1371691         ┆ 104961         │\n",
       "│ 1371691         ┆ 100629         │\n",
       "│ 1371721         ┆ 104053         │\n",
       "│ 1371747         ┆ 88521          │\n",
       "│ 1371960         ┆ 101689         │\n",
       "└─────────────────┴────────────────┘"
      ]
     },
     "execution_count": 7,
     "metadata": {},
     "output_type": "execute_result"
    }
   ],
   "source": [
    "df_valid_ground_truth"
   ]
  },
  {
   "cell_type": "code",
   "execution_count": 8,
   "metadata": {},
   "outputs": [],
   "source": [
    "n_cust = customer_id_map.select(\"customer_id_map\").n_unique()\n",
    "n_art = article_id_map.select(\"article_id_map\").n_unique()"
   ]
  },
  {
   "cell_type": "code",
   "execution_count": 33,
   "metadata": {},
   "outputs": [],
   "source": [
    "def collate_fn(batch):\n",
    "    return {\"u_id\": torch.tensor([b[0] for b in batch])}\n",
    "\n",
    "def recommend_udf_incrementing(batch: dict[str, torch.Tensor]) -> torch.Tensor:\n",
    "    return torch.arange(7, 0, -1).repeat(1, batch['u_id'].shape[0]).reshape(-1, 7)\n",
    "\n",
    "def recommend_udf_random(batch: dict[str, torch.Tensor], K=5) -> torch.Tensor:\n",
    "    return torch.randint(0, n_art, (batch['u_id'].shape[0], K)).to(torch.int32)\n",
    "\n",
    "K = 5\n",
    "loader = DataLoader(\n",
    "    TensorDataset(torch.arange(0, n_cust)), \n",
    "    batch_size=4096*8, \n",
    "    collate_fn=collate_fn\n",
    ")\n",
    "past_interactions = torch.from_numpy(df_valid_ground_truth.to_numpy()).to(torch.int32).T\n",
    "recommendations = recommend_k(recommend_udf_random, loader, K, past_interactions=None)"
   ]
  },
  {
   "cell_type": "code",
   "execution_count": 47,
   "metadata": {},
   "outputs": [
    {
     "data": {
      "text/plain": [
       "tensor(7.9490e-06)"
      ]
     },
     "execution_count": 47,
     "metadata": {},
     "output_type": "execute_result"
    }
   ],
   "source": [
    "precision_k(recommendations, past_interactions, k=K, n_items=n_art)"
   ]
  },
  {
   "cell_type": "code",
   "execution_count": 49,
   "metadata": {},
   "outputs": [
    {
     "data": {
      "text/plain": [
       "tensor(8.8322e-06)"
      ]
     },
     "execution_count": 49,
     "metadata": {},
     "output_type": "execute_result"
    }
   ],
   "source": [
    "recall_k(recommendations, past_interactions, k=K, n_items=n_art)"
   ]
  },
  {
   "cell_type": "code",
   "execution_count": 54,
   "metadata": {},
   "outputs": [],
   "source": [
    "from torch.utils.data import IterableDataset\n",
    "\n",
    "class EvalDataset(IterableDataset):\n",
    "    def __init__(self, n_users, n_items, user_batch_size):\n",
    "        super().__init__()\n",
    "        self.n_users = n_users\n",
    "        self.n_items = n_items\n",
    "\n",
    "        self.user_batch_size = user_batch_size\n",
    "\n",
    "    def get_batch_data(self, batch):\n",
    "        u_min, u_max = batch, min(batch + self.user_batch_size, self.n_users)\n",
    "        u_id = torch.repeat_interleave(torch.arange(u_min, u_max), self.n_items)\n",
    "        i_id = torch.arange(self.n_items).repeat(u_max - u_min)\n",
    "\n",
    "        return torch.column_stack((u_id, i_id))\n",
    "\n",
    "    def __len__(self):\n",
    "        return self.n_users // self.user_batch_size + 1\n",
    "\n",
    "    def __iter__(self):\n",
    "        for batch in range(0, self.n_users, self.user_batch_size):\n",
    "            yield self.get_batch_data(batch)"
   ]
  },
  {
   "cell_type": "code",
   "execution_count": 60,
   "metadata": {},
   "outputs": [],
   "source": [
    "it = iter(EvalDataset(5, 3, 1))"
   ]
  },
  {
   "cell_type": "code",
   "execution_count": 61,
   "metadata": {},
   "outputs": [
    {
     "data": {
      "text/plain": [
       "tensor([[0, 0],\n",
       "        [0, 1],\n",
       "        [0, 2]])"
      ]
     },
     "execution_count": 61,
     "metadata": {},
     "output_type": "execute_result"
    }
   ],
   "source": [
    "it.__next__()"
   ]
  },
  {
   "cell_type": "code",
   "execution_count": 62,
   "metadata": {},
   "outputs": [
    {
     "data": {
      "text/plain": [
       "tensor([[1, 0],\n",
       "        [1, 1],\n",
       "        [1, 2]])"
      ]
     },
     "execution_count": 62,
     "metadata": {},
     "output_type": "execute_result"
    }
   ],
   "source": [
    "it.__next__()"
   ]
  },
  {
   "cell_type": "code",
   "execution_count": 63,
   "metadata": {},
   "outputs": [
    {
     "data": {
      "text/plain": [
       "tensor([[2, 0],\n",
       "        [2, 1],\n",
       "        [2, 2]])"
      ]
     },
     "execution_count": 63,
     "metadata": {},
     "output_type": "execute_result"
    }
   ],
   "source": [
    "it.__next__()"
   ]
  },
  {
   "cell_type": "code",
   "execution_count": 64,
   "metadata": {},
   "outputs": [
    {
     "data": {
      "text/plain": [
       "tensor([[3, 0],\n",
       "        [3, 1],\n",
       "        [3, 2]])"
      ]
     },
     "execution_count": 64,
     "metadata": {},
     "output_type": "execute_result"
    }
   ],
   "source": [
    "it.__next__()"
   ]
  },
  {
   "cell_type": "code",
   "execution_count": 65,
   "metadata": {},
   "outputs": [
    {
     "data": {
      "text/plain": [
       "tensor([[4, 0],\n",
       "        [4, 1],\n",
       "        [4, 2]])"
      ]
     },
     "execution_count": 65,
     "metadata": {},
     "output_type": "execute_result"
    }
   ],
   "source": [
    "it.__next__()"
   ]
  },
  {
   "cell_type": "code",
   "execution_count": 66,
   "metadata": {},
   "outputs": [
    {
     "ename": "StopIteration",
     "evalue": "",
     "output_type": "error",
     "traceback": [
      "\u001b[0;31m---------------------------------------------------------------------------\u001b[0m",
      "\u001b[0;31mStopIteration\u001b[0m                             Traceback (most recent call last)",
      "Cell \u001b[0;32mIn[66], line 1\u001b[0m\n\u001b[0;32m----> 1\u001b[0m \u001b[43mit\u001b[49m\u001b[38;5;241;43m.\u001b[39;49m\u001b[38;5;21;43m__next__\u001b[39;49m\u001b[43m(\u001b[49m\u001b[43m)\u001b[49m\n",
      "\u001b[0;31mStopIteration\u001b[0m: "
     ]
    }
   ],
   "source": [
    "it.__next__()"
   ]
  },
  {
   "cell_type": "code",
   "execution_count": 50,
   "metadata": {},
   "outputs": [
    {
     "data": {
      "text/plain": [
       "tensor([0, 0, 0, 0, 0, 1, 1, 1, 1, 1, 2, 2, 2, 2, 2, 3, 3, 3, 3, 3, 4, 4, 4, 4,\n",
       "        4, 5, 5, 5, 5, 5, 6, 6, 6, 6, 6, 7, 7, 7, 7, 7, 8, 8, 8, 8, 8, 9, 9, 9,\n",
       "        9, 9])"
      ]
     },
     "execution_count": 50,
     "metadata": {},
     "output_type": "execute_result"
    }
   ],
   "source": [
    "torch.repeat_interleave(torch.arange(0, 10), 5)"
   ]
  },
  {
   "cell_type": "code",
   "execution_count": 53,
   "metadata": {},
   "outputs": [
    {
     "data": {
      "text/plain": [
       "tensor([0, 1, 2, 3, 4, 5, 6, 7, 8, 9, 0, 1, 2, 3, 4, 5, 6, 7, 8, 9, 0, 1, 2, 3,\n",
       "        4, 5, 6, 7, 8, 9, 0, 1, 2, 3, 4, 5, 6, 7, 8, 9, 0, 1, 2, 3, 4, 5, 6, 7,\n",
       "        8, 9])"
      ]
     },
     "execution_count": 53,
     "metadata": {},
     "output_type": "execute_result"
    }
   ],
   "source": [
    "torch.arange(10).repeat(5)"
   ]
  },
  {
   "cell_type": "code",
   "execution_count": null,
   "metadata": {},
   "outputs": [],
   "source": []
  }
 ],
 "metadata": {
  "kernelspec": {
   "display_name": ".venv",
   "language": "python",
   "name": "python3"
  },
  "language_info": {
   "codemirror_mode": {
    "name": "ipython",
    "version": 3
   },
   "file_extension": ".py",
   "mimetype": "text/x-python",
   "name": "python",
   "nbconvert_exporter": "python",
   "pygments_lexer": "ipython3",
   "version": "3.10.14"
  }
 },
 "nbformat": 4,
 "nbformat_minor": 2
}
