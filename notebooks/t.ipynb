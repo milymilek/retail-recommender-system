{
 "cells": [
  {
   "cell_type": "code",
   "execution_count": 1,
   "metadata": {},
   "outputs": [],
   "source": [
    "%load_ext autoreload\n",
    "%autoreload 2\n",
    "\n",
    "import IPython\n",
    "from pathlib import Path\n",
    "import os\n",
    "locals = IPython.extract_module_locals() # type: ignore\n",
    "notebook_name = \"/\".join(locals[1][\"__vsc_ipynb_file__\"].split(\"/\"))\n",
    "os.chdir(Path(notebook_name).parent.parent)"
   ]
  },
  {
   "cell_type": "code",
   "execution_count": 2,
   "metadata": {},
   "outputs": [],
   "source": [
    "import polars as pl\n",
    "from torch.utils.data import DataLoader\n",
    "from retail_recommender_system.models.deepfm import DeepFMDataset, collate_fn, DeepFM, DeepFMModelConfig, DeepFMEvalDataset\n",
    "from retail_recommender_system.data.loader import load_dataset, DataConfig"
   ]
  },
  {
   "cell_type": "code",
   "execution_count": 3,
   "metadata": {},
   "outputs": [],
   "source": [
    "dataset = load_dataset(DataConfig(dataset=\"hm\", prefix=\"frac_0_01\"))"
   ]
  },
  {
   "cell_type": "code",
   "execution_count": 4,
   "metadata": {},
   "outputs": [],
   "source": [
    "train_dataset = DeepFMDataset(\n",
    "    relations=dataset.data[\"relations\"],\n",
    "    users=dataset.data[\"users\"],\n",
    "    items=dataset.data[\"items\"],\n",
    "    neg_sampl=1,\n",
    ")"
   ]
  },
  {
   "cell_type": "code",
   "execution_count": 5,
   "metadata": {},
   "outputs": [
    {
     "data": {
      "text/plain": [
       "{'u_id': tensor([2895, 2895], dtype=torch.int32),\n",
       " 'i_id': tensor([12224, 25544], dtype=torch.int32),\n",
       " 'u_attr': tensor([[[ 0.,  0., 52.,  0.,  0.,  1.,  0.,  1.,  0.]],\n",
       " \n",
       "         [[ 0.,  0., 52.,  0.,  0.,  1.,  0.,  1.,  0.]]]),\n",
       " 'i_attr': tensor([[[0., 0., 0.,  ..., 0., 0., 0.]],\n",
       " \n",
       "         [[0., 0., 0.,  ..., 0., 0., 0.]]]),\n",
       " 'target': tensor([1., 0.])}"
      ]
     },
     "execution_count": 5,
     "metadata": {},
     "output_type": "execute_result"
    }
   ],
   "source": [
    "train_dataset[0]"
   ]
  },
  {
   "cell_type": "code",
   "execution_count": 6,
   "metadata": {},
   "outputs": [],
   "source": [
    "eval_dataset = DeepFMEvalDataset(\n",
    "    base_dataset=train_dataset,\n",
    "    user_batch_size=100)"
   ]
  },
  {
   "cell_type": "code",
   "execution_count": 7,
   "metadata": {},
   "outputs": [],
   "source": [
    "b = next(iter(eval_dataset))"
   ]
  },
  {
   "cell_type": "code",
   "execution_count": 8,
   "metadata": {},
   "outputs": [
    {
     "data": {
      "text/plain": [
       "{'u_id': tensor([ 0,  0,  0,  ..., 99, 99, 99], dtype=torch.int32),\n",
       " 'i_id': tensor([    0,     1,     2,  ..., 51802, 51803, 51804], dtype=torch.int32),\n",
       " 'u_attr': tensor([[ 0.,  0., 25.,  ...,  0.,  1.,  0.],\n",
       "         [ 0.,  0., 25.,  ...,  0.,  1.,  0.],\n",
       "         [ 0.,  0., 25.,  ...,  0.,  1.,  0.],\n",
       "         ...,\n",
       "         [ 0.,  0., 28.,  ...,  0.,  1.,  0.],\n",
       "         [ 0.,  0., 28.,  ...,  0.,  1.,  0.],\n",
       "         [ 0.,  0., 28.,  ...,  0.,  1.,  0.]]),\n",
       " 'i_attr': tensor([[0., 0., 0.,  ..., 0., 0., 0.],\n",
       "         [0., 0., 0.,  ..., 0., 0., 0.],\n",
       "         [0., 0., 0.,  ..., 0., 0., 0.],\n",
       "         ...,\n",
       "         [0., 0., 0.,  ..., 0., 0., 0.],\n",
       "         [0., 0., 0.,  ..., 0., 0., 0.],\n",
       "         [0., 0., 0.,  ..., 0., 0., 0.]]),\n",
       " 'target': tensor([0., 0., 0.,  ..., 0., 0., 0.])}"
      ]
     },
     "execution_count": 8,
     "metadata": {},
     "output_type": "execute_result"
    }
   ],
   "source": [
    "b"
   ]
  },
  {
   "cell_type": "code",
   "execution_count": null,
   "metadata": {},
   "outputs": [],
   "source": []
  },
  {
   "cell_type": "code",
   "execution_count": 28,
   "metadata": {},
   "outputs": [],
   "source": [
    "train_loader = DataLoader(train_dataset, batch_size=5, shuffle=True, collate_fn=collate_fn)"
   ]
  },
  {
   "cell_type": "code",
   "execution_count": null,
   "metadata": {},
   "outputs": [],
   "source": [
    "next(iter(train_loader))"
   ]
  },
  {
   "cell_type": "code",
   "execution_count": 38,
   "metadata": {},
   "outputs": [],
   "source": [
    "model = DeepFM(DeepFMModelConfig(\n",
    "    n_users=dataset.n_users, \n",
    "    n_items=dataset.n_items, \n",
    "    user_attr_size=train_dataset.user_attr_size,\n",
    "    item_attr_size=train_dataset.item_attr_size,\n",
    "    emb_size=32\n",
    "))"
   ]
  },
  {
   "cell_type": "code",
   "execution_count": null,
   "metadata": {},
   "outputs": [],
   "source": [
    "model"
   ]
  },
  {
   "cell_type": "code",
   "execution_count": null,
   "metadata": {},
   "outputs": [],
   "source": []
  }
 ],
 "metadata": {
  "kernelspec": {
   "display_name": ".venv",
   "language": "python",
   "name": "python3"
  },
  "language_info": {
   "codemirror_mode": {
    "name": "ipython",
    "version": 3
   },
   "file_extension": ".py",
   "mimetype": "text/x-python",
   "name": "python",
   "nbconvert_exporter": "python",
   "pygments_lexer": "ipython3",
   "version": "3.10.14"
  }
 },
 "nbformat": 4,
 "nbformat_minor": 2
}
