{
 "cells": [
  {
   "cell_type": "code",
   "execution_count": 1,
   "metadata": {},
   "outputs": [],
   "source": [
    "%load_ext autoreload\n",
    "%autoreload 2\n",
    "\n",
    "import IPython\n",
    "from pathlib import Path\n",
    "import os\n",
    "locals = IPython.extract_module_locals() # type: ignore\n",
    "notebook_name = \"/\".join(locals[1][\"__vsc_ipynb_file__\"].split(\"/\"))\n",
    "os.chdir(Path(notebook_name).parent.parent)"
   ]
  },
  {
   "cell_type": "code",
   "execution_count": 29,
   "metadata": {},
   "outputs": [],
   "source": [
    "from retail_recommender_system.utils import batch_dict_to_device, split_by_time, filter_set\n",
    "import polars as pl\n",
    "from torch.utils.data import DataLoader\n",
    "from datetime import datetime\n",
    "from retail_recommender_system.models.deepfm import *\n",
    "from retail_recommender_system.models.mf import *\n",
    "from retail_recommender_system.models.mfconv import *\n",
    "from retail_recommender_system.data.loader import *\n",
    "from retail_recommender_system.evaluation.metrics import *\n",
    "\n",
    "from retail_recommender_system.models.mfconv import collate_fn"
   ]
  },
  {
   "cell_type": "code",
   "execution_count": 19,
   "metadata": {},
   "outputs": [],
   "source": [
    "dataset_full = load_dataset(DataConfig(dataset=\"hm\", prefix=\"full\"))\n",
    "dataset_full.load()"
   ]
  },
  {
   "cell_type": "code",
   "execution_count": 5,
   "metadata": {},
   "outputs": [],
   "source": [
    "dataset = load_dataset(DataConfig(dataset=\"hm\", prefix=\"frac_0_001\"))\n",
    "dataset.load()"
   ]
  },
  {
   "cell_type": "code",
   "execution_count": 20,
   "metadata": {},
   "outputs": [],
   "source": [
    "train_relations, valid_relations = dataset_full.data[\"relations\"]"
   ]
  },
  {
   "cell_type": "code",
   "execution_count": 28,
   "metadata": {},
   "outputs": [
    {
     "data": {
      "text/html": [
       "<div><style>\n",
       ".dataframe > thead > tr,\n",
       ".dataframe > tbody > tr {\n",
       "  text-align: right;\n",
       "  white-space: pre-wrap;\n",
       "}\n",
       "</style>\n",
       "<small>shape: (21_550_579, 7)</small><table border=\"1\" class=\"dataframe\"><thead><tr><th>t_dat</th><th>article_id</th><th>price</th><th>sales_channel_id</th><th>customer_id</th><th>customer_id_map</th><th>article_id_map</th></tr><tr><td>date</td><td>i64</td><td>f64</td><td>i64</td><td>str</td><td>u32</td><td>u32</td></tr></thead><tbody><tr><td>2018-09-20</td><td>671505002</td><td>0.033881</td><td>1</td><td>&quot;aa21cef1a12574e4ecec4dacd2bf6e…</td><td>557823</td><td>40494</td></tr><tr><td>2018-09-20</td><td>659459003</td><td>0.084729</td><td>2</td><td>&quot;e788c7ef1a2258b63380221c9ed045…</td><td>758402</td><td>37403</td></tr><tr><td>2018-09-20</td><td>666448004</td><td>0.025407</td><td>1</td><td>&quot;b13bbd34befe78cf06091823b73a6b…</td><td>581059</td><td>39456</td></tr><tr><td>2018-09-20</td><td>655567001</td><td>0.059305</td><td>1</td><td>&quot;b13bbd34befe78cf06091823b73a6b…</td><td>581059</td><td>36406</td></tr><tr><td>2018-09-20</td><td>568601006</td><td>0.050831</td><td>1</td><td>&quot;10112edae095691f69a9d7d8c6eea7…</td><td>52511</td><td>15241</td></tr><tr><td>&hellip;</td><td>&hellip;</td><td>&hellip;</td><td>&hellip;</td><td>&hellip;</td><td>&hellip;</td><td>&hellip;</td></tr><tr><td>2020-02-10</td><td>708021001</td><td>0.016695</td><td>2</td><td>&quot;4c32261f31191c29eb66ad00807841…</td><td>249415</td><td>52203</td></tr><tr><td>2020-02-10</td><td>797078010</td><td>0.03339</td><td>2</td><td>&quot;4c32261f31191c29eb66ad00807841…</td><td>249415</td><td>74620</td></tr><tr><td>2020-02-10</td><td>849257001</td><td>0.041746</td><td>2</td><td>&quot;4c32261f31191c29eb66ad00807841…</td><td>249415</td><td>81809</td></tr><tr><td>2020-02-10</td><td>772773001</td><td>0.008339</td><td>2</td><td>&quot;4c32261f31191c29eb66ad00807841…</td><td>249415</td><td>69713</td></tr><tr><td>2020-02-10</td><td>769748005</td><td>0.050102</td><td>2</td><td>&quot;4c32261f31191c29eb66ad00807841…</td><td>249415</td><td>69081</td></tr></tbody></table></div>"
      ],
      "text/plain": [
       "shape: (21_550_579, 7)\n",
       "┌────────────┬────────────┬──────────┬───────────────┬───────────────┬──────────────┬──────────────┐\n",
       "│ t_dat      ┆ article_id ┆ price    ┆ sales_channel ┆ customer_id   ┆ customer_id_ ┆ article_id_m │\n",
       "│ ---        ┆ ---        ┆ ---      ┆ _id           ┆ ---           ┆ map          ┆ ap           │\n",
       "│ date       ┆ i64        ┆ f64      ┆ ---           ┆ str           ┆ ---          ┆ ---          │\n",
       "│            ┆            ┆          ┆ i64           ┆               ┆ u32          ┆ u32          │\n",
       "╞════════════╪════════════╪══════════╪═══════════════╪═══════════════╪══════════════╪══════════════╡\n",
       "│ 2018-09-20 ┆ 671505002  ┆ 0.033881 ┆ 1             ┆ aa21cef1a1257 ┆ 557823       ┆ 40494        │\n",
       "│            ┆            ┆          ┆               ┆ 4e4ecec4dacd2 ┆              ┆              │\n",
       "│            ┆            ┆          ┆               ┆ bf6e…         ┆              ┆              │\n",
       "│ 2018-09-20 ┆ 659459003  ┆ 0.084729 ┆ 2             ┆ e788c7ef1a225 ┆ 758402       ┆ 37403        │\n",
       "│            ┆            ┆          ┆               ┆ 8b63380221c9e ┆              ┆              │\n",
       "│            ┆            ┆          ┆               ┆ d045…         ┆              ┆              │\n",
       "│ 2018-09-20 ┆ 666448004  ┆ 0.025407 ┆ 1             ┆ b13bbd34befe7 ┆ 581059       ┆ 39456        │\n",
       "│            ┆            ┆          ┆               ┆ 8cf06091823b7 ┆              ┆              │\n",
       "│            ┆            ┆          ┆               ┆ 3a6b…         ┆              ┆              │\n",
       "│ 2018-09-20 ┆ 655567001  ┆ 0.059305 ┆ 1             ┆ b13bbd34befe7 ┆ 581059       ┆ 36406        │\n",
       "│            ┆            ┆          ┆               ┆ 8cf06091823b7 ┆              ┆              │\n",
       "│            ┆            ┆          ┆               ┆ 3a6b…         ┆              ┆              │\n",
       "│ 2018-09-20 ┆ 568601006  ┆ 0.050831 ┆ 1             ┆ 10112edae0956 ┆ 52511        ┆ 15241        │\n",
       "│            ┆            ┆          ┆               ┆ 91f69a9d7d8c6 ┆              ┆              │\n",
       "│            ┆            ┆          ┆               ┆ eea7…         ┆              ┆              │\n",
       "│ …          ┆ …          ┆ …        ┆ …             ┆ …             ┆ …            ┆ …            │\n",
       "│ 2020-02-10 ┆ 708021001  ┆ 0.016695 ┆ 2             ┆ 4c32261f31191 ┆ 249415       ┆ 52203        │\n",
       "│            ┆            ┆          ┆               ┆ c29eb66ad0080 ┆              ┆              │\n",
       "│            ┆            ┆          ┆               ┆ 7841…         ┆              ┆              │\n",
       "│ 2020-02-10 ┆ 797078010  ┆ 0.03339  ┆ 2             ┆ 4c32261f31191 ┆ 249415       ┆ 74620        │\n",
       "│            ┆            ┆          ┆               ┆ c29eb66ad0080 ┆              ┆              │\n",
       "│            ┆            ┆          ┆               ┆ 7841…         ┆              ┆              │\n",
       "│ 2020-02-10 ┆ 849257001  ┆ 0.041746 ┆ 2             ┆ 4c32261f31191 ┆ 249415       ┆ 81809        │\n",
       "│            ┆            ┆          ┆               ┆ c29eb66ad0080 ┆              ┆              │\n",
       "│            ┆            ┆          ┆               ┆ 7841…         ┆              ┆              │\n",
       "│ 2020-02-10 ┆ 772773001  ┆ 0.008339 ┆ 2             ┆ 4c32261f31191 ┆ 249415       ┆ 69713        │\n",
       "│            ┆            ┆          ┆               ┆ c29eb66ad0080 ┆              ┆              │\n",
       "│            ┆            ┆          ┆               ┆ 7841…         ┆              ┆              │\n",
       "│ 2020-02-10 ┆ 769748005  ┆ 0.050102 ┆ 2             ┆ 4c32261f31191 ┆ 249415       ┆ 69081        │\n",
       "│            ┆            ┆          ┆               ┆ c29eb66ad0080 ┆              ┆              │\n",
       "│            ┆            ┆          ┆               ┆ 7841…         ┆              ┆              │\n",
       "└────────────┴────────────┴──────────┴───────────────┴───────────────┴──────────────┴──────────────┘"
      ]
     },
     "execution_count": 28,
     "metadata": {},
     "output_type": "execute_result"
    }
   ],
   "source": [
    "train_relations"
   ]
  },
  {
   "cell_type": "code",
   "execution_count": 33,
   "metadata": {},
   "outputs": [
    {
     "name": "stdout",
     "output_type": "stream",
     "text": [
      "(190480, 7) (86074,) (10576,)\n"
     ]
    }
   ],
   "source": [
    "fltr = pl.concat([train_relations, valid_relations]).filter(pl.col(\"t_dat\") > pl.lit(datetime(2020, 9, 1)))\n",
    "\n",
    "train_cst = fltr[\"customer_id_map\"].unique().to_numpy().ravel()\n",
    "train_art = fltr[\"article_id_map\"].unique().to_numpy().ravel()\n",
    "print(fltr.shape, train_cst.shape, train_art.shape)"
   ]
  },
  {
   "cell_type": "code",
   "execution_count": 17,
   "metadata": {},
   "outputs": [
    {
     "ename": "AttributeError",
     "evalue": "'DataFrame' object has no attribute 'data'",
     "output_type": "error",
     "traceback": [
      "\u001b[0;31m---------------------------------------------------------------------------\u001b[0m",
      "\u001b[0;31mAttributeError\u001b[0m                            Traceback (most recent call last)",
      "Cell \u001b[0;32mIn[17], line 2\u001b[0m\n\u001b[1;32m      1\u001b[0m filtered_users \u001b[38;5;241m=\u001b[39m train_relations\u001b[38;5;241m.\u001b[39mgroup_by(\u001b[38;5;124m\"\u001b[39m\u001b[38;5;124mcustomer_id\u001b[39m\u001b[38;5;124m\"\u001b[39m)\u001b[38;5;241m.\u001b[39magg(pl\u001b[38;5;241m.\u001b[39mlen())\u001b[38;5;241m.\u001b[39mfilter(pl\u001b[38;5;241m.\u001b[39mcol(\u001b[38;5;124m\"\u001b[39m\u001b[38;5;124mlen\u001b[39m\u001b[38;5;124m\"\u001b[39m) \u001b[38;5;241m>\u001b[39m\u001b[38;5;241m=\u001b[39m \u001b[38;5;241m5\u001b[39m)\u001b[38;5;241m.\u001b[39mselect(\u001b[38;5;124m\"\u001b[39m\u001b[38;5;124mcustomer_id\u001b[39m\u001b[38;5;124m\"\u001b[39m)\n\u001b[0;32m----> 2\u001b[0m relations \u001b[38;5;241m=\u001b[39m \u001b[43mtrain_relations\u001b[49m\u001b[38;5;241;43m.\u001b[39;49m\u001b[43mdata\u001b[49m[\u001b[38;5;124m\"\u001b[39m\u001b[38;5;124mrelations\u001b[39m\u001b[38;5;124m\"\u001b[39m]\u001b[38;5;241m.\u001b[39mjoin(filtered_users, on\u001b[38;5;241m=\u001b[39m\u001b[38;5;124m\"\u001b[39m\u001b[38;5;124mcustomer_id\u001b[39m\u001b[38;5;124m\"\u001b[39m, how\u001b[38;5;241m=\u001b[39m\u001b[38;5;124m\"\u001b[39m\u001b[38;5;124mright\u001b[39m\u001b[38;5;124m\"\u001b[39m)\n\u001b[1;32m      4\u001b[0m train_relations\n",
      "\u001b[0;31mAttributeError\u001b[0m: 'DataFrame' object has no attribute 'data'"
     ]
    }
   ],
   "source": [
    "filtered_users = train_relations.group_by(\"customer_id\").agg(pl.len()).filter(pl.col(\"len\") >= 5).select(\"customer_id\")\n",
    "relations = train_relations.data[\"relations\"].join(filtered_users, on=\"customer_id\", how=\"right\")\n",
    "\n",
    "train_relations"
   ]
  },
  {
   "cell_type": "code",
   "execution_count": 6,
   "metadata": {},
   "outputs": [],
   "source": [
    "train_relations, valid_relations = dataset.data[\"relations\"]"
   ]
  },
  {
   "cell_type": "code",
   "execution_count": 10,
   "metadata": {},
   "outputs": [
    {
     "data": {
      "text/html": [
       "<div><style>\n",
       ".dataframe > thead > tr,\n",
       ".dataframe > tbody > tr {\n",
       "  text-align: right;\n",
       "  white-space: pre-wrap;\n",
       "}\n",
       "</style>\n",
       "<small>shape: (12_853,)</small><table border=\"1\" class=\"dataframe\"><thead><tr><th>article_id_map</th></tr><tr><td>i64</td></tr></thead><tbody><tr><td>0</td></tr><tr><td>1</td></tr><tr><td>2</td></tr><tr><td>3</td></tr><tr><td>4</td></tr><tr><td>&hellip;</td></tr><tr><td>12848</td></tr><tr><td>12849</td></tr><tr><td>12850</td></tr><tr><td>12851</td></tr><tr><td>12852</td></tr></tbody></table></div>"
      ],
      "text/plain": [
       "shape: (12_853,)\n",
       "Series: 'article_id_map' [i64]\n",
       "[\n",
       "\t0\n",
       "\t1\n",
       "\t2\n",
       "\t3\n",
       "\t4\n",
       "\t…\n",
       "\t12848\n",
       "\t12849\n",
       "\t12850\n",
       "\t12851\n",
       "\t12852\n",
       "]"
      ]
     },
     "execution_count": 10,
     "metadata": {},
     "output_type": "execute_result"
    }
   ],
   "source": [
    "train_relations['article_id_map'].unique()"
   ]
  },
  {
   "cell_type": "code",
   "execution_count": 7,
   "metadata": {},
   "outputs": [
    {
     "data": {
      "text/html": [
       "<div><style>\n",
       ".dataframe > thead > tr,\n",
       ".dataframe > tbody > tr {\n",
       "  text-align: right;\n",
       "  white-space: pre-wrap;\n",
       "}\n",
       "</style>\n",
       "<small>shape: (1_150, 8)</small><table border=\"1\" class=\"dataframe\"><thead><tr><th>customer_id</th><th>FN</th><th>Active</th><th>club_member_status</th><th>fashion_news_frequency</th><th>age</th><th>postal_code</th><th>customer_id_map</th></tr><tr><td>str</td><td>f64</td><td>f64</td><td>str</td><td>str</td><td>i64</td><td>str</td><td>i64</td></tr></thead><tbody><tr><td>&quot;00484a38eb52c45e130a5042121b66…</td><td>1.0</td><td>1.0</td><td>&quot;ACTIVE&quot;</td><td>&quot;Regularly&quot;</td><td>47</td><td>&quot;bc8a8baa2a64604800736e62f27f6b…</td><td>0</td></tr><tr><td>&quot;006214f74ffd95b48aadf987598c67…</td><td>1.0</td><td>1.0</td><td>&quot;ACTIVE&quot;</td><td>&quot;Regularly&quot;</td><td>23</td><td>&quot;c03914f412bcf4bf499b19ade9ba9f…</td><td>1</td></tr><tr><td>&quot;00641dddccb40cfd2254dae258361d…</td><td>null</td><td>null</td><td>&quot;ACTIVE&quot;</td><td>&quot;NONE&quot;</td><td>19</td><td>&quot;2c29ae653a9282cce4151bd87643c9…</td><td>2</td></tr><tr><td>&quot;008e907334dd0209017ffdf316bcfe…</td><td>1.0</td><td>1.0</td><td>&quot;ACTIVE&quot;</td><td>&quot;Regularly&quot;</td><td>39</td><td>&quot;fd9a937d4c024f1e0ba721d5563009…</td><td>3</td></tr><tr><td>&quot;00ad45cc77f793647d5531f3d6cd25…</td><td>null</td><td>null</td><td>&quot;ACTIVE&quot;</td><td>&quot;NONE&quot;</td><td>21</td><td>&quot;21004dc15a55e42444b8b334d100e0…</td><td>4</td></tr><tr><td>&hellip;</td><td>&hellip;</td><td>&hellip;</td><td>&hellip;</td><td>&hellip;</td><td>&hellip;</td><td>&hellip;</td><td>&hellip;</td></tr><tr><td>&quot;fe800124498091996dfa9e9e6c28c1…</td><td>null</td><td>null</td><td>&quot;ACTIVE&quot;</td><td>&quot;NONE&quot;</td><td>39</td><td>&quot;902cd966379071db2b727625adbf0f…</td><td>1145</td></tr><tr><td>&quot;fed63af5117f9fcbd7f437b917f862…</td><td>null</td><td>null</td><td>&quot;ACTIVE&quot;</td><td>&quot;NONE&quot;</td><td>22</td><td>&quot;63c79a463a5e44bf5461283dfabdec…</td><td>1146</td></tr><tr><td>&quot;ff381ddc2199f27f79ebc9cc28bcdf…</td><td>null</td><td>null</td><td>&quot;ACTIVE&quot;</td><td>&quot;NONE&quot;</td><td>null</td><td>&quot;06179c59b53b23a81838c8e9026a67…</td><td>1147</td></tr><tr><td>&quot;ff39f9874f8685ec27f561a08857ff…</td><td>1.0</td><td>1.0</td><td>&quot;ACTIVE&quot;</td><td>&quot;Regularly&quot;</td><td>40</td><td>&quot;11504b8a015209dfe35f8a21fd0a2e…</td><td>1148</td></tr><tr><td>&quot;ff57f892351224b8f2073d2152d324…</td><td>1.0</td><td>1.0</td><td>&quot;ACTIVE&quot;</td><td>&quot;Regularly&quot;</td><td>37</td><td>&quot;2c29ae653a9282cce4151bd87643c9…</td><td>1149</td></tr></tbody></table></div>"
      ],
      "text/plain": [
       "shape: (1_150, 8)\n",
       "┌───────────────┬──────┬────────┬──────────────┬──────────────┬──────┬──────────────┬──────────────┐\n",
       "│ customer_id   ┆ FN   ┆ Active ┆ club_member_ ┆ fashion_news ┆ age  ┆ postal_code  ┆ customer_id_ │\n",
       "│ ---           ┆ ---  ┆ ---    ┆ status       ┆ _frequency   ┆ ---  ┆ ---          ┆ map          │\n",
       "│ str           ┆ f64  ┆ f64    ┆ ---          ┆ ---          ┆ i64  ┆ str          ┆ ---          │\n",
       "│               ┆      ┆        ┆ str          ┆ str          ┆      ┆              ┆ i64          │\n",
       "╞═══════════════╪══════╪════════╪══════════════╪══════════════╪══════╪══════════════╪══════════════╡\n",
       "│ 00484a38eb52c ┆ 1.0  ┆ 1.0    ┆ ACTIVE       ┆ Regularly    ┆ 47   ┆ bc8a8baa2a64 ┆ 0            │\n",
       "│ 45e130a504212 ┆      ┆        ┆              ┆              ┆      ┆ 604800736e62 ┆              │\n",
       "│ 1b66…         ┆      ┆        ┆              ┆              ┆      ┆ f27f6b…      ┆              │\n",
       "│ 006214f74ffd9 ┆ 1.0  ┆ 1.0    ┆ ACTIVE       ┆ Regularly    ┆ 23   ┆ c03914f412bc ┆ 1            │\n",
       "│ 5b48aadf98759 ┆      ┆        ┆              ┆              ┆      ┆ f4bf499b19ad ┆              │\n",
       "│ 8c67…         ┆      ┆        ┆              ┆              ┆      ┆ e9ba9f…      ┆              │\n",
       "│ 00641dddccb40 ┆ null ┆ null   ┆ ACTIVE       ┆ NONE         ┆ 19   ┆ 2c29ae653a92 ┆ 2            │\n",
       "│ cfd2254dae258 ┆      ┆        ┆              ┆              ┆      ┆ 82cce4151bd8 ┆              │\n",
       "│ 361d…         ┆      ┆        ┆              ┆              ┆      ┆ 7643c9…      ┆              │\n",
       "│ 008e907334dd0 ┆ 1.0  ┆ 1.0    ┆ ACTIVE       ┆ Regularly    ┆ 39   ┆ fd9a937d4c02 ┆ 3            │\n",
       "│ 209017ffdf316 ┆      ┆        ┆              ┆              ┆      ┆ 4f1e0ba721d5 ┆              │\n",
       "│ bcfe…         ┆      ┆        ┆              ┆              ┆      ┆ 563009…      ┆              │\n",
       "│ 00ad45cc77f79 ┆ null ┆ null   ┆ ACTIVE       ┆ NONE         ┆ 21   ┆ 21004dc15a55 ┆ 4            │\n",
       "│ 3647d5531f3d6 ┆      ┆        ┆              ┆              ┆      ┆ e42444b8b334 ┆              │\n",
       "│ cd25…         ┆      ┆        ┆              ┆              ┆      ┆ d100e0…      ┆              │\n",
       "│ …             ┆ …    ┆ …      ┆ …            ┆ …            ┆ …    ┆ …            ┆ …            │\n",
       "│ fe80012449809 ┆ null ┆ null   ┆ ACTIVE       ┆ NONE         ┆ 39   ┆ 902cd9663790 ┆ 1145         │\n",
       "│ 1996dfa9e9e6c ┆      ┆        ┆              ┆              ┆      ┆ 71db2b727625 ┆              │\n",
       "│ 28c1…         ┆      ┆        ┆              ┆              ┆      ┆ adbf0f…      ┆              │\n",
       "│ fed63af5117f9 ┆ null ┆ null   ┆ ACTIVE       ┆ NONE         ┆ 22   ┆ 63c79a463a5e ┆ 1146         │\n",
       "│ fcbd7f437b917 ┆      ┆        ┆              ┆              ┆      ┆ 44bf5461283d ┆              │\n",
       "│ f862…         ┆      ┆        ┆              ┆              ┆      ┆ fabdec…      ┆              │\n",
       "│ ff381ddc2199f ┆ null ┆ null   ┆ ACTIVE       ┆ NONE         ┆ null ┆ 06179c59b53b ┆ 1147         │\n",
       "│ 27f79ebc9cc28 ┆      ┆        ┆              ┆              ┆      ┆ 23a81838c8e9 ┆              │\n",
       "│ bcdf…         ┆      ┆        ┆              ┆              ┆      ┆ 026a67…      ┆              │\n",
       "│ ff39f9874f868 ┆ 1.0  ┆ 1.0    ┆ ACTIVE       ┆ Regularly    ┆ 40   ┆ 11504b8a0152 ┆ 1148         │\n",
       "│ 5ec27f561a088 ┆      ┆        ┆              ┆              ┆      ┆ 09dfe35f8a21 ┆              │\n",
       "│ 57ff…         ┆      ┆        ┆              ┆              ┆      ┆ fd0a2e…      ┆              │\n",
       "│ ff57f89235122 ┆ 1.0  ┆ 1.0    ┆ ACTIVE       ┆ Regularly    ┆ 37   ┆ 2c29ae653a92 ┆ 1149         │\n",
       "│ 4b8f2073d2152 ┆      ┆        ┆              ┆              ┆      ┆ 82cce4151bd8 ┆              │\n",
       "│ d324…         ┆      ┆        ┆              ┆              ┆      ┆ 7643c9…      ┆              │\n",
       "└───────────────┴──────┴────────┴──────────────┴──────────────┴──────┴──────────────┴──────────────┘"
      ]
     },
     "execution_count": 7,
     "metadata": {},
     "output_type": "execute_result"
    }
   ],
   "source": [
    "dataset.data[\"users\"]"
   ]
  },
  {
   "cell_type": "code",
   "execution_count": 8,
   "metadata": {},
   "outputs": [
    {
     "data": {
      "text/html": [
       "<div><style>\n",
       ".dataframe > thead > tr,\n",
       ".dataframe > tbody > tr {\n",
       "  text-align: right;\n",
       "  white-space: pre-wrap;\n",
       "}\n",
       "</style>\n",
       "<small>shape: (12_853, 27)</small><table border=\"1\" class=\"dataframe\"><thead><tr><th>article_id</th><th>product_code</th><th>prod_name</th><th>product_type_no</th><th>product_type_name</th><th>product_group_name</th><th>graphical_appearance_no</th><th>graphical_appearance_name</th><th>colour_group_code</th><th>colour_group_name</th><th>perceived_colour_value_id</th><th>perceived_colour_value_name</th><th>perceived_colour_master_id</th><th>perceived_colour_master_name</th><th>department_no</th><th>department_name</th><th>index_code</th><th>index_name</th><th>index_group_no</th><th>index_group_name</th><th>section_no</th><th>section_name</th><th>garment_group_no</th><th>garment_group_name</th><th>detail_desc</th><th>article_id_map</th><th>path</th></tr><tr><td>i64</td><td>i64</td><td>str</td><td>i64</td><td>str</td><td>str</td><td>i64</td><td>str</td><td>i64</td><td>str</td><td>i64</td><td>str</td><td>i64</td><td>str</td><td>i64</td><td>str</td><td>str</td><td>str</td><td>i64</td><td>str</td><td>i64</td><td>str</td><td>i64</td><td>str</td><td>str</td><td>i64</td><td>str</td></tr></thead><tbody><tr><td>108775015</td><td>108775</td><td>&quot;Strap top&quot;</td><td>253</td><td>&quot;Vest top&quot;</td><td>&quot;Garment Upper body&quot;</td><td>1010016</td><td>&quot;Solid&quot;</td><td>9</td><td>&quot;Black&quot;</td><td>4</td><td>&quot;Dark&quot;</td><td>5</td><td>&quot;Black&quot;</td><td>1676</td><td>&quot;Jersey Basic&quot;</td><td>&quot;A&quot;</td><td>&quot;Ladieswear&quot;</td><td>1</td><td>&quot;Ladieswear&quot;</td><td>16</td><td>&quot;Womens Everyday Basics&quot;</td><td>1002</td><td>&quot;Jersey Basic&quot;</td><td>&quot;Jersey top with narrow shoulde…</td><td>0</td><td>&quot;.data/hm/base/images/010/01087…</td></tr><tr><td>108775044</td><td>108775</td><td>&quot;Strap top&quot;</td><td>253</td><td>&quot;Vest top&quot;</td><td>&quot;Garment Upper body&quot;</td><td>1010016</td><td>&quot;Solid&quot;</td><td>10</td><td>&quot;White&quot;</td><td>3</td><td>&quot;Light&quot;</td><td>9</td><td>&quot;White&quot;</td><td>1676</td><td>&quot;Jersey Basic&quot;</td><td>&quot;A&quot;</td><td>&quot;Ladieswear&quot;</td><td>1</td><td>&quot;Ladieswear&quot;</td><td>16</td><td>&quot;Womens Everyday Basics&quot;</td><td>1002</td><td>&quot;Jersey Basic&quot;</td><td>&quot;Jersey top with narrow shoulde…</td><td>1</td><td>&quot;.data/hm/base/images/010/01087…</td></tr><tr><td>108775051</td><td>108775</td><td>&quot;Strap top (1)&quot;</td><td>253</td><td>&quot;Vest top&quot;</td><td>&quot;Garment Upper body&quot;</td><td>1010017</td><td>&quot;Stripe&quot;</td><td>11</td><td>&quot;Off White&quot;</td><td>1</td><td>&quot;Dusty Light&quot;</td><td>9</td><td>&quot;White&quot;</td><td>1676</td><td>&quot;Jersey Basic&quot;</td><td>&quot;A&quot;</td><td>&quot;Ladieswear&quot;</td><td>1</td><td>&quot;Ladieswear&quot;</td><td>16</td><td>&quot;Womens Everyday Basics&quot;</td><td>1002</td><td>&quot;Jersey Basic&quot;</td><td>&quot;Jersey top with narrow shoulde…</td><td>2</td><td>&quot;.data/hm/base/images/010/01087…</td></tr><tr><td>110065001</td><td>110065</td><td>&quot;OP T-shirt (Idro)&quot;</td><td>306</td><td>&quot;Bra&quot;</td><td>&quot;Underwear&quot;</td><td>1010016</td><td>&quot;Solid&quot;</td><td>9</td><td>&quot;Black&quot;</td><td>4</td><td>&quot;Dark&quot;</td><td>5</td><td>&quot;Black&quot;</td><td>1339</td><td>&quot;Clean Lingerie&quot;</td><td>&quot;B&quot;</td><td>&quot;Lingeries/Tights&quot;</td><td>1</td><td>&quot;Ladieswear&quot;</td><td>61</td><td>&quot;Womens Lingerie&quot;</td><td>1017</td><td>&quot;Under-, Nightwear&quot;</td><td>&quot;Microfibre T-shirt bra with un…</td><td>3</td><td>&quot;.data/hm/base/images/011/01100…</td></tr><tr><td>111565001</td><td>111565</td><td>&quot;20 den 1p Stockings&quot;</td><td>304</td><td>&quot;Underwear Tights&quot;</td><td>&quot;Socks &amp; Tights&quot;</td><td>1010016</td><td>&quot;Solid&quot;</td><td>9</td><td>&quot;Black&quot;</td><td>4</td><td>&quot;Dark&quot;</td><td>5</td><td>&quot;Black&quot;</td><td>3608</td><td>&quot;Tights basic&quot;</td><td>&quot;B&quot;</td><td>&quot;Lingeries/Tights&quot;</td><td>1</td><td>&quot;Ladieswear&quot;</td><td>62</td><td>&quot;Womens Nightwear, Socks &amp; Tigh&quot;</td><td>1021</td><td>&quot;Socks and Tights&quot;</td><td>&quot;Semi shiny nylon stockings wit…</td><td>4</td><td>&quot;.data/hm/base/images/011/01115…</td></tr><tr><td>&hellip;</td><td>&hellip;</td><td>&hellip;</td><td>&hellip;</td><td>&hellip;</td><td>&hellip;</td><td>&hellip;</td><td>&hellip;</td><td>&hellip;</td><td>&hellip;</td><td>&hellip;</td><td>&hellip;</td><td>&hellip;</td><td>&hellip;</td><td>&hellip;</td><td>&hellip;</td><td>&hellip;</td><td>&hellip;</td><td>&hellip;</td><td>&hellip;</td><td>&hellip;</td><td>&hellip;</td><td>&hellip;</td><td>&hellip;</td><td>&hellip;</td><td>&hellip;</td><td>&hellip;</td></tr><tr><td>870282001</td><td>870282</td><td>&quot;Junia section speed&quot;</td><td>259</td><td>&quot;Shirt&quot;</td><td>&quot;Garment Upper body&quot;</td><td>1010016</td><td>&quot;Solid&quot;</td><td>52</td><td>&quot;Pink&quot;</td><td>7</td><td>&quot;Medium&quot;</td><td>4</td><td>&quot;Pink&quot;</td><td>1522</td><td>&quot;Blouse&quot;</td><td>&quot;A&quot;</td><td>&quot;Ladieswear&quot;</td><td>1</td><td>&quot;Ladieswear&quot;</td><td>15</td><td>&quot;Womens Everyday Collection&quot;</td><td>1010</td><td>&quot;Blouses&quot;</td><td>&quot;Straight-cut blouse in a crisp…</td><td>12848</td><td>&quot;.data/hm/base/images/087/08702…</td></tr><tr><td>870804001</td><td>870804</td><td>&quot;Shadow shacket&quot;</td><td>262</td><td>&quot;Jacket&quot;</td><td>&quot;Garment Upper body&quot;</td><td>1010004</td><td>&quot;Check&quot;</td><td>14</td><td>&quot;Dark Beige&quot;</td><td>4</td><td>&quot;Dark&quot;</td><td>11</td><td>&quot;Beige&quot;</td><td>1244</td><td>&quot;Outdoor/Blazers&quot;</td><td>&quot;D&quot;</td><td>&quot;Divided&quot;</td><td>2</td><td>&quot;Divided&quot;</td><td>53</td><td>&quot;Divided Collection&quot;</td><td>1007</td><td>&quot;Outdoor&quot;</td><td>&quot;Shirt jacket in woven fabric w…</td><td>12849</td><td>&quot;.data/hm/base/images/087/08708…</td></tr><tr><td>873915001</td><td>873915</td><td>&quot;New Pluto Dress&quot;</td><td>265</td><td>&quot;Dress&quot;</td><td>&quot;Garment Full body&quot;</td><td>1010016</td><td>&quot;Solid&quot;</td><td>9</td><td>&quot;Black&quot;</td><td>4</td><td>&quot;Dark&quot;</td><td>5</td><td>&quot;Black&quot;</td><td>1343</td><td>&quot;Projects Dresses&quot;</td><td>&quot;D&quot;</td><td>&quot;Divided&quot;</td><td>2</td><td>&quot;Divided&quot;</td><td>50</td><td>&quot;Divided Projects&quot;</td><td>1013</td><td>&quot;Dresses Ladies&quot;</td><td>&quot;Calf-length dress in crinkled …</td><td>12850</td><td>&quot;.data/hm/base/images/087/08739…</td></tr><tr><td>878002001</td><td>878002</td><td>&quot;Rue LS (fast buy)&quot;</td><td>254</td><td>&quot;Top&quot;</td><td>&quot;Garment Upper body&quot;</td><td>1010016</td><td>&quot;Solid&quot;</td><td>9</td><td>&quot;Black&quot;</td><td>4</td><td>&quot;Dark&quot;</td><td>5</td><td>&quot;Black&quot;</td><td>1640</td><td>&quot;Tops Fancy Jersey&quot;</td><td>&quot;D&quot;</td><td>&quot;Divided&quot;</td><td>2</td><td>&quot;Divided&quot;</td><td>53</td><td>&quot;Divided Collection&quot;</td><td>1005</td><td>&quot;Jersey Fancy&quot;</td><td>&quot;Fitted, long-sleeved top in me…</td><td>12851</td><td>&quot;.data/hm/base/images/087/08780…</td></tr><tr><td>882840001</td><td>882840</td><td>&quot;Kamomill&quot;</td><td>254</td><td>&quot;Top&quot;</td><td>&quot;Garment Upper body&quot;</td><td>1010016</td><td>&quot;Solid&quot;</td><td>9</td><td>&quot;Black&quot;</td><td>4</td><td>&quot;Dark&quot;</td><td>5</td><td>&quot;Black&quot;</td><td>1636</td><td>&quot;Jersey fancy&quot;</td><td>&quot;A&quot;</td><td>&quot;Ladieswear&quot;</td><td>1</td><td>&quot;Ladieswear&quot;</td><td>15</td><td>&quot;Womens Everyday Collection&quot;</td><td>1005</td><td>&quot;Jersey Fancy&quot;</td><td>&quot;Long-sleeved top in ribbed jer…</td><td>12852</td><td>&quot;.data/hm/base/images/088/08828…</td></tr></tbody></table></div>"
      ],
      "text/plain": [
       "shape: (12_853, 27)\n",
       "┌───────────┬───────────┬───────────┬───────────┬───┬───────────┬───────────┬───────────┬──────────┐\n",
       "│ article_i ┆ product_c ┆ prod_name ┆ product_t ┆ … ┆ garment_g ┆ detail_de ┆ article_i ┆ path     │\n",
       "│ d         ┆ ode       ┆ ---       ┆ ype_no    ┆   ┆ roup_name ┆ sc        ┆ d_map     ┆ ---      │\n",
       "│ ---       ┆ ---       ┆ str       ┆ ---       ┆   ┆ ---       ┆ ---       ┆ ---       ┆ str      │\n",
       "│ i64       ┆ i64       ┆           ┆ i64       ┆   ┆ str       ┆ str       ┆ i64       ┆          │\n",
       "╞═══════════╪═══════════╪═══════════╪═══════════╪═══╪═══════════╪═══════════╪═══════════╪══════════╡\n",
       "│ 108775015 ┆ 108775    ┆ Strap top ┆ 253       ┆ … ┆ Jersey    ┆ Jersey    ┆ 0         ┆ .data/hm │\n",
       "│           ┆           ┆           ┆           ┆   ┆ Basic     ┆ top with  ┆           ┆ /base/im │\n",
       "│           ┆           ┆           ┆           ┆   ┆           ┆ narrow    ┆           ┆ ages/010 │\n",
       "│           ┆           ┆           ┆           ┆   ┆           ┆ shoulde…  ┆           ┆ /01087…  │\n",
       "│ 108775044 ┆ 108775    ┆ Strap top ┆ 253       ┆ … ┆ Jersey    ┆ Jersey    ┆ 1         ┆ .data/hm │\n",
       "│           ┆           ┆           ┆           ┆   ┆ Basic     ┆ top with  ┆           ┆ /base/im │\n",
       "│           ┆           ┆           ┆           ┆   ┆           ┆ narrow    ┆           ┆ ages/010 │\n",
       "│           ┆           ┆           ┆           ┆   ┆           ┆ shoulde…  ┆           ┆ /01087…  │\n",
       "│ 108775051 ┆ 108775    ┆ Strap top ┆ 253       ┆ … ┆ Jersey    ┆ Jersey    ┆ 2         ┆ .data/hm │\n",
       "│           ┆           ┆ (1)       ┆           ┆   ┆ Basic     ┆ top with  ┆           ┆ /base/im │\n",
       "│           ┆           ┆           ┆           ┆   ┆           ┆ narrow    ┆           ┆ ages/010 │\n",
       "│           ┆           ┆           ┆           ┆   ┆           ┆ shoulde…  ┆           ┆ /01087…  │\n",
       "│ 110065001 ┆ 110065    ┆ OP        ┆ 306       ┆ … ┆ Under-,   ┆ Microfibr ┆ 3         ┆ .data/hm │\n",
       "│           ┆           ┆ T-shirt   ┆           ┆   ┆ Nightwear ┆ e T-shirt ┆           ┆ /base/im │\n",
       "│           ┆           ┆ (Idro)    ┆           ┆   ┆           ┆ bra with  ┆           ┆ ages/011 │\n",
       "│           ┆           ┆           ┆           ┆   ┆           ┆ un…       ┆           ┆ /01100…  │\n",
       "│ 111565001 ┆ 111565    ┆ 20 den 1p ┆ 304       ┆ … ┆ Socks and ┆ Semi      ┆ 4         ┆ .data/hm │\n",
       "│           ┆           ┆ Stockings ┆           ┆   ┆ Tights    ┆ shiny     ┆           ┆ /base/im │\n",
       "│           ┆           ┆           ┆           ┆   ┆           ┆ nylon     ┆           ┆ ages/011 │\n",
       "│           ┆           ┆           ┆           ┆   ┆           ┆ stockings ┆           ┆ /01115…  │\n",
       "│           ┆           ┆           ┆           ┆   ┆           ┆ wit…      ┆           ┆          │\n",
       "│ …         ┆ …         ┆ …         ┆ …         ┆ … ┆ …         ┆ …         ┆ …         ┆ …        │\n",
       "│ 870282001 ┆ 870282    ┆ Junia     ┆ 259       ┆ … ┆ Blouses   ┆ Straight- ┆ 12848     ┆ .data/hm │\n",
       "│           ┆           ┆ section   ┆           ┆   ┆           ┆ cut       ┆           ┆ /base/im │\n",
       "│           ┆           ┆ speed     ┆           ┆   ┆           ┆ blouse in ┆           ┆ ages/087 │\n",
       "│           ┆           ┆           ┆           ┆   ┆           ┆ a crisp…  ┆           ┆ /08702…  │\n",
       "│ 870804001 ┆ 870804    ┆ Shadow    ┆ 262       ┆ … ┆ Outdoor   ┆ Shirt     ┆ 12849     ┆ .data/hm │\n",
       "│           ┆           ┆ shacket   ┆           ┆   ┆           ┆ jacket in ┆           ┆ /base/im │\n",
       "│           ┆           ┆           ┆           ┆   ┆           ┆ woven     ┆           ┆ ages/087 │\n",
       "│           ┆           ┆           ┆           ┆   ┆           ┆ fabric w… ┆           ┆ /08708…  │\n",
       "│ 873915001 ┆ 873915    ┆ New Pluto ┆ 265       ┆ … ┆ Dresses   ┆ Calf-leng ┆ 12850     ┆ .data/hm │\n",
       "│           ┆           ┆ Dress     ┆           ┆   ┆ Ladies    ┆ th dress  ┆           ┆ /base/im │\n",
       "│           ┆           ┆           ┆           ┆   ┆           ┆ in        ┆           ┆ ages/087 │\n",
       "│           ┆           ┆           ┆           ┆   ┆           ┆ crinkled  ┆           ┆ /08739…  │\n",
       "│           ┆           ┆           ┆           ┆   ┆           ┆ …         ┆           ┆          │\n",
       "│ 878002001 ┆ 878002    ┆ Rue LS    ┆ 254       ┆ … ┆ Jersey    ┆ Fitted,   ┆ 12851     ┆ .data/hm │\n",
       "│           ┆           ┆ (fast     ┆           ┆   ┆ Fancy     ┆ long-slee ┆           ┆ /base/im │\n",
       "│           ┆           ┆ buy)      ┆           ┆   ┆           ┆ ved top   ┆           ┆ ages/087 │\n",
       "│           ┆           ┆           ┆           ┆   ┆           ┆ in me…    ┆           ┆ /08780…  │\n",
       "│ 882840001 ┆ 882840    ┆ Kamomill  ┆ 254       ┆ … ┆ Jersey    ┆ Long-slee ┆ 12852     ┆ .data/hm │\n",
       "│           ┆           ┆           ┆           ┆   ┆ Fancy     ┆ ved top   ┆           ┆ /base/im │\n",
       "│           ┆           ┆           ┆           ┆   ┆           ┆ in ribbed ┆           ┆ ages/088 │\n",
       "│           ┆           ┆           ┆           ┆   ┆           ┆ jer…      ┆           ┆ /08828…  │\n",
       "└───────────┴───────────┴───────────┴───────────┴───┴───────────┴───────────┴───────────┴──────────┘"
      ]
     },
     "execution_count": 8,
     "metadata": {},
     "output_type": "execute_result"
    }
   ],
   "source": [
    "dataset.data[\"items\"]"
   ]
  },
  {
   "cell_type": "code",
   "execution_count": null,
   "metadata": {},
   "outputs": [],
   "source": [
    "train_relations[\"customer_i\"]"
   ]
  },
  {
   "cell_type": "code",
   "execution_count": null,
   "metadata": {},
   "outputs": [],
   "source": [
    "valid_relations"
   ]
  },
  {
   "cell_type": "code",
   "execution_count": null,
   "metadata": {},
   "outputs": [],
   "source": [
    "train_cst = train_relations.select(\"customer_id_map\").unique().to_numpy().ravel()\n",
    "train_art = train_relations.select(\"article_id_map\").unique().to_numpy().ravel()\n",
    "print(train_cst.shape, train_art.shape)\n",
    "\n",
    "valid_cst = valid_relations.select(\"customer_id_map\").unique().to_numpy().ravel()\n",
    "valid_art = valid_relations.select(\"article_id_map\").unique().to_numpy().ravel()\n",
    "print(valid_cst.shape, valid_art.shape)\n",
    "\n",
    "import numpy as np\n",
    "print(np.setdiff1d(valid_cst, train_cst).shape)\n",
    "print(np.setdiff1d(valid_art, train_art).shape)"
   ]
  },
  {
   "cell_type": "code",
   "execution_count": null,
   "metadata": {},
   "outputs": [],
   "source": [
    "mfconv_dataset = MFConvDataset(\n",
    "    relations=dataset.data[\"relations\"],\n",
    "    users=dataset.data[\"users\"],\n",
    "    items=dataset.data[\"items\"],\n",
    "    namings=dataset.namings,\n",
    "    neg_sampl=0,\n",
    "    images=Path(\".data/hm/intermediate/frac_0_01/images.pt\")\n",
    ")\n",
    "mfconv_loader = DataLoader(mfconv_dataset, batch_size=256, shuffle=False, collate_fn=collate_fn)\n",
    "\n",
    "model = MFConv(\n",
    "    MFConvModelConfig(n_users=dataset.n_users, n_items=dataset.n_items, emb_size=16, )\n",
    ")\n",
    "#eval_dataset = MFConvEvalDataset(base_dataset=val_dataset, user_batch_size=5)"
   ]
  },
  {
   "cell_type": "code",
   "execution_count": 3,
   "metadata": {},
   "outputs": [],
   "source": [
    "from torch.utils.data import DataLoader, TensorDataset\n",
    "import torch"
   ]
  },
  {
   "cell_type": "code",
   "execution_count": null,
   "metadata": {},
   "outputs": [],
   "source": [
    "def cfn(batch):\n",
    "    return torch.tensor([b[0] for b in batch])\n",
    "\n",
    "dl = DataLoader(TensorDataset(torch.arange(10)), batch_size=3, shuffle=False, drop_last=False, collate_fn=cfn)\n",
    "iter_ = iter(dl)\n",
    "print(next(iter_))"
   ]
  },
  {
   "cell_type": "code",
   "execution_count": null,
   "metadata": {},
   "outputs": [],
   "source": [
    "next(iter_)[0]"
   ]
  },
  {
   "cell_type": "code",
   "execution_count": null,
   "metadata": {},
   "outputs": [],
   "source": [
    "next(iter_)"
   ]
  },
  {
   "cell_type": "code",
   "execution_count": 42,
   "metadata": {},
   "outputs": [],
   "source": [
    "model.precompute_img_embeddings(mfconv_dataset._images)"
   ]
  },
  {
   "cell_type": "code",
   "execution_count": null,
   "metadata": {},
   "outputs": [],
   "source": [
    "model.recommend(torch.tensor([0, 1, 2, 3, 4]))"
   ]
  },
  {
   "cell_type": "code",
   "execution_count": null,
   "metadata": {},
   "outputs": [],
   "source": [
    "#tensor_imgs = mfconv_dataset.read_imgs(mfconv_dataset.items_set(), tqdm_=True)"
   ]
  },
  {
   "cell_type": "code",
   "execution_count": 17,
   "metadata": {},
   "outputs": [],
   "source": [
    "#torch.save(tensor_imgs, \".data/hm/intermediate/frac_0_01/images.pt\")"
   ]
  },
  {
   "cell_type": "code",
   "execution_count": null,
   "metadata": {},
   "outputs": [],
   "source": []
  },
  {
   "cell_type": "code",
   "execution_count": null,
   "metadata": {},
   "outputs": [],
   "source": [
    "from tqdm import tqdm\n",
    "\n",
    "for i in tqdm(mfconv_loader):\n",
    "    print(i[\"i_img\"].shape)"
   ]
  },
  {
   "cell_type": "code",
   "execution_count": 60,
   "metadata": {},
   "outputs": [],
   "source": [
    "b = next(iter(val_loader))"
   ]
  },
  {
   "cell_type": "code",
   "execution_count": null,
   "metadata": {},
   "outputs": [],
   "source": [
    "model.conv(b[\"i_img\"])"
   ]
  },
  {
   "cell_type": "code",
   "execution_count": null,
   "metadata": {},
   "outputs": [],
   "source": [
    "model(b)"
   ]
  },
  {
   "cell_type": "code",
   "execution_count": null,
   "metadata": {},
   "outputs": [],
   "source": [
    "val_dataset[0][\"i_img\"][0].shape"
   ]
  },
  {
   "cell_type": "code",
   "execution_count": 101,
   "metadata": {},
   "outputs": [],
   "source": [
    "from PIL import Image\n",
    "\n",
    "# Replace 'path_to_image' with the actual path to your image file\n",
    "image_path = '.data/hm/base/images/061/0616100001.jpg'\n",
    "image = Image.open(image_path)\n",
    "image.show()"
   ]
  },
  {
   "cell_type": "code",
   "execution_count": null,
   "metadata": {},
   "outputs": [],
   "source": [
    "import numpy as np\n",
    "np_image = np.array(image)\n",
    "np_stack_image = np.stack((np_image,)*3, axis=-1)\n",
    "plt.imshow(np.array(np_stack_image))"
   ]
  },
  {
   "cell_type": "code",
   "execution_count": null,
   "metadata": {},
   "outputs": [],
   "source": [
    "from PIL import Image\n",
    "import torch\n",
    "import numpy as np\n",
    "\n",
    "import matplotlib.pyplot as plt\n",
    "\n",
    "fig, ax = plt.subplots(1, 10, figsize=(20, 5))\n",
    "for i in range(10):\n",
    "    ax[i].imshow(val_dataset[i][\"i_img\"][0].permute(1, 2, 0))\n",
    "    ax[i].axis('off')\n",
    "plt.show()"
   ]
  },
  {
   "cell_type": "code",
   "execution_count": 97,
   "metadata": {},
   "outputs": [],
   "source": [
    "train_dataset = MFConvDataset(\n",
    "    relations=dataset.data[\"relations\"],\n",
    "    users=dataset.data[\"users\"],\n",
    "    items=dataset.data[\"items\"],\n",
    "    namings=dataset.namings,\n",
    "    neg_sampl=1,\n",
    ")"
   ]
  },
  {
   "cell_type": "code",
   "execution_count": 98,
   "metadata": {},
   "outputs": [],
   "source": [
    "loader = DataLoader(train_dataset, batch_size=3, shuffle=True, collate_fn=collate_fn)"
   ]
  },
  {
   "cell_type": "code",
   "execution_count": 99,
   "metadata": {},
   "outputs": [],
   "source": [
    "iter_loader = iter(loader)"
   ]
  },
  {
   "cell_type": "code",
   "execution_count": null,
   "metadata": {},
   "outputs": [],
   "source": [
    "model = MFConv(MFConvModelConfig(\n",
    "    n_users=dataset.n_users, \n",
    "    n_items=dataset.n_items,\n",
    "    emb_size=8\n",
    "))\n",
    "model(next(iter_loader))"
   ]
  },
  {
   "cell_type": "code",
   "execution_count": null,
   "metadata": {},
   "outputs": [],
   "source": []
  },
  {
   "cell_type": "code",
   "execution_count": 54,
   "metadata": {},
   "outputs": [],
   "source": [
    "df  =pl.DataFrame({\"value\": range(1, 101)})"
   ]
  },
  {
   "cell_type": "code",
   "execution_count": null,
   "metadata": {},
   "outputs": [],
   "source": [
    "df[3:]"
   ]
  },
  {
   "cell_type": "code",
   "execution_count": null,
   "metadata": {},
   "outputs": [],
   "source": []
  }
 ],
 "metadata": {
  "kernelspec": {
   "display_name": ".venv",
   "language": "python",
   "name": "python3"
  },
  "language_info": {
   "codemirror_mode": {
    "name": "ipython",
    "version": 3
   },
   "file_extension": ".py",
   "mimetype": "text/x-python",
   "name": "python",
   "nbconvert_exporter": "python",
   "pygments_lexer": "ipython3",
   "version": "3.10.14"
  }
 },
 "nbformat": 4,
 "nbformat_minor": 2
}
