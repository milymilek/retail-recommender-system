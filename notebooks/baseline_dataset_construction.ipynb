{
 "cells": [
  {
   "cell_type": "code",
   "execution_count": 1,
   "metadata": {},
   "outputs": [],
   "source": [
    "%load_ext autoreload\n",
    "%autoreload 2\n",
    "\n",
    "import IPython\n",
    "from pathlib import Path\n",
    "import os\n",
    "locals = IPython.extract_module_locals() # type: ignore\n",
    "notebook_name = \"/\".join(locals[1][\"__vsc_ipynb_file__\"].split(\"/\"))\n",
    "os.chdir(Path(notebook_name).parent.parent)"
   ]
  },
  {
   "cell_type": "code",
   "execution_count": 2,
   "metadata": {},
   "outputs": [],
   "source": [
    "from pathlib import Path\n",
    "\n",
    "import numpy as np\n",
    "import polars as pl\n",
    "import pandas as pd"
   ]
  },
  {
   "cell_type": "code",
   "execution_count": 3,
   "metadata": {},
   "outputs": [],
   "source": [
    "# Read csv\n",
    "relations = pl.read_csv(\".data/base/transactions_train.csv\", try_parse_dates=True)\n",
    "users = pl.read_csv(\".data/base/customers.csv\")\n",
    "articles = pl.read_csv(\".data/base/articles.csv\")"
   ]
  },
  {
   "cell_type": "code",
   "execution_count": 4,
   "metadata": {},
   "outputs": [],
   "source": [
    "# Create a mapping from the original id to a new id\n",
    "users = users.with_columns(customer_id_map=pl.col(\"customer_id\").cast(pl.Categorical).to_physical())\n",
    "articles = articles.with_columns(article_id_map=pl.col(\"article_id\").cast(pl.String).cast(pl.Categorical).to_physical())\n",
    "\n",
    "Path(\".data/intermediate\").mkdir(exist_ok=True)\n",
    "users_id_map = users.select(\"customer_id\", \"customer_id_map\").unique()\n",
    "articles_id_map = articles.select(\"article_id\", \"article_id_map\").unique()\n",
    "for c, id_map in zip([\"customer_id\", \"article_id\"], [users_id_map, articles_id_map]):\n",
    "    id_map.write_parquet(f\".data/intermediate/{c}_id_map.parquet\")\n",
    "\n",
    "assert users.select(\"customer_id_map\").n_unique() == (users.get_column(\"customer_id_map\").max() + 1) # type: ignore\n",
    "assert articles.select(\"article_id_map\").n_unique() == (articles.get_column(\"article_id_map\").max() + 1) # type: ignore"
   ]
  },
  {
   "cell_type": "code",
   "execution_count": 5,
   "metadata": {},
   "outputs": [],
   "source": [
    "# Add path column to articles\n",
    "article_path_tuple_list = [(int(i.stem), str(i)) for i in Path(\".data/base/images\").rglob(\"*.jpg\")]\n",
    "articles_path_map = pl.DataFrame({\n",
    "    \"article_id\": [i[0] for i in article_path_tuple_list], \n",
    "    \"path\": [i[1] for i in article_path_tuple_list]\n",
    "})\n",
    "articles = articles.join(articles_path_map, on=\"article_id\", how=\"left\")"
   ]
  },
  {
   "cell_type": "code",
   "execution_count": 6,
   "metadata": {},
   "outputs": [],
   "source": [
    "# Add mapping columns to relations\n",
    "relations = relations \\\n",
    "    .sort(\"t_dat\") \\\n",
    "    .join(users_id_map, on=\"customer_id\", how=\"left\") \\\n",
    "    .join(articles_id_map, on=\"article_id\", how=\"left\")"
   ]
  },
  {
   "cell_type": "code",
   "execution_count": 7,
   "metadata": {},
   "outputs": [],
   "source": [
    "# Write files to parquet\n",
    "users.write_parquet(\".data/intermediate/users.parquet\")\n",
    "articles.write_parquet(\".data/intermediate/articles.parquet\")\n",
    "relations.write_parquet(\".data/intermediate/relations.parquet\")"
   ]
  },
  {
   "cell_type": "code",
   "execution_count": null,
   "metadata": {},
   "outputs": [],
   "source": [
    "articles"
   ]
  },
  {
   "cell_type": "code",
   "execution_count": null,
   "metadata": {},
   "outputs": [],
   "source": [
    "# Optional: Check image paths of the articles\n",
    "def to_pandas_hyperlink(df: pl.DataFrame, path_col: str) -> pd.DataFrame:\n",
    "    def fun(path): \n",
    "        f_url = os.path.basename(path)\n",
    "        path_corrected = f\"../{path}\"\n",
    "        return '<a href=\"{}\">{}</a>'.format(path_corrected, f_url) \n",
    "    df_pd = df.to_pandas()\n",
    "    return df_pd.style.format({path_col: fun}) # type: ignore\n",
    "\n",
    "to_pandas_hyperlink(articles.sample(100), \"path\")"
   ]
  },
  {
   "cell_type": "code",
   "execution_count": 10,
   "metadata": {},
   "outputs": [],
   "source": []
  },
  {
   "cell_type": "code",
   "execution_count": null,
   "metadata": {},
   "outputs": [],
   "source": []
  }
 ],
 "metadata": {
  "kernelspec": {
   "display_name": ".venv",
   "language": "python",
   "name": "python3"
  },
  "language_info": {
   "codemirror_mode": {
    "name": "ipython",
    "version": 3
   },
   "file_extension": ".py",
   "mimetype": "text/x-python",
   "name": "python",
   "nbconvert_exporter": "python",
   "pygments_lexer": "ipython3",
   "version": "3.10.14"
  }
 },
 "nbformat": 4,
 "nbformat_minor": 2
}
